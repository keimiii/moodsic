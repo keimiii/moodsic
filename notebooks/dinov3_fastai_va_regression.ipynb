{
 "cells": [
  {
   "cell_type": "markdown",
   "id": "ef119572",
   "metadata": {},
   "source": [
    "\n",
    "# DINOv3 → Fastai Regression Head (Valence–Arousal)\n",
    "\n",
    "This notebook shows how to **freeze a DINOv3 backbone** (from 🤗 Transformers) and train a **small regression head** in **fastai** for **valence–arousal (V-A)** prediction.\n",
    "\n",
    "- Targets are expected in **FindingEmo** units: **V∈[-3,3]**, **A∈[0,6]**.  \n",
    "- For training we map to a unit space: **v_unit = (v+3)/6**, **a_unit = a/6** → both in **[0,1]**.  \n",
    "- We compute **CCC** (Concordance Corr. Coefficient) per-dimension and the mean CCC.  \n",
    "- Backbone remains **frozen**; only the tiny head trains."
   ]
  },
  {
   "cell_type": "code",
   "execution_count": 1,
   "id": "a117fc74",
   "metadata": {},
   "outputs": [],
   "source": [
    "# --- Install latest libraries (uncomment if needed) ---\n",
    "# %pip install -U torch torchvision torchaudio\n",
    "# %pip install -U fastai transformers timm torchmetrics datasets\n",
    "# %pip install -U accelerate\n",
    "#\n",
    "# If you're on Apple Silicon and want MPS acceleration, make sure your PyTorch build supports MPS.\n",
    "# See: https://pytorch.org/get-started/locally/\n"
   ]
  },
  {
   "cell_type": "markdown",
   "id": "8788dbf5",
   "metadata": {},
   "source": [
    "# Import Libs"
   ]
  },
  {
   "cell_type": "code",
   "execution_count": 2,
   "id": "54646240",
   "metadata": {},
   "outputs": [
    {
     "data": {
      "text/plain": [
       "device(type='mps')"
      ]
     },
     "execution_count": 2,
     "metadata": {},
     "output_type": "execute_result"
    }
   ],
   "source": [
    "from __future__ import annotations\n",
    "\n",
    "import os, math, random, shutil, json\n",
    "from pathlib import Path\n",
    "import numpy as np\n",
    "import pandas as pd\n",
    "\n",
    "import torch\n",
    "from torch import nn\n",
    "import torch.nn.functional as F\n",
    "\n",
    "# Fastai\n",
    "from fastai.vision.all import *\n",
    "from PIL import Image, ImageOps\n",
    "\n",
    "# Transformers\n",
    "from transformers import AutoImageProcessor, AutoModel\n",
    "\n",
    "# Metrics\n",
    "from torchmetrics.functional.regression import concordance_corrcoef as ccc_fn\n",
    "\n",
    "# Device (prefers Apple MPS on M-series Macs)\n",
    "if torch.backends.mps.is_available():\n",
    "    device = torch.device(\"mps\")\n",
    "elif torch.cuda.is_available():\n",
    "    device = torch.device(\"cuda\")\n",
    "else:\n",
    "    device = torch.device(\"cpu\")\n",
    "\n",
    "torch.set_float32_matmul_precision(\"high\")\n",
    "device\n"
   ]
  },
  {
   "cell_type": "code",
   "execution_count": 3,
   "id": "9e0e70e8",
   "metadata": {},
   "outputs": [],
   "source": [
    "# Load environment variables\n",
    "from dotenv import load_dotenv\n",
    "\n",
    "load_dotenv()\n",
    "\n",
    "# Set HuggingFace token for authentication\n",
    "if \"HUGGINGFACE_TOKEN\" in os.environ:\n",
    "    from huggingface_hub import login\n",
    "\n",
    "    login(token=os.environ[\"HUGGINGFACE_TOKEN\"])"
   ]
  },
  {
   "cell_type": "markdown",
   "id": "8a9ac104",
   "metadata": {},
   "source": [
    "# Config"
   ]
  },
  {
   "cell_type": "code",
   "execution_count": 4,
   "id": "d801e2cf",
   "metadata": {},
   "outputs": [],
   "source": [
    "MODEL_NAME = \"facebook/dinov3-vitb16-pretrain-lvd1689m\"  # you can switch to vits16/vitsplus/vit7b16, etc.\n",
    "IMAGE_SIZE = 608\n",
    "BATCH_SIZE = 32\n",
    "NUM_WORKERS = 8\n",
    "EPOCHS = 2\n",
    "ALPHA_CCC = 0.7  # weight for CCC in the mixed loss: loss = ALPHA_CCC*(1-mean_ccc) + (1-ALPHA_CCC)*MSE\n",
    "\n",
    "# Use only a fraction of the dataset for faster experiments\n",
    "DATA_FRACTION = 0.2  # Only downsamples Training Data\n",
    "SAMPLE_SEED = 2025\n",
    "\n",
    "DATA_ROOT = Path(\"../data\")  # FindingEmo dataset root\n",
    "CSV_TRAIN = Path(\n",
    "    \"../data/train_clean.csv\"\n",
    ")  # CSV with columns: image_path,valence,arousal\n",
    "CSV_VALID = Path(\"../data/valid_clean.csv\")  # Validation split\n",
    "CSV_TEST = Path(\"../data/test_clean.csv\")  # Test split\n"
   ]
  },
  {
   "cell_type": "markdown",
   "id": "ba0aa9c1",
   "metadata": {},
   "source": [
    "# Load DINOv3 Processor + Backbone"
   ]
  },
  {
   "cell_type": "code",
   "execution_count": 5,
   "id": "6616fee6",
   "metadata": {},
   "outputs": [
    {
     "data": {
      "text/plain": [
       "768"
      ]
     },
     "execution_count": 5,
     "metadata": {},
     "output_type": "execute_result"
    }
   ],
   "source": [
    "processor = AutoImageProcessor.from_pretrained(MODEL_NAME)\n",
    "backbone = AutoModel.from_pretrained(MODEL_NAME)\n",
    "\n",
    "# Freeze backbone\n",
    "for p in backbone.parameters():\n",
    "    p.requires_grad = False\n",
    "\n",
    "backbone = backbone.to(device)\n",
    "backbone.eval()\n",
    "\n",
    "# Infer feature dim for the pooled output\n",
    "with torch.inference_mode():\n",
    "    # Create a single dummy image tensor with processor's expected size\n",
    "    dummy = torch.zeros(1, 3, IMAGE_SIZE, IMAGE_SIZE, dtype=torch.float32)\n",
    "    out = backbone(pixel_values=dummy.to(device))\n",
    "    feat_dim = None\n",
    "    if hasattr(out, \"pooler_output\") and (out.pooler_output is not None):\n",
    "        feat_dim = out.pooler_output.shape[-1]\n",
    "    else:\n",
    "        # Fallback: ViT CLS token (last_hidden_state[:, 0, :]) or spatial mean for ConvNext-like\n",
    "        if hasattr(out, \"last_hidden_state\") and out.last_hidden_state.ndim == 3:\n",
    "            feat_dim = out.last_hidden_state.shape[-1]\n",
    "        elif hasattr(out, \"last_hidden_state\") and out.last_hidden_state.ndim == 4:\n",
    "            feat_dim = out.last_hidden_state.shape[1]\n",
    "        else:\n",
    "            raise RuntimeError(\"Unable to determine DINOv3 feature dimension.\")\n",
    "feat_dim\n"
   ]
  },
  {
   "cell_type": "markdown",
   "id": "822a6682",
   "metadata": {},
   "source": [
    "## Why Change Scale?"
   ]
  },
  {
   "cell_type": "markdown",
   "id": "10dda2ae",
   "metadata": {},
   "source": [
    "\n",
    "+ Balanced targets: Valence is −3..3 and Arousal is 0..6. A simple head works best when both targets live on the same bounded range. Mapping both to [0,1] makes losses comparable and gradients stable.  \n",
    "\n",
    "+ Match the head: A sigmoid head naturally outputs [0,1]. If labels aren’t in that range, the head must learn offsets/scales, which slows learning and can saturate activations.  \n",
    "\n",
    "+ Apples-to-apples with baselines: FindingEmo baselines trained on [0,1] and evaluated back in FE units. Using the same recipe avoids misleadingly low metrics."
   ]
  },
  {
   "cell_type": "markdown",
   "id": "208a4c05",
   "metadata": {},
   "source": [
    "## How We Scale"
   ]
  },
  {
   "cell_type": "markdown",
   "id": "8489118e",
   "metadata": {},
   "source": [
    "+ Forward (to train): v_unit = (v + 3) / 6 maps −3..3 → 0..1; a_unit = a / 6 maps 0..6 → 0..1.  \n",
    "\n",
    "+ Backward (to report): v = 6·v_unit − 3; a = 6·a_unit.  \n",
    "\n",
    "+ Head: Adds sigmoid so predictions are already in [0,1]. We train with plain MSE on these unit targets.\n"
   ]
  },
  {
   "cell_type": "code",
   "execution_count": 6,
   "id": "7383d461",
   "metadata": {},
   "outputs": [],
   "source": [
    "def fe_to_ref(va: Tensor) -> Tensor:\n",
    "    \"Map FindingEmo V∈[-3,3], A∈[0,6] -> unit space [0,1]\"\n",
    "    v = (va[..., 0] + 3.0) / 6.0\n",
    "    a = va[..., 1] / 6.0\n",
    "    return torch.stack([v, a], dim=-1)\n",
    "\n",
    "\n",
    "def ref_to_fe(va_ref: Tensor) -> Tensor:\n",
    "    \"Inverse map: unit [0,1] -> FindingEmo units\"\n",
    "    v = va_ref[..., 0] * 6.0 - 3.0\n",
    "    a = va_ref[..., 1] * 6.0\n",
    "    return torch.stack([v, a], dim=-1)\n",
    "\n",
    "\n",
    "def ccc_mean(pred: Tensor, targ: Tensor) -> Tensor:\n",
    "    \"Mean CCC across V and A\"\n",
    "    # torchmetrics.functional returns per-output CCC for (N,2) inputs\n",
    "    c = ccc_fn(pred, targ)  # shape: (2,)\n",
    "    c = torch.nan_to_num(c, nan=0.0, posinf=0.0, neginf=0.0)\n",
    "    return c.mean()\n",
    "\n",
    "\n",
    "class CCCMixedLoss(nn.Module):\n",
    "    \"Mixed loss: alpha*(1-mean CCC) + (1-alpha)*MSE over the two dims\"\n",
    "\n",
    "    def __init__(self, alpha: float = 0.7):\n",
    "        super().__init__()\n",
    "        self.alpha = alpha\n",
    "\n",
    "    def forward(self, pred: Tensor, targ: Tensor) -> Tensor:\n",
    "        mse = F.mse_loss(pred, targ)\n",
    "        ccc = ccc_mean(pred, targ)\n",
    "        return self.alpha * (1.0 - ccc) + (1.0 - self.alpha) * mse\n"
   ]
  },
  {
   "cell_type": "markdown",
   "id": "ff093705",
   "metadata": {},
   "source": [
    "# Load FindingEmo dataset"
   ]
  },
  {
   "cell_type": "code",
   "execution_count": 7,
   "id": "f5d557cf",
   "metadata": {},
   "outputs": [
    {
     "data": {
      "text/plain": [
       "(2604,\n",
       " 2792,\n",
       " 2785,\n",
       "                                                              image_path  \\\n",
       " 2030   data/Run_2/Fearful students workplace/o-FEMALE-BOSS-facebook.jpg   \n",
       " 12856                     data/Run_2/Grateful babies fighting/tate2.jpg   \n",
       " \n",
       "        valence  arousal  \n",
       " 2030         1        2  \n",
       " 12856       -3        5  )"
      ]
     },
     "execution_count": 7,
     "metadata": {},
     "output_type": "execute_result"
    }
   ],
   "source": [
    "df_train = pd.read_csv(CSV_TRAIN)\n",
    "df_valid = pd.read_csv(CSV_VALID)\n",
    "df_test = pd.read_csv(CSV_TEST)\n",
    "\n",
    "# Optionally downsample only the TRAIN split to a fraction; keep valid/test full\n",
    "if DATA_FRACTION is not None and DATA_FRACTION < 1.0:\n",
    "    df_train = df_train.sample(frac=DATA_FRACTION, random_state=SAMPLE_SEED)\n",
    "\n",
    "# Show a peek\n",
    "len(df_train), len(df_valid), len(df_test), df_train.head(2)\n"
   ]
  },
  {
   "cell_type": "markdown",
   "id": "c4674a7a",
   "metadata": {},
   "source": [
    "## Data Preprocessing"
   ]
  },
  {
   "cell_type": "code",
   "execution_count": 8,
   "id": "c0976e4b",
   "metadata": {},
   "outputs": [],
   "source": [
    "# =======================\n",
    "# Fastai transform: apply HF processor per item\n",
    "# Aspect-preserving resize to ~800x600 then pad (letterbox)\n",
    "# =======================\n",
    "class HFProcessorTransform(Transform):\n",
    "    def __init__(self, processor, target_size=(800, 608), pad_color=0):\n",
    "        # target_size is (W, H) in pixels\n",
    "        self.processor = processor\n",
    "        self.target_size = target_size\n",
    "        self.pad_color = pad_color\n",
    "\n",
    "    def encodes(self, img: PILImage):\n",
    "        # Ensure PIL.Image\n",
    "        pil = img if isinstance(img, Image.Image) else PILImage.create(img)\n",
    "        target_w, target_h = self.target_size\n",
    "        w, h = pil.size\n",
    "        # Scale to fit within target while preserving aspect ratio\n",
    "        scale = min(target_w / max(1, w), target_h / max(1, h))\n",
    "        new_w = max(1, int(round(w * scale)))\n",
    "        new_h = max(1, int(round(h * scale)))\n",
    "        resized = pil.resize((new_w, new_h), resample=Image.Resampling.BILINEAR)\n",
    "        # Letterbox pad to target size, centered\n",
    "        canvas = Image.new(\"RGB\", (target_w, target_h), color=self.pad_color)\n",
    "        pad_left = (target_w - new_w) // 2\n",
    "        pad_top = (target_h - new_h) // 2\n",
    "        canvas.paste(resized, (pad_left, pad_top))\n",
    "        # Normalize with HF processor only (disable any internal resize/crop if supported)\n",
    "        try:\n",
    "            proc = self.processor(\n",
    "                images=np.array(canvas),\n",
    "                return_tensors=\"pt\",\n",
    "                do_resize=False,\n",
    "                do_center_crop=False,\n",
    "            )\n",
    "        except TypeError:\n",
    "            # Fallback for processors that don't accept control flags\n",
    "            proc = self.processor(images=np.array(canvas), return_tensors=\"pt\")\n",
    "        x = proc.pixel_values[0]\n",
    "        return TensorImage(x)\n",
    "\n",
    "\n",
    "# Label getter that reads FE units from df and maps to unit space [0,1]\n",
    "def get_y_ref(row):\n",
    "    va = torch.tensor([row[\"valence\"], row[\"arousal\"]], dtype=torch.float32)\n",
    "    return fe_to_ref(va)"
   ]
  },
  {
   "cell_type": "markdown",
   "id": "b4317c5b",
   "metadata": {},
   "source": [
    "## Define DataBlock & DataLoaders"
   ]
  },
  {
   "cell_type": "markdown",
   "id": "4e3bd806",
   "metadata": {},
   "source": [
    "🔹 What are Data Blocks?\n",
    "\n",
    "+ Definition: The Data Block API in fastai is a declarative pipeline for building datasets. It specifies how raw data is transformed into tensors ready for training.\n",
    "\n",
    "+ Purpose: It allows you to define:\n",
    "\n",
    "    + How to get items (e.g., list of image paths, rows from a CSV).\n",
    "\n",
    "    + How to split data (train/valid/test).\n",
    "\n",
    "    + How to label data (e.g., from folder name, CSV column).\n",
    "\n",
    "    + How to apply transforms (augmentations, normalization).\n",
    "\n",
    "Analogy: Think of it as a blueprint for preparing your dataset. Once defined, you can easily create datasets/loaders from different sources with the same structure."
   ]
  },
  {
   "cell_type": "markdown",
   "id": "dcf46e4d",
   "metadata": {},
   "source": [
    "🔹 What are Data Loaders?\n",
    "\n",
    "+ Definition: A DataLoader is an iterator that efficiently feeds batches of preprocessed data to your model during training and validation.\n",
    "\n",
    "+ Responsibilities:\n",
    "\n",
    "    + Handles batching (mini-batches instead of full dataset).\n",
    "\n",
    "    + Applies transforms on the fly (e.g., data augmentation).\n",
    "\n",
    "    + Manages shuffling, parallel processing (using workers), and device transfer (CPU → GPU).\n",
    "\n",
    "Output: Yields (x_batch, y_batch) tensors to the model."
   ]
  },
  {
   "cell_type": "markdown",
   "id": "e6b2ce3f",
   "metadata": {},
   "source": [
    "🔹 Why are they needed?\n",
    "\n",
    "Deep learning training loops need batches of tensors, but:\n",
    "\n",
    "+ Raw data (images, text, CSVs) often lives in heterogeneous formats (files, tables, nested folders).\n",
    "\n",
    "+ Preprocessing needs to be consistent and reproducible (resize, normalize, tokenize).\n",
    "\n",
    "Efficient training requires:\n",
    "\n",
    "+ Mini-batching (to fit in GPU memory).\n",
    "\n",
    "+ Shuffling (to break correlations).\n",
    "\n",
    "+ Parallel loading (so GPU isn’t waiting for CPU).\n",
    "\n",
    "+ Transform pipelines (on-the-fly augmentation).\n",
    "\n",
    "The Data Block + Data Loader system ensures all this happens smoothly.\n"
   ]
  },
  {
   "cell_type": "markdown",
   "id": "a0e478d0",
   "metadata": {},
   "source": [
    "🔹 Why not just load data directly into models?\n",
    "\n",
    "If you bypass them and load everything manually, you’d have to:\n",
    "\n",
    "+ Write your own batching logic.\n",
    "\n",
    "+ Handle shuffling & splits.\n",
    "\n",
    "+ Apply augmentations consistently.\n",
    "\n",
    "+ Manage GPU transfers.\n",
    "\n",
    "This is error-prone, repetitive, and inefficient. Models expect tensors of shape (batch_size, features, ...), not arbitrary images/text arrays.  \n",
    "\n",
    "So while it’s technically possible to feed raw NumPy arrays directly, you’d lose:\n",
    "\n",
    "+ Efficiency (no parallelized preloading).\n",
    "\n",
    "+ Flexibility (hard to switch datasets/splits).\n",
    "\n",
    "+ Reusability (need to rewrite data logic every project).\n",
    "\n",
    "+ Integration with training loops, metrics, and fastai callbacks."
   ]
  },
  {
   "cell_type": "code",
   "execution_count": 9,
   "id": "200f108a",
   "metadata": {},
   "outputs": [
    {
     "data": {
      "text/plain": [
       "(torch.Size([32, 3, 608, 800]), torch.Size([32, 2]))"
      ]
     },
     "execution_count": 9,
     "metadata": {},
     "output_type": "execute_result"
    }
   ],
   "source": [
    "# Compute target dims near 800x600, snapped to ViT patch size if available\n",
    "BASE_W, BASE_H = 800, 600\n",
    "patch = getattr(getattr(backbone, \"config\", None), \"patch_size\", None)\n",
    "if patch is None:\n",
    "    # Some configs nest it under patches.size (e.g., DeiT)\n",
    "    patch = getattr(\n",
    "        getattr(getattr(backbone, \"config\", None), \"patches\", None), \"size\", None\n",
    "    )\n",
    "if isinstance(patch, (list, tuple)) and len(patch) > 0:\n",
    "    patch = patch[0]\n",
    "if patch is None:\n",
    "    patch = 16  # default to ViT-B/16 (DINOv3)\n",
    "W = int(round(BASE_W / patch) * patch)\n",
    "H = int(round(BASE_H / patch) * patch)\n",
    "\n",
    "\n",
    "def df_to_dls(df_train, df_valid, bs=BATCH_SIZE, num_workers=NUM_WORKERS):\n",
    "    dblock = DataBlock(\n",
    "        blocks=(ImageBlock, RegressionBlock(n_out=2)),\n",
    "        # Prefix paths with project root relative to this notebook (../)\n",
    "        get_x=ColReader(\"image_path\", pref=\"../\"),\n",
    "        get_y=get_y_ref,\n",
    "        item_tfms=[HFProcessorTransform(processor, target_size=(W, H))],\n",
    "    )\n",
    "    dls = dblock.dataloaders(\n",
    "        df_train, valid_df=df_valid, bs=bs, num_workers=num_workers\n",
    "    )\n",
    "    return dls\n",
    "\n",
    "\n",
    "dls = df_to_dls(df_train, df_valid)\n",
    "dls.one_batch()[0].shape, dls.one_batch()[1].shape\n"
   ]
  },
  {
   "cell_type": "markdown",
   "id": "f6758c13",
   "metadata": {},
   "source": [
    "Verify input batch tensor shape:"
   ]
  },
  {
   "cell_type": "code",
   "execution_count": 10,
   "id": "dab29b7d",
   "metadata": {},
   "outputs": [
    {
     "name": "stdout",
     "output_type": "stream",
     "text": [
      "Computed target (W,H): (800, 608)\n",
      "Input tensor shape: (32, 3, 608, 800)\n"
     ]
    }
   ],
   "source": [
    "xb, yb = dls.one_batch()\n",
    "print(\"Computed target (W,H):\", (W, H))\n",
    "print(\"Input tensor shape:\", tuple(xb.shape))\n",
    "assert xb.shape[-2:] == (H, W), f\"Shape mismatch: {xb.shape[-2:]} vs {(H, W)}\"\n"
   ]
  },
  {
   "cell_type": "markdown",
   "id": "59fd2e57",
   "metadata": {},
   "source": [
    "# Model: Frozen DINOv3 + tiny MLP head"
   ]
  },
  {
   "cell_type": "code",
   "execution_count": 11,
   "id": "5c30efe7",
   "metadata": {},
   "outputs": [
    {
     "data": {
      "text/plain": [
       "DinoV3Regressor(\n",
       "  (backbone): DINOv3ViTModel(\n",
       "    (embeddings): DINOv3ViTEmbeddings(\n",
       "      (patch_embeddings): Conv2d(3, 768, kernel_size=(16, 16), stride=(16, 16))\n",
       "    )\n",
       "    (rope_embeddings): DINOv3ViTRopePositionEmbedding()\n",
       "    (layer): ModuleList(\n",
       "      (0-11): 12 x DINOv3ViTLayer(\n",
       "        (norm1): LayerNorm((768,), eps=1e-05, elementwise_affine=True)\n",
       "        (attention): DINOv3ViTAttention(\n",
       "          (k_proj): Linear(in_features=768, out_features=768, bias=False)\n",
       "          (v_proj): Linear(in_features=768, out_features=768, bias=True)\n",
       "          (q_proj): Linear(in_features=768, out_features=768, bias=True)\n",
       "          (o_proj): Linear(in_features=768, out_features=768, bias=True)\n",
       "        )\n",
       "        (layer_scale1): DINOv3ViTLayerScale()\n",
       "        (drop_path): Identity()\n",
       "        (norm2): LayerNorm((768,), eps=1e-05, elementwise_affine=True)\n",
       "        (mlp): DINOv3ViTMLP(\n",
       "          (up_proj): Linear(in_features=768, out_features=3072, bias=True)\n",
       "          (down_proj): Linear(in_features=3072, out_features=768, bias=True)\n",
       "          (act_fn): GELUActivation()\n",
       "        )\n",
       "        (layer_scale2): DINOv3ViTLayerScale()\n",
       "      )\n",
       "    )\n",
       "    (norm): LayerNorm((768,), eps=1e-05, elementwise_affine=True)\n",
       "  )\n",
       "  (head): Sequential(\n",
       "    (0): LayerNorm((768,), eps=1e-05, elementwise_affine=True)\n",
       "    (1): Dropout(p=0.1, inplace=False)\n",
       "    (2): Linear(in_features=768, out_features=512, bias=True)\n",
       "    (3): GELU(approximate='none')\n",
       "    (4): Linear(in_features=512, out_features=2, bias=True)\n",
       "    (5): Sigmoid()\n",
       "  )\n",
       ")"
      ]
     },
     "execution_count": 11,
     "metadata": {},
     "output_type": "execute_result"
    }
   ],
   "source": [
    "class DinoV3Regressor(nn.Module):\n",
    "    def __init__(\n",
    "        self,\n",
    "        backbone: nn.Module,\n",
    "        feat_dim: int,\n",
    "        hidden: int | None = None,\n",
    "        p: float = 0.0,\n",
    "    ):\n",
    "        super().__init__()\n",
    "        self.backbone = backbone\n",
    "        if hidden and hidden > 0:\n",
    "            self.head = nn.Sequential(\n",
    "                nn.LayerNorm(feat_dim),\n",
    "                nn.Dropout(p),\n",
    "                nn.Linear(feat_dim, hidden),\n",
    "                nn.GELU(),\n",
    "                nn.Linear(hidden, 2),\n",
    "                nn.Sigmoid(),\n",
    "            )\n",
    "        else:\n",
    "            self.head = nn.Sequential(\n",
    "                nn.LayerNorm(feat_dim),\n",
    "                nn.Dropout(p),\n",
    "                nn.Linear(feat_dim, 2),\n",
    "                nn.Sigmoid(),\n",
    "            )\n",
    "        # Ensure backbone is frozen\n",
    "        for p in self.backbone.parameters():\n",
    "            p.requires_grad = False\n",
    "\n",
    "    def forward(self, x: Tensor) -> Tensor:\n",
    "        # x: pixel_values [B,3,H,W] already processor-normalized\n",
    "        out = self.backbone(pixel_values=x)\n",
    "        if hasattr(out, \"pooler_output\") and (out.pooler_output is not None):\n",
    "            feats = out.pooler_output\n",
    "        else:\n",
    "            # CLS token (ViT) or spatial mean (ConvNeXt-like outputs)\n",
    "            if hasattr(out, \"last_hidden_state\") and out.last_hidden_state.ndim == 3:\n",
    "                feats = out.last_hidden_state[:, 0, :]\n",
    "            else:\n",
    "                # [B,C,H,W] -> global avg pool\n",
    "                feats = out.last_hidden_state.mean(dim=(-1, -2))\n",
    "        return self.head(feats)\n",
    "\n",
    "\n",
    "model = DinoV3Regressor(backbone, feat_dim, hidden=512, p=0.1).to(device)\n",
    "model\n"
   ]
  },
  {
   "cell_type": "code",
   "execution_count": 12,
   "id": "3d6cf9e4",
   "metadata": {},
   "outputs": [],
   "source": [
    "# =======================\n",
    "# Fastai metrics & loss\n",
    "# =======================\n",
    "def ccc_v(inp, targ):\n",
    "    # Compute CCC on FE units by inverse-transforming from [0,1]\n",
    "    pred_fe = ref_to_fe(inp)\n",
    "    targ_fe = ref_to_fe(targ)\n",
    "    return ccc_fn(pred_fe[:, 0], targ_fe[:, 0])\n",
    "\n",
    "\n",
    "def ccc_a(inp, targ):\n",
    "    # Compute CCC on FE units by inverse-transforming from [0,1]\n",
    "    pred_fe = ref_to_fe(inp)\n",
    "    targ_fe = ref_to_fe(targ)\n",
    "    return ccc_fn(pred_fe[:, 1], targ_fe[:, 1])\n",
    "\n",
    "\n",
    "def ccc_avg(inp, targ):\n",
    "    return (ccc_v(inp, targ) + ccc_a(inp, targ)) / 2\n",
    "\n",
    "\n",
    "def mse_fe(inp, targ):\n",
    "    # Report MSE in FE units (inverse-transformed)\n",
    "    pred_fe = ref_to_fe(inp)\n",
    "    targ_fe = ref_to_fe(targ)\n",
    "    return F.mse_loss(pred_fe, targ_fe)\n",
    "\n",
    "\n",
    "# Use plain MSE loss in [0,1] space for training\n",
    "loss_func = nn.MSELoss()\n",
    "metrics = [ccc_v, ccc_a, ccc_avg, mse_fe]\n"
   ]
  },
  {
   "cell_type": "markdown",
   "id": "5d097cc8",
   "metadata": {},
   "source": [
    "## Find Optimal LR"
   ]
  },
  {
   "cell_type": "code",
   "execution_count": 13,
   "id": "4736c147",
   "metadata": {},
   "outputs": [
    {
     "data": {
      "text/html": [
       "\n",
       "<style>\n",
       "    /* Turns off some styling */\n",
       "    progress {\n",
       "        /* gets rid of default border in Firefox and Opera. */\n",
       "        border: none;\n",
       "        /* Needs to be in here for Safari polyfill so background images work as expected. */\n",
       "        background-size: auto;\n",
       "    }\n",
       "    progress:not([value]), progress:not([value])::-webkit-progress-bar {\n",
       "        background: repeating-linear-gradient(45deg, #7e7e7e, #7e7e7e 10px, #5c5c5c 10px, #5c5c5c 20px);\n",
       "    }\n",
       "    .progress-bar-interrupted, .progress-bar-interrupted::-webkit-progress-bar {\n",
       "        background: #F44336;\n",
       "    }\n",
       "</style>\n"
      ],
      "text/plain": [
       "<IPython.core.display.HTML object>"
      ]
     },
     "metadata": {},
     "output_type": "display_data"
    },
    {
     "data": {
      "text/html": [],
      "text/plain": [
       "<IPython.core.display.HTML object>"
      ]
     },
     "metadata": {},
     "output_type": "display_data"
    },
    {
     "name": "stdout",
     "output_type": "stream",
     "text": [
      "Suggested LRs: 1.0964782268274575e-05 1.5848931980144698e-06\n"
     ]
    },
    {
     "data": {
      "text/plain": [
       "1.0964782268274575e-05"
      ]
     },
     "execution_count": 13,
     "metadata": {},
     "output_type": "execute_result"
    },
    {
     "data": {
      "image/png": "[encoded data removed]",
      "text/plain": [
       "<Figure size 640x480 with 1 Axes>"
      ]
     },
     "metadata": {},
     "output_type": "display_data"
    }
   ],
   "source": [
    "learn = Learner(\n",
    "    dls, model, loss_func=loss_func, metrics=metrics, cbs=[CSVLogger()]\n",
    ").to_fp32()\n",
    "\n",
    "# Choose optimizer and hyperparameters (FastAI will create Adam by default)\n",
    "# You can override like this:\n",
    "learn.opt_func = partial(Adam, wd=1e-2)\n",
    "# Find a good learning rate\n",
    "lr_min, lr_steep = learn.lr_find(suggest_funcs=(minimum, steep))\n",
    "print(\"Suggested LRs:\", lr_min, lr_steep)\n",
    "lr = float(lr_min)\n",
    "lr"
   ]
  },
  {
   "cell_type": "code",
   "execution_count": 14,
   "id": "lrfind_helper_subset",
   "metadata": {},
   "outputs": [],
   "source": [
    "# # Optional: LR finder with capped iterations for small subsets\n",
    "# lr_min2, lr_steep2 = learn.lr_find(\n",
    "#     suggest_funcs=(minimum, steep), num_it=min(100, len(dls.train))\n",
    "# )\n",
    "# print(\"Subset-safe Suggested LRs:\", lr_min2, lr_steep2)\n",
    "# # Optionally override lr for training below\n",
    "# lr = float(lr_min2)\n",
    "# lr\n"
   ]
  },
  {
   "cell_type": "markdown",
   "id": "d6986d00",
   "metadata": {},
   "source": [
    "## Fit One Cycle"
   ]
  },
  {
   "cell_type": "code",
   "execution_count": 15,
   "id": "9b9412b1",
   "metadata": {},
   "outputs": [
    {
     "data": {
      "text/html": [
       "\n",
       "<style>\n",
       "    /* Turns off some styling */\n",
       "    progress {\n",
       "        /* gets rid of default border in Firefox and Opera. */\n",
       "        border: none;\n",
       "        /* Needs to be in here for Safari polyfill so background images work as expected. */\n",
       "        background-size: auto;\n",
       "    }\n",
       "    progress:not([value]), progress:not([value])::-webkit-progress-bar {\n",
       "        background: repeating-linear-gradient(45deg, #7e7e7e, #7e7e7e 10px, #5c5c5c 10px, #5c5c5c 20px);\n",
       "    }\n",
       "    .progress-bar-interrupted, .progress-bar-interrupted::-webkit-progress-bar {\n",
       "        background: #F44336;\n",
       "    }\n",
       "</style>\n"
      ],
      "text/plain": [
       "<IPython.core.display.HTML object>"
      ]
     },
     "metadata": {},
     "output_type": "display_data"
    },
    {
     "data": {
      "text/html": [
       "<table border=\"1\" class=\"dataframe\">\n",
       "  <thead>\n",
       "    <tr style=\"text-align: left;\">\n",
       "      <th>epoch</th>\n",
       "      <th>train_loss</th>\n",
       "      <th>valid_loss</th>\n",
       "      <th>ccc_v</th>\n",
       "      <th>ccc_a</th>\n",
       "      <th>ccc_avg</th>\n",
       "      <th>mse_fe</th>\n",
       "      <th>time</th>\n",
       "    </tr>\n",
       "  </thead>\n",
       "  <tbody>\n",
       "    <tr>\n",
       "      <td>0</td>\n",
       "      <td>0.085948</td>\n",
       "      <td>0.080469</td>\n",
       "      <td>0.008639</td>\n",
       "      <td>-0.009669</td>\n",
       "      <td>-0.000515</td>\n",
       "      <td>2.896891</td>\n",
       "      <td>06:46</td>\n",
       "    </tr>\n",
       "    <tr>\n",
       "      <td>1</td>\n",
       "      <td>0.084300</td>\n",
       "      <td>0.080315</td>\n",
       "      <td>0.011246</td>\n",
       "      <td>-0.008730</td>\n",
       "      <td>0.001258</td>\n",
       "      <td>2.891336</td>\n",
       "      <td>06:52</td>\n",
       "    </tr>\n",
       "  </tbody>\n",
       "</table>"
      ],
      "text/plain": [
       "<IPython.core.display.HTML object>"
      ]
     },
     "metadata": {},
     "output_type": "display_data"
    }
   ],
   "source": [
    "learn.fit_one_cycle(EPOCHS, lr)"
   ]
  },
  {
   "cell_type": "markdown",
   "id": "d4c9d524",
   "metadata": {},
   "source": [
    "## How to Read Metrics"
   ]
  },
  {
   "cell_type": "code",
   "execution_count": 16,
   "id": "7e0c2904",
   "metadata": {},
   "outputs": [],
   "source": [
    "SCALE = 6.0  # both V and A divided by 6 for unit space\n",
    "SCALE_SQ = SCALE * SCALE  # 36.0\n",
    "\n",
    "\n",
    "def mse_fe_to_unit(mse_fe):\n",
    "    \"Convert FE-space MSE (original units) to unit-space [0,1] MSE.\"\n",
    "    return float(mse_fe) / SCALE_SQ\n"
   ]
  },
  {
   "cell_type": "code",
   "execution_count": 17,
   "id": "9ffa7dae",
   "metadata": {},
   "outputs": [
    {
     "data": {
      "text/plain": [
       "0.0757648888888889"
      ]
     },
     "execution_count": 17,
     "metadata": {},
     "output_type": "execute_result"
    }
   ],
   "source": [
    "mse_fe_to_unit(2.727536)"
   ]
  },
  {
   "cell_type": "markdown",
   "id": "1c535672",
   "metadata": {},
   "source": [
    "# Evaluate on Test Set"
   ]
  },
  {
   "cell_type": "code",
   "execution_count": 18,
   "id": "7791d827",
   "metadata": {},
   "outputs": [
    {
     "data": {
      "text/html": [
       "\n",
       "<style>\n",
       "    /* Turns off some styling */\n",
       "    progress {\n",
       "        /* gets rid of default border in Firefox and Opera. */\n",
       "        border: none;\n",
       "        /* Needs to be in here for Safari polyfill so background images work as expected. */\n",
       "        background-size: auto;\n",
       "    }\n",
       "    progress:not([value]), progress:not([value])::-webkit-progress-bar {\n",
       "        background: repeating-linear-gradient(45deg, #7e7e7e, #7e7e7e 10px, #5c5c5c 10px, #5c5c5c 20px);\n",
       "    }\n",
       "    .progress-bar-interrupted, .progress-bar-interrupted::-webkit-progress-bar {\n",
       "        background: #F44336;\n",
       "    }\n",
       "</style>\n"
      ],
      "text/plain": [
       "<IPython.core.display.HTML object>"
      ]
     },
     "metadata": {},
     "output_type": "display_data"
    },
    {
     "data": {
      "text/html": [],
      "text/plain": [
       "<IPython.core.display.HTML object>"
      ]
     },
     "metadata": {},
     "output_type": "display_data"
    },
    {
     "name": "stderr",
     "output_type": "stream",
     "text": [
      "/Users/desmondchoy/Projects/emo-rec/.venv/lib/python3.12/site-packages/torchmetrics/utilities/prints.py:43: UserWarning: The variance of predictions or target is close to zero. This can cause instability in Pearson correlationcoefficient, leading to wrong results. Consider re-scaling the input if possible or computing using alarger dtype (currently using torch.float32). Setting the correlation coefficient to nan.\n",
      "  warnings.warn(*args, **kwargs)\n"
     ]
    },
    {
     "data": {
      "text/plain": [
       "{'test_loss': 0.08282994478940964,\n",
       " 'test_ccc_v': nan,\n",
       " 'test_ccc_a': nan,\n",
       " 'test_ccc_avg': nan,\n",
       " 'test_mse': 2.9818780422210693}"
      ]
     },
     "execution_count": 18,
     "metadata": {},
     "output_type": "execute_result"
    }
   ],
   "source": [
    "# If your df_test actually contains the target columns:\n",
    "test_dl = dls.test_dl(df_test, with_labels=True)\n",
    "test_metrics = learn.validate(dl=test_dl)\n",
    "\n",
    "names = [\"test_loss\", \"test_ccc_v\", \"test_ccc_a\", \"test_ccc_avg\", \"test_mse\"]\n",
    "# Handle None values in metrics\n",
    "safe_metrics = [float(m) if m is not None else 0.0 for m in test_metrics]\n",
    "dict(zip(names, safe_metrics))\n"
   ]
  },
  {
   "cell_type": "markdown",
   "id": "3ea88ab2",
   "metadata": {},
   "source": [
    "**Root cause**: CCC uses Pearson correlation; if predictions or targets have near‑zero variance, CCC’s denominator goes to zero and torchmetrics returns NaN with a warning.  \n",
    "\n",
    "Above numbers corroborate this: test_loss 0.0828 in [0,1] space corresponds to test_mse ≈ 0.0828×36 = 2.98 in FE units, so scaling is fine; CCC NaN implies the model’s preds on the test set are (nearly) constant in at least one dim."
   ]
  },
  {
   "cell_type": "code",
   "execution_count": 21,
   "id": "d0a08c82",
   "metadata": {},
   "outputs": [
    {
     "data": {
      "text/plain": [
       "0.08282994561725193"
      ]
     },
     "execution_count": 21,
     "metadata": {},
     "output_type": "execute_result"
    }
   ],
   "source": [
    "mse_fe_to_unit(2.9818780422210693)"
   ]
  },
  {
   "cell_type": "markdown",
   "id": "cfb701d7",
   "metadata": {},
   "source": [
    "## Save head weights (state_dict) and full model if desired\n"
   ]
  },
  {
   "cell_type": "code",
   "execution_count": 19,
   "id": "868f961c",
   "metadata": {},
   "outputs": [
    {
     "data": {
      "text/plain": [
       "(Path('checkpoints/dinov3_head.pth'), True)"
      ]
     },
     "execution_count": 19,
     "metadata": {},
     "output_type": "execute_result"
    }
   ],
   "source": [
    "SAVE_DIR = Path(\"./checkpoints\")\n",
    "SAVE_DIR.mkdir(exist_ok=True)\n",
    "head_path = SAVE_DIR / \"dinov3_head.pth\"\n",
    "torch.save(model.head.state_dict(), head_path)\n",
    "\n",
    "# Optionally export the whole fastai Learner\n",
    "# learn.export(SAVE_DIR/\"learner.pkl\")\n",
    "\n",
    "head_path, head_path.exists()\n"
   ]
  },
  {
   "cell_type": "markdown",
   "id": "6c304428",
   "metadata": {},
   "source": [
    "# Inference helper (returns V,A in FE units)\n"
   ]
  },
  {
   "cell_type": "code",
   "execution_count": null,
   "id": "15879bde",
   "metadata": {},
   "outputs": [
    {
     "name": "stdout",
     "output_type": "stream",
     "text": [
      "Using: /Users/desmondchoy/Projects/emo-rec/data/Run_2/Violent seniors anniversary/NEWS_180519780_EP_-1_ZZVDLTYNMCGY.jpg\n"
     ]
    },
    {
     "data": {
      "text/plain": [
       "TensorImage([0.2487, 2.8921])"
      ]
     },
     "metadata": {},
     "output_type": "display_data"
    }
   ],
   "source": [
    "REPO_ROOT = (DATA_ROOT.parent).resolve()  # absolute repo root\n",
    "\n",
    "\n",
    "def resolve_from_root(p):\n",
    "    p = Path(p)\n",
    "    return p if p.is_absolute() else (REPO_ROOT / p)\n",
    "\n",
    "\n",
    "@torch.inference_mode()\n",
    "def predict_image(img_path: str | Path):\n",
    "    img_path = Path(img_path)\n",
    "    if not img_path.is_absolute():\n",
    "        img_path = resolve_from_root(img_path)  # resolve exactly once\n",
    "    if not img_path.exists():\n",
    "        raise FileNotFoundError(f\"Image not found: {img_path}\")\n",
    "    img = PILImage.create(str(img_path))\n",
    "    x = HFProcessorTransform(processor, target_size=(W, H))(img)\n",
    "    x = x.unsqueeze(0).to(device)\n",
    "    out_ref = model(x)\n",
    "    out_fe = ref_to_fe(out_ref.cpu())\n",
    "    return out_fe.squeeze(0)\n",
    "\n",
    "\n",
    "# Quick smoke test: choose first existing path and run\n",
    "for p in df_test[\"image_path\"].tolist():\n",
    "    p_abs = resolve_from_root(p)  # becomes absolute\n",
    "    if p_abs.exists():\n",
    "        print(\"Using:\", p_abs)\n",
    "        display(predict_image(p_abs))  # predict_image won’t re-resolve absolute paths\n",
    "        break\n",
    "else:\n",
    "    raise FileNotFoundError(\"No existing paths found in df_test['image_path'].\")\n"
   ]
  }
 ],
 "metadata": {
  "kernelspec": {
   "display_name": ".venv",
   "language": "python",
   "name": "python3"
  },
  "language_info": {
   "codemirror_mode": {
    "name": "ipython",
    "version": 3
   },
   "file_extension": ".py",
   "mimetype": "text/x-python",
   "name": "python",
   "nbconvert_exporter": "python",
   "pygments_lexer": "ipython3",
   "version": "3.12.11"
  }
 },
 "nbformat": 4,
 "nbformat_minor": 5
}
