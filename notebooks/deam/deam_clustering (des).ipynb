{
 "cells": [
  {
   "cell_type": "markdown",
   "id": "90f63bc7",
   "metadata": {},
   "source": [
    "# Import Libs"
   ]
  },
  {
   "cell_type": "code",
   "execution_count": 38,
   "id": "17e2a6bd",
   "metadata": {},
   "outputs": [],
   "source": [
    "import polars as pl\n",
    "import polars.selectors as cs\n",
    "from collections import Counter\n",
    "import re"
   ]
  },
  {
   "cell_type": "markdown",
   "id": "5b0ef459",
   "metadata": {},
   "source": [
    "# Import Annotations"
   ]
  },
  {
   "cell_type": "code",
   "execution_count": 2,
   "id": "d866bf2d",
   "metadata": {},
   "outputs": [
    {
     "data": {
      "text/plain": [
       "((1744, 5), (58, 13))"
      ]
     },
     "execution_count": 2,
     "metadata": {},
     "output_type": "execute_result"
    }
   ],
   "source": [
    "anno_1 = pl.read_csv(\"../../data/DEAM/static_annotations_averaged_songs_1_2000.csv\")\n",
    "anno_1 = anno_1.rename({col: col.strip() for col in anno_1.columns})\n",
    "\n",
    "anno_2 = pl.read_csv(\"../../data/DEAM/static_annotations_averaged_songs_2000_2058.csv\")\n",
    "anno_2 = anno_2.rename({col: col.strip() for col in anno_2.columns})\n",
    "\n",
    "anno_1.shape, anno_2.shape"
   ]
  },
  {
   "cell_type": "code",
   "execution_count": 3,
   "id": "c45155b1",
   "metadata": {},
   "outputs": [
    {
     "data": {
      "text/html": [
       "<div><style>\n",
       ".dataframe > thead > tr,\n",
       ".dataframe > tbody > tr {\n",
       "  text-align: right;\n",
       "  white-space: pre-wrap;\n",
       "}\n",
       "</style>\n",
       "<small>shape: (1_744, 5)</small><table border=\"1\" class=\"dataframe\"><thead><tr><th>song_id</th><th>valence_mean</th><th>valence_std</th><th>arousal_mean</th><th>arousal_std</th></tr><tr><td>i64</td><td>f64</td><td>f64</td><td>f64</td><td>f64</td></tr></thead><tbody><tr><td>2</td><td>3.1</td><td>0.94</td><td>3.0</td><td>0.63</td></tr><tr><td>3</td><td>3.5</td><td>1.75</td><td>3.3</td><td>1.62</td></tr><tr><td>4</td><td>5.7</td><td>1.42</td><td>5.5</td><td>1.63</td></tr><tr><td>5</td><td>4.4</td><td>2.01</td><td>5.3</td><td>1.85</td></tr><tr><td>7</td><td>5.8</td><td>1.47</td><td>6.4</td><td>1.69</td></tr><tr><td>&hellip;</td><td>&hellip;</td><td>&hellip;</td><td>&hellip;</td><td>&hellip;</td></tr><tr><td>1996</td><td>3.9</td><td>1.87</td><td>5.9</td><td>2.21</td></tr><tr><td>1997</td><td>5.3</td><td>1.42</td><td>3.9</td><td>1.14</td></tr><tr><td>1998</td><td>6.4</td><td>1.5</td><td>6.2</td><td>1.6</td></tr><tr><td>1999</td><td>4.6</td><td>2.11</td><td>5.4</td><td>1.8</td></tr><tr><td>2000</td><td>5.8</td><td>1.78</td><td>6.0</td><td>1.67</td></tr></tbody></table></div>"
      ],
      "text/plain": [
       "shape: (1_744, 5)\n",
       "┌─────────┬──────────────┬─────────────┬──────────────┬─────────────┐\n",
       "│ song_id ┆ valence_mean ┆ valence_std ┆ arousal_mean ┆ arousal_std │\n",
       "│ ---     ┆ ---          ┆ ---         ┆ ---          ┆ ---         │\n",
       "│ i64     ┆ f64          ┆ f64         ┆ f64          ┆ f64         │\n",
       "╞═════════╪══════════════╪═════════════╪══════════════╪═════════════╡\n",
       "│ 2       ┆ 3.1          ┆ 0.94        ┆ 3.0          ┆ 0.63        │\n",
       "│ 3       ┆ 3.5          ┆ 1.75        ┆ 3.3          ┆ 1.62        │\n",
       "│ 4       ┆ 5.7          ┆ 1.42        ┆ 5.5          ┆ 1.63        │\n",
       "│ 5       ┆ 4.4          ┆ 2.01        ┆ 5.3          ┆ 1.85        │\n",
       "│ 7       ┆ 5.8          ┆ 1.47        ┆ 6.4          ┆ 1.69        │\n",
       "│ …       ┆ …            ┆ …           ┆ …            ┆ …           │\n",
       "│ 1996    ┆ 3.9          ┆ 1.87        ┆ 5.9          ┆ 2.21        │\n",
       "│ 1997    ┆ 5.3          ┆ 1.42        ┆ 3.9          ┆ 1.14        │\n",
       "│ 1998    ┆ 6.4          ┆ 1.5         ┆ 6.2          ┆ 1.6         │\n",
       "│ 1999    ┆ 4.6          ┆ 2.11        ┆ 5.4          ┆ 1.8         │\n",
       "│ 2000    ┆ 5.8          ┆ 1.78        ┆ 6.0          ┆ 1.67        │\n",
       "└─────────┴──────────────┴─────────────┴──────────────┴─────────────┘"
      ]
     },
     "metadata": {},
     "output_type": "display_data"
    },
    {
     "data": {
      "text/html": [
       "<div><style>\n",
       ".dataframe > thead > tr,\n",
       ".dataframe > tbody > tr {\n",
       "  text-align: right;\n",
       "  white-space: pre-wrap;\n",
       "}\n",
       "</style>\n",
       "<small>shape: (58, 13)</small><table border=\"1\" class=\"dataframe\"><thead><tr><th>song_id</th><th>valence_mean</th><th>valence_std</th><th>valence_ max_mean</th><th>valence_max_std</th><th>valence_min_mean</th><th>valence_min_std</th><th>arousal_mean</th><th>arousal_std</th><th>arousal_max_mean</th><th>arousal_max_std</th><th>arousal_min_mean</th><th>arousal_min_std</th></tr><tr><td>i64</td><td>f64</td><td>f64</td><td>f64</td><td>f64</td><td>f64</td><td>f64</td><td>f64</td><td>f64</td><td>f64</td><td>f64</td><td>f64</td><td>f64</td></tr></thead><tbody><tr><td>2001</td><td>3.2</td><td>0.98</td><td>5.0</td><td>1.41</td><td>2.2</td><td>0.98</td><td>6.6</td><td>0.8</td><td>8.6</td><td>0.49</td><td>3.4</td><td>1.02</td></tr><tr><td>2002</td><td>6.4</td><td>0.49</td><td>8.2</td><td>0.98</td><td>5.0</td><td>1.1</td><td>5.2</td><td>1.17</td><td>7.4</td><td>1.36</td><td>2.2</td><td>1.17</td></tr><tr><td>2003</td><td>5.4</td><td>1.5</td><td>7.2</td><td>1.17</td><td>3.4</td><td>1.02</td><td>4.6</td><td>1.85</td><td>6.2</td><td>2.04</td><td>1.4</td><td>0.49</td></tr><tr><td>2004</td><td>5.0</td><td>1.1</td><td>6.4</td><td>1.02</td><td>3.2</td><td>1.17</td><td>4.8</td><td>1.6</td><td>6.0</td><td>2.28</td><td>2.8</td><td>0.98</td></tr><tr><td>2005</td><td>3.8</td><td>1.17</td><td>5.0</td><td>1.1</td><td>1.6</td><td>0.8</td><td>5.2</td><td>0.75</td><td>8.4</td><td>0.8</td><td>2.0</td><td>1.1</td></tr><tr><td>&hellip;</td><td>&hellip;</td><td>&hellip;</td><td>&hellip;</td><td>&hellip;</td><td>&hellip;</td><td>&hellip;</td><td>&hellip;</td><td>&hellip;</td><td>&hellip;</td><td>&hellip;</td><td>&hellip;</td><td>&hellip;</td></tr><tr><td>2054</td><td>5.4</td><td>1.2</td><td>6.0</td><td>1.1</td><td>4.4</td><td>1.36</td><td>3.6</td><td>1.36</td><td>4.2</td><td>1.33</td><td>2.4</td><td>0.8</td></tr><tr><td>2055</td><td>5.0</td><td>1.41</td><td>6.0</td><td>1.41</td><td>4.2</td><td>1.33</td><td>5.2</td><td>1.47</td><td>6.4</td><td>1.62</td><td>4.0</td><td>1.41</td></tr><tr><td>2056</td><td>5.0</td><td>1.41</td><td>5.6</td><td>1.62</td><td>4.4</td><td>1.36</td><td>4.6</td><td>1.74</td><td>5.0</td><td>1.79</td><td>4.0</td><td>1.67</td></tr><tr><td>2057</td><td>3.17</td><td>1.07</td><td>4.5</td><td>0.76</td><td>2.17</td><td>0.9</td><td>6.83</td><td>0.37</td><td>8.17</td><td>0.9</td><td>4.83</td><td>1.46</td></tr><tr><td>2058</td><td>3.8</td><td>0.75</td><td>4.6</td><td>0.8</td><td>2.8</td><td>0.75</td><td>5.8</td><td>1.17</td><td>7.4</td><td>0.8</td><td>3.8</td><td>1.17</td></tr></tbody></table></div>"
      ],
      "text/plain": [
       "shape: (58, 13)\n",
       "┌─────────┬────────────┬───────────┬───────────┬───┬───────────┬───────────┬───────────┬───────────┐\n",
       "│ song_id ┆ valence_me ┆ valence_s ┆ valence_  ┆ … ┆ arousal_m ┆ arousal_m ┆ arousal_m ┆ arousal_m │\n",
       "│ ---     ┆ an         ┆ td        ┆ max_mean  ┆   ┆ ax_mean   ┆ ax_std    ┆ in_mean   ┆ in_std    │\n",
       "│ i64     ┆ ---        ┆ ---       ┆ ---       ┆   ┆ ---       ┆ ---       ┆ ---       ┆ ---       │\n",
       "│         ┆ f64        ┆ f64       ┆ f64       ┆   ┆ f64       ┆ f64       ┆ f64       ┆ f64       │\n",
       "╞═════════╪════════════╪═══════════╪═══════════╪═══╪═══════════╪═══════════╪═══════════╪═══════════╡\n",
       "│ 2001    ┆ 3.2        ┆ 0.98      ┆ 5.0       ┆ … ┆ 8.6       ┆ 0.49      ┆ 3.4       ┆ 1.02      │\n",
       "│ 2002    ┆ 6.4        ┆ 0.49      ┆ 8.2       ┆ … ┆ 7.4       ┆ 1.36      ┆ 2.2       ┆ 1.17      │\n",
       "│ 2003    ┆ 5.4        ┆ 1.5       ┆ 7.2       ┆ … ┆ 6.2       ┆ 2.04      ┆ 1.4       ┆ 0.49      │\n",
       "│ 2004    ┆ 5.0        ┆ 1.1       ┆ 6.4       ┆ … ┆ 6.0       ┆ 2.28      ┆ 2.8       ┆ 0.98      │\n",
       "│ 2005    ┆ 3.8        ┆ 1.17      ┆ 5.0       ┆ … ┆ 8.4       ┆ 0.8       ┆ 2.0       ┆ 1.1       │\n",
       "│ …       ┆ …          ┆ …         ┆ …         ┆ … ┆ …         ┆ …         ┆ …         ┆ …         │\n",
       "│ 2054    ┆ 5.4        ┆ 1.2       ┆ 6.0       ┆ … ┆ 4.2       ┆ 1.33      ┆ 2.4       ┆ 0.8       │\n",
       "│ 2055    ┆ 5.0        ┆ 1.41      ┆ 6.0       ┆ … ┆ 6.4       ┆ 1.62      ┆ 4.0       ┆ 1.41      │\n",
       "│ 2056    ┆ 5.0        ┆ 1.41      ┆ 5.6       ┆ … ┆ 5.0       ┆ 1.79      ┆ 4.0       ┆ 1.67      │\n",
       "│ 2057    ┆ 3.17       ┆ 1.07      ┆ 4.5       ┆ … ┆ 8.17      ┆ 0.9       ┆ 4.83      ┆ 1.46      │\n",
       "│ 2058    ┆ 3.8        ┆ 0.75      ┆ 4.6       ┆ … ┆ 7.4       ┆ 0.8       ┆ 3.8       ┆ 1.17      │\n",
       "└─────────┴────────────┴───────────┴───────────┴───┴───────────┴───────────┴───────────┴───────────┘"
      ]
     },
     "metadata": {},
     "output_type": "display_data"
    }
   ],
   "source": [
    "display(anno_1, anno_2)"
   ]
  },
  {
   "cell_type": "code",
   "execution_count": 11,
   "id": "49a3fabd",
   "metadata": {},
   "outputs": [],
   "source": [
    "all_annotations = pl.concat(\n",
    "    [\n",
    "        anno_1,\n",
    "        anno_2.select(\n",
    "            \"song_id\", \"valence_mean\", \"valence_std\", \"arousal_mean\", \"arousal_std\"\n",
    "        ),\n",
    "    ],\n",
    "    how=\"vertical\",\n",
    ")\n"
   ]
  },
  {
   "cell_type": "markdown",
   "id": "b95da690",
   "metadata": {},
   "source": [
    "# Import Metadata"
   ]
  },
  {
   "cell_type": "code",
   "execution_count": 5,
   "id": "03674ad0",
   "metadata": {},
   "outputs": [],
   "source": [
    "metadata_2013 = pl.read_csv(\"../../data/DEAM/metadata_2013.csv\")\n",
    "metadata_2014 = pl.read_csv(\n",
    "    \"../../data/DEAM/metadata_2014.csv\", truncate_ragged_lines=True\n",
    ")\n",
    "metadata_2015 = pl.read_csv(\n",
    "    \"../../data/DEAM/metadata_2015.csv\", truncate_ragged_lines=True\n",
    ")"
   ]
  },
  {
   "cell_type": "code",
   "execution_count": 6,
   "id": "902e8ca2",
   "metadata": {},
   "outputs": [],
   "source": [
    "metadata_2013 = (\n",
    "    metadata_2013.select(\"song_id\", \"Artist\", \"Song title\", \"Genre\")\n",
    "    .rename({\"Artist\": \"artist\", \"Song title\": \"song_title\", \"Genre\": \"genre\"})\n",
    "    .with_columns(\n",
    "        pl.col(pl.Utf8)\n",
    "        .str.replace_all(\"\\u00a0\", \" \")  # normalize non-breaking spaces if present\n",
    "        .str.strip_chars()  # strip whitespace (space, tab, newline, etc.)\n",
    "        .str.strip_chars('\"')  # then strip leading/trailing double quotes\n",
    "    )\n",
    ")"
   ]
  },
  {
   "cell_type": "code",
   "execution_count": 7,
   "id": "a63c94cd",
   "metadata": {},
   "outputs": [],
   "source": [
    "metadata_2014 = (\n",
    "    metadata_2014.select(\"Id\", \"Artist\", \"Track\", \"Genre\")\n",
    "    .rename(\n",
    "        {\n",
    "            \"Id\": \"song_id\",\n",
    "            \"Artist\": \"artist\",\n",
    "            \"Track\": \"song_title\",\n",
    "            \"Genre\": \"genre\",\n",
    "        }\n",
    "    )\n",
    "    .with_columns(\n",
    "        pl.col(pl.Utf8)\n",
    "        .str.replace_all(\"\\u00a0\", \" \")  # normalize non-breaking spaces if present\n",
    "        .str.strip_chars()  # strip whitespace (space, tab, newline, etc.)\n",
    "        .str.strip_chars('\"')  # then strip leading/trailing double quotes\n",
    "    )\n",
    ")"
   ]
  },
  {
   "cell_type": "code",
   "execution_count": 8,
   "id": "3f2ecfb5",
   "metadata": {},
   "outputs": [],
   "source": [
    "metadata_2015 = (\n",
    "    metadata_2015.select(\"id\", \"artist\", \"title\", \"genre\")\n",
    "    .rename(\n",
    "        {\n",
    "            \"id\": \"song_id\",\n",
    "            \"title\": \"song_title\",\n",
    "        }\n",
    "    )\n",
    "    .with_columns(\n",
    "        pl.col(pl.Utf8)\n",
    "        .str.replace_all(\"\\u00a0\", \" \")  # normalize non-breaking spaces if present\n",
    "        .str.strip_chars()  # strip whitespace (space, tab, newline, etc.)\n",
    "        .str.strip_chars('\"')  # then strip leading/trailing double quotes\n",
    "    )\n",
    ")"
   ]
  },
  {
   "cell_type": "code",
   "execution_count": null,
   "id": "99b64bea",
   "metadata": {},
   "outputs": [],
   "source": [
    "all_metadata = pl.concat(\n",
    "    [metadata_2013, metadata_2014, metadata_2015],\n",
    "    how=\"vertical\",\n",
    ")"
   ]
  },
  {
   "cell_type": "markdown",
   "id": "b1575e03",
   "metadata": {},
   "source": [
    "# Join"
   ]
  },
  {
   "cell_type": "code",
   "execution_count": 21,
   "id": "6de71aca",
   "metadata": {},
   "outputs": [
    {
     "data": {
      "text/html": [
       "<div><style>\n",
       ".dataframe > thead > tr,\n",
       ".dataframe > tbody > tr {\n",
       "  text-align: right;\n",
       "  white-space: pre-wrap;\n",
       "}\n",
       "</style>\n",
       "<small>shape: (1_802, 8)</small><table border=\"1\" class=\"dataframe\"><thead><tr><th>song_id</th><th>valence_mean</th><th>valence_std</th><th>arousal_mean</th><th>arousal_std</th><th>artist</th><th>song_title</th><th>genre</th></tr><tr><td>i64</td><td>f64</td><td>f64</td><td>f64</td><td>f64</td><td>str</td><td>str</td><td>str</td></tr></thead><tbody><tr><td>2</td><td>3.1</td><td>0.94</td><td>3.0</td><td>0.63</td><td>&quot;The New Mystikal Troubadours&quot;</td><td>&quot;Tonight&nbsp;&nbsp;A Lonely Century&quot;</td><td>&quot;blues&quot;</td></tr><tr><td>3</td><td>3.5</td><td>1.75</td><td>3.3</td><td>1.62</td><td>&quot;Kevin MacLeod&quot;</td><td>&quot;DD Groove&quot;</td><td>&quot;blues&quot;</td></tr><tr><td>4</td><td>5.7</td><td>1.42</td><td>5.5</td><td>1.63</td><td>&quot;Kevin MacLeod&quot;</td><td>&quot;Slow Burn&quot;</td><td>&quot;blues&quot;</td></tr><tr><td>5</td><td>4.4</td><td>2.01</td><td>5.3</td><td>1.85</td><td>&quot;My Bubba &amp; Mi&quot;</td><td>&quot;Nothing Much&quot;</td><td>&quot;blues&quot;</td></tr><tr><td>7</td><td>5.8</td><td>1.47</td><td>6.4</td><td>1.69</td><td>&quot;Kevin MacLeod&quot;</td><td>&quot;Hustle&quot;</td><td>&quot;blues&quot;</td></tr><tr><td>&hellip;</td><td>&hellip;</td><td>&hellip;</td><td>&hellip;</td><td>&hellip;</td><td>&hellip;</td><td>&hellip;</td><td>&hellip;</td></tr><tr><td>2054</td><td>5.4</td><td>1.2</td><td>3.6</td><td>1.36</td><td>&quot;Tom La Meche&quot;</td><td>&quot;Interlude&quot;</td><td>&quot;jazz&quot;</td></tr><tr><td>2055</td><td>5.0</td><td>1.41</td><td>5.2</td><td>1.47</td><td>&quot;Goo Goo Cluster&quot;</td><td>&quot;Vide grenier&quot;</td><td>&quot;reggae&quot;</td></tr><tr><td>2056</td><td>5.0</td><td>1.41</td><td>4.6</td><td>1.74</td><td>&quot;Ruediger Kramer&quot;</td><td>&quot;happy child singing&quot;</td><td>&quot;jazz&quot;</td></tr><tr><td>2057</td><td>3.17</td><td>1.07</td><td>6.83</td><td>0.37</td><td>&quot;La Verue&quot;</td><td>&quot;Au Feu&quot;</td><td>&quot;rock&quot;</td></tr><tr><td>2058</td><td>3.8</td><td>0.75</td><td>5.8</td><td>1.17</td><td>&quot;La Verue&quot;</td><td>&quot;Inside Views&quot;</td><td>&quot;rock&quot;</td></tr></tbody></table></div>"
      ],
      "text/plain": [
       "shape: (1_802, 8)\n",
       "┌─────────┬─────────────┬─────────────┬────────────┬────────────┬────────────┬────────────┬────────┐\n",
       "│ song_id ┆ valence_mea ┆ valence_std ┆ arousal_me ┆ arousal_st ┆ artist     ┆ song_title ┆ genre  │\n",
       "│ ---     ┆ n           ┆ ---         ┆ an         ┆ d          ┆ ---        ┆ ---        ┆ ---    │\n",
       "│ i64     ┆ ---         ┆ f64         ┆ ---        ┆ ---        ┆ str        ┆ str        ┆ str    │\n",
       "│         ┆ f64         ┆             ┆ f64        ┆ f64        ┆            ┆            ┆        │\n",
       "╞═════════╪═════════════╪═════════════╪════════════╪════════════╪════════════╪════════════╪════════╡\n",
       "│ 2       ┆ 3.1         ┆ 0.94        ┆ 3.0        ┆ 0.63       ┆ The New    ┆ Tonight  A ┆ blues  │\n",
       "│         ┆             ┆             ┆            ┆            ┆ Mystikal   ┆ Lonely     ┆        │\n",
       "│         ┆             ┆             ┆            ┆            ┆ Troubadour ┆ Century    ┆        │\n",
       "│         ┆             ┆             ┆            ┆            ┆ s          ┆            ┆        │\n",
       "│ 3       ┆ 3.5         ┆ 1.75        ┆ 3.3        ┆ 1.62       ┆ Kevin      ┆ DD Groove  ┆ blues  │\n",
       "│         ┆             ┆             ┆            ┆            ┆ MacLeod    ┆            ┆        │\n",
       "│ 4       ┆ 5.7         ┆ 1.42        ┆ 5.5        ┆ 1.63       ┆ Kevin      ┆ Slow Burn  ┆ blues  │\n",
       "│         ┆             ┆             ┆            ┆            ┆ MacLeod    ┆            ┆        │\n",
       "│ 5       ┆ 4.4         ┆ 2.01        ┆ 5.3        ┆ 1.85       ┆ My Bubba & ┆ Nothing    ┆ blues  │\n",
       "│         ┆             ┆             ┆            ┆            ┆ Mi         ┆ Much       ┆        │\n",
       "│ 7       ┆ 5.8         ┆ 1.47        ┆ 6.4        ┆ 1.69       ┆ Kevin      ┆ Hustle     ┆ blues  │\n",
       "│         ┆             ┆             ┆            ┆            ┆ MacLeod    ┆            ┆        │\n",
       "│ …       ┆ …           ┆ …           ┆ …          ┆ …          ┆ …          ┆ …          ┆ …      │\n",
       "│ 2054    ┆ 5.4         ┆ 1.2         ┆ 3.6        ┆ 1.36       ┆ Tom La     ┆ Interlude  ┆ jazz   │\n",
       "│         ┆             ┆             ┆            ┆            ┆ Meche      ┆            ┆        │\n",
       "│ 2055    ┆ 5.0         ┆ 1.41        ┆ 5.2        ┆ 1.47       ┆ Goo Goo    ┆ Vide       ┆ reggae │\n",
       "│         ┆             ┆             ┆            ┆            ┆ Cluster    ┆ grenier    ┆        │\n",
       "│ 2056    ┆ 5.0         ┆ 1.41        ┆ 4.6        ┆ 1.74       ┆ Ruediger   ┆ happy      ┆ jazz   │\n",
       "│         ┆             ┆             ┆            ┆            ┆ Kramer     ┆ child      ┆        │\n",
       "│         ┆             ┆             ┆            ┆            ┆            ┆ singing    ┆        │\n",
       "│ 2057    ┆ 3.17        ┆ 1.07        ┆ 6.83       ┆ 0.37       ┆ La Verue   ┆ Au Feu     ┆ rock   │\n",
       "│ 2058    ┆ 3.8         ┆ 0.75        ┆ 5.8        ┆ 1.17       ┆ La Verue   ┆ Inside     ┆ rock   │\n",
       "│         ┆             ┆             ┆            ┆            ┆            ┆ Views      ┆        │\n",
       "└─────────┴─────────────┴─────────────┴────────────┴────────────┴────────────┴────────────┴────────┘"
      ]
     },
     "execution_count": 21,
     "metadata": {},
     "output_type": "execute_result"
    }
   ],
   "source": [
    "merged = all_annotations.join(all_metadata, on=\"song_id\", how=\"left\").with_columns(\n",
    "    pl.col(\"genre\").str.to_lowercase().alias(\"genre\")\n",
    ")\n",
    "merged"
   ]
  },
  {
   "cell_type": "markdown",
   "id": "da526e1c",
   "metadata": {},
   "source": [
    "# Simplifying Genres"
   ]
  },
  {
   "cell_type": "code",
   "execution_count": 31,
   "id": "659cdbd6",
   "metadata": {},
   "outputs": [],
   "source": [
    "unique_genres = merged.select(\"genre\").unique().get_column(\"genre\").to_list()"
   ]
  },
  {
   "cell_type": "code",
   "execution_count": null,
   "id": "852ad342",
   "metadata": {},
   "outputs": [],
   "source": [
    "# 10 umbrella bins\n",
    "UMBRELLAS = [\n",
    "    \"rock\",\n",
    "    \"pop\",\n",
    "    \"hip-hop\",\n",
    "    \"electronic\",\n",
    "    \"jazz\",\n",
    "    \"classical\",\n",
    "    \"folk/country\",\n",
    "    \"blues/soul\",\n",
    "    \"world\",\n",
    "    \"other\",\n",
    "]\n"
   ]
  },
  {
   "cell_type": "code",
   "execution_count": 28,
   "id": "93e70131",
   "metadata": {},
   "outputs": [],
   "source": [
    "KEYWORD_TO_BIN = {\n",
    "    # core\n",
    "    \"rock\": \"rock\",\n",
    "    \"pop\": \"pop\",\n",
    "    \"hip-hop\": \"hip-hop\",\n",
    "    \"hiphop\": \"hip-hop\",\n",
    "    \"rap\": \"hip-hop\",\n",
    "    \"electronic\": \"electronic\",\n",
    "    \"jazz\": \"jazz\",\n",
    "    \"classical\": \"classical\",\n",
    "    \"folk\": \"folk/country\",\n",
    "    \"country\": \"folk/country\",\n",
    "    \"blues\": \"blues/soul\",\n",
    "    \"soulrb\": \"blues/soul\",\n",
    "    \"soul\": \"blues/soul\",\n",
    "    \"world\": \"world\",\n",
    "    \"reggae\": \"world\",\n",
    "    # helpful hints -> fold into umbrellas\n",
    "    \"acoustic\": \"folk/country\",\n",
    "    \"singer/songwriter\": \"folk/country\",\n",
    "    \"singersongwriter\": \"folk/country\",  # just in case\n",
    "    # noise/modifiers (we won’t map these; leave here for clarity):\n",
    "    # \"experimental\", \"instrumental\", \"international\", \"spoken\", \"fusion\"\n",
    "}\n",
    "\n",
    "# If multiple umbrellas tie, prefer earlier in this list:\n",
    "TIE_BREAK_PRIORITY = [\n",
    "    \"hip-hop\",\n",
    "    \"rock\",\n",
    "    \"pop\",\n",
    "    \"electronic\",\n",
    "    \"jazz\",\n",
    "    \"classical\",\n",
    "    \"folk/country\",\n",
    "    \"blues/soul\",\n",
    "    \"world\",\n",
    "    \"other\",\n",
    "]\n",
    "\n",
    "NOISE_WORDS = {\n",
    "    \"experimental\",\n",
    "    \"instrumental\",\n",
    "    \"international\",\n",
    "    \"spoken\",\n",
    "    \"fusion\",\n",
    "    \"n/a\",\n",
    "}\n"
   ]
  },
  {
   "cell_type": "code",
   "execution_count": 29,
   "id": "3b1d9be9",
   "metadata": {},
   "outputs": [],
   "source": [
    "def normalize_text(s: str) -> str:\n",
    "    s = (s or \"\").strip().lower()\n",
    "    # standardize separators\n",
    "    s = s.replace(\"/\", \"-\")\n",
    "    # compress whitespace and dashes\n",
    "    s = re.sub(r\"\\s+\", \" \", s)\n",
    "    s = re.sub(r\"-+\", \"-\", s)\n",
    "    return s\n",
    "\n",
    "\n",
    "def classify_genre(raw: str) -> str:\n",
    "    s = normalize_text(raw)\n",
    "\n",
    "    if not s or s in NOISE_WORDS or s == \"n/a\":\n",
    "        return \"other\"\n",
    "\n",
    "    votes = Counter()\n",
    "\n",
    "    # substring voting\n",
    "    for kw, bin_name in KEYWORD_TO_BIN.items():\n",
    "        if kw in s:\n",
    "            votes[bin_name] += 1\n",
    "\n",
    "    # if no keywords matched, try token-wise fallback\n",
    "    if not votes:\n",
    "        tokens = re.split(r\"[-\\s]+\", s)\n",
    "        tokens = [t for t in tokens if t and t not in NOISE_WORDS]\n",
    "        for t in tokens:\n",
    "            bin_name = KEYWORD_TO_BIN.get(t)\n",
    "            if bin_name:\n",
    "                votes[bin_name] += 1\n",
    "\n",
    "    if not votes:\n",
    "        # final fallback: heuristic keywords\n",
    "        if \"groove\" in s or \"bird of youth\" in s:\n",
    "            return \"other\"\n",
    "        return \"other\"\n",
    "\n",
    "    # choose the umbrella with max votes; break ties by priority\n",
    "    top_count = max(votes.values())\n",
    "    candidates = [b for b, c in votes.items() if c == top_count]\n",
    "    for pref in TIE_BREAK_PRIORITY:\n",
    "        if pref in candidates:\n",
    "            return pref\n",
    "    return \"other\"\n"
   ]
  },
  {
   "cell_type": "code",
   "execution_count": 32,
   "id": "24136db8",
   "metadata": {},
   "outputs": [
    {
     "name": "stdout",
     "output_type": "stream",
     "text": [
      "blues                                                        -> blues/soul\n",
      "international-folk-experimental-rock                         -> rock\n",
      "jazz                                                         -> jazz\n",
      "groove                                                       -> other\n",
      "classical-soulrb-folk                                        -> blues/soul\n",
      "electronic-rock                                              -> rock\n",
      "country-rock                                                 -> rock\n",
      "reggae                                                       -> world\n",
      "jazz-international-pop                                       -> pop\n",
      "classical-instrumental-electronic                            -> electronic\n",
      "folk-experimental-electronic-rock                            -> rock\n",
      "world                                                        -> world\n",
      "international-pop-rock                                       -> rock\n",
      "soulrb-blues-rock                                            -> blues/soul\n",
      "folk-electronic                                              -> electronic\n",
      "international-folk-rock                                      -> rock\n",
      "classical-jazz-experimental                                  -> jazz\n",
      "folk-pop-experimental                                        -> pop\n",
      "classical-country-jazz-folk-experimental                     -> folk/country\n",
      "jazz-international                                           -> jazz\n",
      "classical-instrumental-folk-experimental                     -> classical\n",
      "folk-experimental-electronic                                 -> electronic\n",
      "pop-electronic-rock                                          -> rock\n",
      "rap                                                          -> hip-hop\n",
      "country-instrumental-folk                                    -> folk/country\n",
      "soulrb-blues                                                 -> blues/soul\n",
      "classical-international-experimental-electronic              -> electronic\n",
      "country-pop-rock                                             -> rock\n",
      "folk-pop-experimental-rock                                   -> rock\n",
      "soulrb-electronic-rock                                       -> blues/soul\n",
      "international-folk                                           -> folk/country\n",
      "pop-experimental-electronic                                  -> pop\n",
      "folk-pop-rock                                                -> rock\n",
      "rock                                                         -> rock\n",
      "jazz-instrumental-pop-electronic                             -> pop\n",
      "bird of youth                                                -> other\n",
      "country-experimental-rock                                    -> rock\n",
      "jazz-hip-hop-electronic                                      -> hip-hop\n",
      "jazz-experimental-electronic-rock                            -> rock\n",
      "hip-hop                                                      -> hip-hop\n",
      "world/folk                                                   -> folk/country\n",
      "classical-instrumental-pop-experimental-electronic           -> pop\n",
      "international-pop-electronic                                 -> pop\n",
      "jazz-hip-hop                                                 -> hip-hop\n",
      "classical-experimental-electronic                            -> electronic\n",
      "classical-international-spoken                               -> classical\n",
      "classical-jazz                                               -> jazz\n",
      "international-electronic-rock                                -> rock\n",
      "soulrb-country-folk-pop-experimental-rock-blues              -> blues/soul\n",
      "international-rock                                           -> rock\n",
      "folk-rock                                                    -> rock\n",
      "classical-instrumental-experimental                          -> classical\n",
      "pop-experimental-rock                                        -> rock\n",
      "soulrb-electronic                                            -> blues/soul\n",
      "international                                                -> other\n",
      "international-folk-experimental                              -> folk/country\n",
      "classical-jazz-international-rock                            -> rock\n",
      "folk-experimental-rock                                       -> rock\n",
      "blues-soulrb-rock                                            -> blues/soul\n",
      "n/a                                                          -> other\n",
      "country-soulrb-pop                                           -> blues/soul\n",
      "soulrb-blues-international-electronic                        -> blues/soul\n",
      "hiphop                                                       -> hip-hop\n",
      "international-experimental                                   -> other\n",
      "classical-folk                                               -> classical\n",
      "jazz-rock                                                    -> rock\n",
      "soulrb-blues-folk                                            -> blues/soul\n",
      "jazz-experimental-rock                                       -> rock\n",
      "classical-instrumental                                       -> classical\n",
      "international-folk-electronic-rock                           -> rock\n",
      "classical-spoken                                             -> classical\n",
      "jazz-international-experimental                              -> jazz\n",
      "international-instrumental-experimental                      -> other\n",
      "soulrb-country-folk-pop-rock-blues                           -> blues/soul\n",
      "classical-experimental                                       -> classical\n",
      "soulrb-blues-folk-experimental-rock                          -> blues/soul\n",
      "hip-hop-pop-electronic                                       -> hip-hop\n",
      "soulrb                                                       -> blues/soul\n",
      "classical-electronic                                         -> electronic\n",
      "soulrb-blues-folk-experimental                               -> blues/soul\n",
      "classical-instrumental-experimental-spoken                   -> classical\n",
      "singer/songwriter                                            -> other\n",
      "soulrb-blues-jazz                                            -> blues/soul\n",
      "international-electronic                                     -> electronic\n",
      "country-international                                        -> folk/country\n",
      "folk-electronic-rock                                         -> rock\n",
      "country-international-rock                                   -> rock\n",
      "country-folk-rock                                            -> folk/country\n",
      "classical-pop-experimental-electronic                        -> pop\n",
      "jazz-hip-hop-rock                                            -> hip-hop\n",
      "soulrb-blues-pop-rock                                        -> blues/soul\n",
      "blues-soulrb                                                 -> blues/soul\n",
      "international-instrumental                                   -> other\n",
      "blues-country-soulrb-folk                                    -> blues/soul\n",
      "pop                                                          -> pop\n",
      "country-folk-pop-rock                                        -> folk/country\n",
      "jazz-instrumental-electronic                                 -> electronic\n",
      "hip-hop-instrumental-electronic                              -> hip-hop\n",
      "jazz-folk-pop-rock                                           -> rock\n",
      "pop-rock                                                     -> rock\n",
      "jazz-experimental                                            -> jazz\n",
      "country-spoken                                               -> folk/country\n",
      "folk-pop                                                     -> pop\n",
      "international-folk-pop-experimental-rock                     -> rock\n",
      "jazz-experimental-electronic                                 -> electronic\n",
      "hip-hop-experimental-electronic                              -> hip-hop\n",
      "classical                                                    -> classical\n",
      "soulrb-blues-folk-pop-experimental-rock                      -> blues/soul\n",
      "country-folk                                                 -> folk/country\n",
      "jazz-electronic                                              -> electronic\n",
      "electronic                                                   -> electronic\n",
      "pop-electronic                                               -> pop\n",
      "classical-experimental-rock                                  -> rock\n",
      "international-pop                                            -> pop\n",
      "pop-experimental                                             -> pop\n",
      "blues-soulrb-folk                                            -> blues/soul\n",
      "electronic/fusion                                            -> electronic\n",
      "classical-jazz-pop-experimental                              -> pop\n",
      "acoustic                                                     -> folk/country\n",
      "international-experimental-rock                              -> rock\n",
      "soulrb-blues-jazz-folk                                       -> blues/soul\n",
      "blues-soulrb-folk-experimental                               -> blues/soul\n",
      "international-instrumental-rock                              -> rock\n",
      "country                                                      -> folk/country\n",
      "folk-experimental                                            -> folk/country\n",
      "soulrb-blues-experimental-rock                               -> blues/soul\n",
      "hip-hop-electronic                                           -> hip-hop\n",
      "country-pop                                                  -> pop\n",
      "folk                                                         -> folk/country\n",
      "hip-hop-experimental                                         -> hip-hop\n",
      "hip-hop-international-folk                                   -> hip-hop\n",
      "country-folk-pop                                             -> folk/country\n",
      "soulrb-blues-folk-rock                                       -> blues/soul\n",
      "hip-hop-instrumental                                         -> hip-hop\n",
      "international-folk-pop                                       -> pop\n",
      "country-electronic                                           -> electronic\n"
     ]
    }
   ],
   "source": [
    "collapsed = [classify_genre(g) for g in unique_genres]\n",
    "for g, c in zip(unique_genres, collapsed):\n",
    "    print(f\"{g:60s} -> {c}\")\n"
   ]
  },
  {
   "cell_type": "code",
   "execution_count": null,
   "id": "97bf4321",
   "metadata": {},
   "outputs": [
    {
     "data": {
      "text/html": [
       "<div><style>\n",
       ".dataframe > thead > tr,\n",
       ".dataframe > tbody > tr {\n",
       "  text-align: right;\n",
       "  white-space: pre-wrap;\n",
       "}\n",
       "</style>\n",
       "<small>shape: (1_802, 8)</small><table border=\"1\" class=\"dataframe\"><thead><tr><th>song_id</th><th>valence_mean</th><th>valence_std</th><th>arousal_mean</th><th>arousal_std</th><th>artist</th><th>song_title</th><th>genre</th></tr><tr><td>i64</td><td>f64</td><td>f64</td><td>f64</td><td>f64</td><td>str</td><td>str</td><td>str</td></tr></thead><tbody><tr><td>2</td><td>3.1</td><td>0.94</td><td>3.0</td><td>0.63</td><td>&quot;The New Mystikal Troubadours&quot;</td><td>&quot;Tonight&nbsp;&nbsp;A Lonely Century&quot;</td><td>&quot;blues/soul&quot;</td></tr><tr><td>3</td><td>3.5</td><td>1.75</td><td>3.3</td><td>1.62</td><td>&quot;Kevin MacLeod&quot;</td><td>&quot;DD Groove&quot;</td><td>&quot;blues/soul&quot;</td></tr><tr><td>4</td><td>5.7</td><td>1.42</td><td>5.5</td><td>1.63</td><td>&quot;Kevin MacLeod&quot;</td><td>&quot;Slow Burn&quot;</td><td>&quot;blues/soul&quot;</td></tr><tr><td>5</td><td>4.4</td><td>2.01</td><td>5.3</td><td>1.85</td><td>&quot;My Bubba &amp; Mi&quot;</td><td>&quot;Nothing Much&quot;</td><td>&quot;blues/soul&quot;</td></tr><tr><td>7</td><td>5.8</td><td>1.47</td><td>6.4</td><td>1.69</td><td>&quot;Kevin MacLeod&quot;</td><td>&quot;Hustle&quot;</td><td>&quot;blues/soul&quot;</td></tr><tr><td>&hellip;</td><td>&hellip;</td><td>&hellip;</td><td>&hellip;</td><td>&hellip;</td><td>&hellip;</td><td>&hellip;</td><td>&hellip;</td></tr><tr><td>2054</td><td>5.4</td><td>1.2</td><td>3.6</td><td>1.36</td><td>&quot;Tom La Meche&quot;</td><td>&quot;Interlude&quot;</td><td>&quot;jazz&quot;</td></tr><tr><td>2055</td><td>5.0</td><td>1.41</td><td>5.2</td><td>1.47</td><td>&quot;Goo Goo Cluster&quot;</td><td>&quot;Vide grenier&quot;</td><td>&quot;other&quot;</td></tr><tr><td>2056</td><td>5.0</td><td>1.41</td><td>4.6</td><td>1.74</td><td>&quot;Ruediger Kramer&quot;</td><td>&quot;happy child singing&quot;</td><td>&quot;jazz&quot;</td></tr><tr><td>2057</td><td>3.17</td><td>1.07</td><td>6.83</td><td>0.37</td><td>&quot;La Verue&quot;</td><td>&quot;Au Feu&quot;</td><td>&quot;rock&quot;</td></tr><tr><td>2058</td><td>3.8</td><td>0.75</td><td>5.8</td><td>1.17</td><td>&quot;La Verue&quot;</td><td>&quot;Inside Views&quot;</td><td>&quot;rock&quot;</td></tr></tbody></table></div>"
      ],
      "text/plain": [
       "shape: (1_802, 8)\n",
       "┌─────────┬────────────┬────────────┬────────────┬────────────┬────────────┬───────────┬───────────┐\n",
       "│ song_id ┆ valence_me ┆ valence_st ┆ arousal_me ┆ arousal_st ┆ artist     ┆ song_titl ┆ genre     │\n",
       "│ ---     ┆ an         ┆ d          ┆ an         ┆ d          ┆ ---        ┆ e         ┆ ---       │\n",
       "│ i64     ┆ ---        ┆ ---        ┆ ---        ┆ ---        ┆ str        ┆ ---       ┆ str       │\n",
       "│         ┆ f64        ┆ f64        ┆ f64        ┆ f64        ┆            ┆ str       ┆           │\n",
       "╞═════════╪════════════╪════════════╪════════════╪════════════╪════════════╪═══════════╪═══════════╡\n",
       "│ 2       ┆ 3.1        ┆ 0.94       ┆ 3.0        ┆ 0.63       ┆ The New    ┆ Tonight   ┆ blues/sou │\n",
       "│         ┆            ┆            ┆            ┆            ┆ Mystikal   ┆ A Lonely  ┆ l         │\n",
       "│         ┆            ┆            ┆            ┆            ┆ Troubadour ┆ Century   ┆           │\n",
       "│         ┆            ┆            ┆            ┆            ┆ s          ┆           ┆           │\n",
       "│ 3       ┆ 3.5        ┆ 1.75       ┆ 3.3        ┆ 1.62       ┆ Kevin      ┆ DD Groove ┆ blues/sou │\n",
       "│         ┆            ┆            ┆            ┆            ┆ MacLeod    ┆           ┆ l         │\n",
       "│ 4       ┆ 5.7        ┆ 1.42       ┆ 5.5        ┆ 1.63       ┆ Kevin      ┆ Slow Burn ┆ blues/sou │\n",
       "│         ┆            ┆            ┆            ┆            ┆ MacLeod    ┆           ┆ l         │\n",
       "│ 5       ┆ 4.4        ┆ 2.01       ┆ 5.3        ┆ 1.85       ┆ My Bubba & ┆ Nothing   ┆ blues/sou │\n",
       "│         ┆            ┆            ┆            ┆            ┆ Mi         ┆ Much      ┆ l         │\n",
       "│ 7       ┆ 5.8        ┆ 1.47       ┆ 6.4        ┆ 1.69       ┆ Kevin      ┆ Hustle    ┆ blues/sou │\n",
       "│         ┆            ┆            ┆            ┆            ┆ MacLeod    ┆           ┆ l         │\n",
       "│ …       ┆ …          ┆ …          ┆ …          ┆ …          ┆ …          ┆ …         ┆ …         │\n",
       "│ 2054    ┆ 5.4        ┆ 1.2        ┆ 3.6        ┆ 1.36       ┆ Tom La     ┆ Interlude ┆ jazz      │\n",
       "│         ┆            ┆            ┆            ┆            ┆ Meche      ┆           ┆           │\n",
       "│ 2055    ┆ 5.0        ┆ 1.41       ┆ 5.2        ┆ 1.47       ┆ Goo Goo    ┆ Vide      ┆ other     │\n",
       "│         ┆            ┆            ┆            ┆            ┆ Cluster    ┆ grenier   ┆           │\n",
       "│ 2056    ┆ 5.0        ┆ 1.41       ┆ 4.6        ┆ 1.74       ┆ Ruediger   ┆ happy     ┆ jazz      │\n",
       "│         ┆            ┆            ┆            ┆            ┆ Kramer     ┆ child     ┆           │\n",
       "│         ┆            ┆            ┆            ┆            ┆            ┆ singing   ┆           │\n",
       "│ 2057    ┆ 3.17       ┆ 1.07       ┆ 6.83       ┆ 0.37       ┆ La Verue   ┆ Au Feu    ┆ rock      │\n",
       "│ 2058    ┆ 3.8        ┆ 0.75       ┆ 5.8        ┆ 1.17       ┆ La Verue   ┆ Inside    ┆ rock      │\n",
       "│         ┆            ┆            ┆            ┆            ┆            ┆ Views     ┆           │\n",
       "└─────────┴────────────┴────────────┴────────────┴────────────┴────────────┴───────────┴───────────┘"
      ]
     },
     "execution_count": 48,
     "metadata": {},
     "output_type": "execute_result"
    }
   ],
   "source": [
    "merged_genres = merged.with_columns(\n",
    "    pl.col(\"genre\").map_elements(classify_genre, return_dtype=pl.String).alias(\"genre\")\n",
    ").with_columns(\n",
    "    pl.when(pl.col(\"genre\") == \"world\")\n",
    "    .then(pl.lit(\"other\"))\n",
    "    .otherwise(pl.col(\"genre\"))\n",
    "    .alias(\"genre\")\n",
    ")\n",
    "\n",
    "merged_genres"
   ]
  },
  {
   "cell_type": "code",
   "execution_count": 49,
   "id": "7d2190bf",
   "metadata": {},
   "outputs": [
    {
     "data": {
      "text/html": [
       "<div><style>\n",
       ".dataframe > thead > tr,\n",
       ".dataframe > tbody > tr {\n",
       "  text-align: right;\n",
       "  white-space: pre-wrap;\n",
       "}\n",
       "</style>\n",
       "<small>shape: (9, 2)</small><table border=\"1\" class=\"dataframe\"><thead><tr><th>genre</th><th>count</th></tr><tr><td>str</td><td>u32</td></tr></thead><tbody><tr><td>&quot;rock&quot;</td><td>378</td></tr><tr><td>&quot;folk/country&quot;</td><td>320</td></tr><tr><td>&quot;electronic&quot;</td><td>242</td></tr><tr><td>&quot;blues/soul&quot;</td><td>205</td></tr><tr><td>&quot;classical&quot;</td><td>180</td></tr><tr><td>&quot;jazz&quot;</td><td>171</td></tr><tr><td>&quot;pop&quot;</td><td>170</td></tr><tr><td>&quot;hip-hop&quot;</td><td>110</td></tr><tr><td>&quot;other&quot;</td><td>26</td></tr></tbody></table></div>"
      ],
      "text/plain": [
       "shape: (9, 2)\n",
       "┌──────────────┬───────┐\n",
       "│ genre        ┆ count │\n",
       "│ ---          ┆ ---   │\n",
       "│ str          ┆ u32   │\n",
       "╞══════════════╪═══════╡\n",
       "│ rock         ┆ 378   │\n",
       "│ folk/country ┆ 320   │\n",
       "│ electronic   ┆ 242   │\n",
       "│ blues/soul   ┆ 205   │\n",
       "│ classical    ┆ 180   │\n",
       "│ jazz         ┆ 171   │\n",
       "│ pop          ┆ 170   │\n",
       "│ hip-hop      ┆ 110   │\n",
       "│ other        ┆ 26    │\n",
       "└──────────────┴───────┘"
      ]
     },
     "execution_count": 49,
     "metadata": {},
     "output_type": "execute_result"
    }
   ],
   "source": [
    "merged_genres[\"genre\"].value_counts(sort=True)"
   ]
  }
 ],
 "metadata": {
  "kernelspec": {
   "display_name": ".venv",
   "language": "python",
   "name": "python3"
  },
  "language_info": {
   "codemirror_mode": {
    "name": "ipython",
    "version": 3
   },
   "file_extension": ".py",
   "mimetype": "text/x-python",
   "name": "python",
   "nbconvert_exporter": "python",
   "pygments_lexer": "ipython3",
   "version": "3.12.11"
  }
 },
 "nbformat": 4,
 "nbformat_minor": 5
}
