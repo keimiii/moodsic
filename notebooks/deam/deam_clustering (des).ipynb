{
 "cells": [
  {
   "cell_type": "markdown",
   "id": "90f63bc7",
   "metadata": {},
   "source": [
    "# Import Libs"
   ]
  },
  {
   "cell_type": "code",
   "execution_count": 1,
   "id": "17e2a6bd",
   "metadata": {},
   "outputs": [],
   "source": [
    "import polars as pl\n",
    "import polars.selectors as cs\n",
    "import numpy as np\n",
    "import re\n",
    "import matplotlib.pyplot as plt\n",
    "import hdbscan\n",
    "from hdbscan import prediction as hdbscan_pred\n",
    "\n",
    "from sklearn.mixture import GaussianMixture, BayesianGaussianMixture\n",
    "from sklearn.preprocessing import StandardScaler\n",
    "from sklearn.metrics import (\n",
    "    silhouette_score,\n",
    "    davies_bouldin_score,\n",
    "    calinski_harabasz_score,\n",
    ")\n",
    "from sklearn.model_selection import train_test_split\n",
    "\n",
    "from collections import Counter"
   ]
  },
  {
   "cell_type": "markdown",
   "id": "5b0ef459",
   "metadata": {},
   "source": [
    "# Import Annotations"
   ]
  },
  {
   "cell_type": "code",
   "execution_count": 2,
   "id": "d866bf2d",
   "metadata": {},
   "outputs": [
    {
     "data": {
      "text/plain": [
       "((1744, 5), (58, 13))"
      ]
     },
     "execution_count": 2,
     "metadata": {},
     "output_type": "execute_result"
    }
   ],
   "source": [
    "anno_1 = pl.read_csv(\"../../data/DEAM/static_annotations_averaged_songs_1_2000.csv\")\n",
    "anno_1 = anno_1.rename({col: col.strip() for col in anno_1.columns})\n",
    "\n",
    "anno_2 = pl.read_csv(\"../../data/DEAM/static_annotations_averaged_songs_2000_2058.csv\")\n",
    "anno_2 = anno_2.rename({col: col.strip() for col in anno_2.columns})\n",
    "\n",
    "anno_1.shape, anno_2.shape"
   ]
  },
  {
   "cell_type": "code",
   "execution_count": 3,
   "id": "c45155b1",
   "metadata": {},
   "outputs": [
    {
     "data": {
      "text/html": [
       "<div><style>\n",
       ".dataframe > thead > tr,\n",
       ".dataframe > tbody > tr {\n",
       "  text-align: right;\n",
       "  white-space: pre-wrap;\n",
       "}\n",
       "</style>\n",
       "<small>shape: (1_744, 5)</small><table border=\"1\" class=\"dataframe\"><thead><tr><th>song_id</th><th>valence_mean</th><th>valence_std</th><th>arousal_mean</th><th>arousal_std</th></tr><tr><td>i64</td><td>f64</td><td>f64</td><td>f64</td><td>f64</td></tr></thead><tbody><tr><td>2</td><td>3.1</td><td>0.94</td><td>3.0</td><td>0.63</td></tr><tr><td>3</td><td>3.5</td><td>1.75</td><td>3.3</td><td>1.62</td></tr><tr><td>4</td><td>5.7</td><td>1.42</td><td>5.5</td><td>1.63</td></tr><tr><td>5</td><td>4.4</td><td>2.01</td><td>5.3</td><td>1.85</td></tr><tr><td>7</td><td>5.8</td><td>1.47</td><td>6.4</td><td>1.69</td></tr><tr><td>&hellip;</td><td>&hellip;</td><td>&hellip;</td><td>&hellip;</td><td>&hellip;</td></tr><tr><td>1996</td><td>3.9</td><td>1.87</td><td>5.9</td><td>2.21</td></tr><tr><td>1997</td><td>5.3</td><td>1.42</td><td>3.9</td><td>1.14</td></tr><tr><td>1998</td><td>6.4</td><td>1.5</td><td>6.2</td><td>1.6</td></tr><tr><td>1999</td><td>4.6</td><td>2.11</td><td>5.4</td><td>1.8</td></tr><tr><td>2000</td><td>5.8</td><td>1.78</td><td>6.0</td><td>1.67</td></tr></tbody></table></div>"
      ],
      "text/plain": [
       "shape: (1_744, 5)\n",
       "┌─────────┬──────────────┬─────────────┬──────────────┬─────────────┐\n",
       "│ song_id ┆ valence_mean ┆ valence_std ┆ arousal_mean ┆ arousal_std │\n",
       "│ ---     ┆ ---          ┆ ---         ┆ ---          ┆ ---         │\n",
       "│ i64     ┆ f64          ┆ f64         ┆ f64          ┆ f64         │\n",
       "╞═════════╪══════════════╪═════════════╪══════════════╪═════════════╡\n",
       "│ 2       ┆ 3.1          ┆ 0.94        ┆ 3.0          ┆ 0.63        │\n",
       "│ 3       ┆ 3.5          ┆ 1.75        ┆ 3.3          ┆ 1.62        │\n",
       "│ 4       ┆ 5.7          ┆ 1.42        ┆ 5.5          ┆ 1.63        │\n",
       "│ 5       ┆ 4.4          ┆ 2.01        ┆ 5.3          ┆ 1.85        │\n",
       "│ 7       ┆ 5.8          ┆ 1.47        ┆ 6.4          ┆ 1.69        │\n",
       "│ …       ┆ …            ┆ …           ┆ …            ┆ …           │\n",
       "│ 1996    ┆ 3.9          ┆ 1.87        ┆ 5.9          ┆ 2.21        │\n",
       "│ 1997    ┆ 5.3          ┆ 1.42        ┆ 3.9          ┆ 1.14        │\n",
       "│ 1998    ┆ 6.4          ┆ 1.5         ┆ 6.2          ┆ 1.6         │\n",
       "│ 1999    ┆ 4.6          ┆ 2.11        ┆ 5.4          ┆ 1.8         │\n",
       "│ 2000    ┆ 5.8          ┆ 1.78        ┆ 6.0          ┆ 1.67        │\n",
       "└─────────┴──────────────┴─────────────┴──────────────┴─────────────┘"
      ]
     },
     "metadata": {},
     "output_type": "display_data"
    },
    {
     "data": {
      "text/html": [
       "<div><style>\n",
       ".dataframe > thead > tr,\n",
       ".dataframe > tbody > tr {\n",
       "  text-align: right;\n",
       "  white-space: pre-wrap;\n",
       "}\n",
       "</style>\n",
       "<small>shape: (58, 13)</small><table border=\"1\" class=\"dataframe\"><thead><tr><th>song_id</th><th>valence_mean</th><th>valence_std</th><th>valence_ max_mean</th><th>valence_max_std</th><th>valence_min_mean</th><th>valence_min_std</th><th>arousal_mean</th><th>arousal_std</th><th>arousal_max_mean</th><th>arousal_max_std</th><th>arousal_min_mean</th><th>arousal_min_std</th></tr><tr><td>i64</td><td>f64</td><td>f64</td><td>f64</td><td>f64</td><td>f64</td><td>f64</td><td>f64</td><td>f64</td><td>f64</td><td>f64</td><td>f64</td><td>f64</td></tr></thead><tbody><tr><td>2001</td><td>3.2</td><td>0.98</td><td>5.0</td><td>1.41</td><td>2.2</td><td>0.98</td><td>6.6</td><td>0.8</td><td>8.6</td><td>0.49</td><td>3.4</td><td>1.02</td></tr><tr><td>2002</td><td>6.4</td><td>0.49</td><td>8.2</td><td>0.98</td><td>5.0</td><td>1.1</td><td>5.2</td><td>1.17</td><td>7.4</td><td>1.36</td><td>2.2</td><td>1.17</td></tr><tr><td>2003</td><td>5.4</td><td>1.5</td><td>7.2</td><td>1.17</td><td>3.4</td><td>1.02</td><td>4.6</td><td>1.85</td><td>6.2</td><td>2.04</td><td>1.4</td><td>0.49</td></tr><tr><td>2004</td><td>5.0</td><td>1.1</td><td>6.4</td><td>1.02</td><td>3.2</td><td>1.17</td><td>4.8</td><td>1.6</td><td>6.0</td><td>2.28</td><td>2.8</td><td>0.98</td></tr><tr><td>2005</td><td>3.8</td><td>1.17</td><td>5.0</td><td>1.1</td><td>1.6</td><td>0.8</td><td>5.2</td><td>0.75</td><td>8.4</td><td>0.8</td><td>2.0</td><td>1.1</td></tr><tr><td>&hellip;</td><td>&hellip;</td><td>&hellip;</td><td>&hellip;</td><td>&hellip;</td><td>&hellip;</td><td>&hellip;</td><td>&hellip;</td><td>&hellip;</td><td>&hellip;</td><td>&hellip;</td><td>&hellip;</td><td>&hellip;</td></tr><tr><td>2054</td><td>5.4</td><td>1.2</td><td>6.0</td><td>1.1</td><td>4.4</td><td>1.36</td><td>3.6</td><td>1.36</td><td>4.2</td><td>1.33</td><td>2.4</td><td>0.8</td></tr><tr><td>2055</td><td>5.0</td><td>1.41</td><td>6.0</td><td>1.41</td><td>4.2</td><td>1.33</td><td>5.2</td><td>1.47</td><td>6.4</td><td>1.62</td><td>4.0</td><td>1.41</td></tr><tr><td>2056</td><td>5.0</td><td>1.41</td><td>5.6</td><td>1.62</td><td>4.4</td><td>1.36</td><td>4.6</td><td>1.74</td><td>5.0</td><td>1.79</td><td>4.0</td><td>1.67</td></tr><tr><td>2057</td><td>3.17</td><td>1.07</td><td>4.5</td><td>0.76</td><td>2.17</td><td>0.9</td><td>6.83</td><td>0.37</td><td>8.17</td><td>0.9</td><td>4.83</td><td>1.46</td></tr><tr><td>2058</td><td>3.8</td><td>0.75</td><td>4.6</td><td>0.8</td><td>2.8</td><td>0.75</td><td>5.8</td><td>1.17</td><td>7.4</td><td>0.8</td><td>3.8</td><td>1.17</td></tr></tbody></table></div>"
      ],
      "text/plain": [
       "shape: (58, 13)\n",
       "┌─────────┬────────────┬───────────┬───────────┬───┬───────────┬───────────┬───────────┬───────────┐\n",
       "│ song_id ┆ valence_me ┆ valence_s ┆ valence_  ┆ … ┆ arousal_m ┆ arousal_m ┆ arousal_m ┆ arousal_m │\n",
       "│ ---     ┆ an         ┆ td        ┆ max_mean  ┆   ┆ ax_mean   ┆ ax_std    ┆ in_mean   ┆ in_std    │\n",
       "│ i64     ┆ ---        ┆ ---       ┆ ---       ┆   ┆ ---       ┆ ---       ┆ ---       ┆ ---       │\n",
       "│         ┆ f64        ┆ f64       ┆ f64       ┆   ┆ f64       ┆ f64       ┆ f64       ┆ f64       │\n",
       "╞═════════╪════════════╪═══════════╪═══════════╪═══╪═══════════╪═══════════╪═══════════╪═══════════╡\n",
       "│ 2001    ┆ 3.2        ┆ 0.98      ┆ 5.0       ┆ … ┆ 8.6       ┆ 0.49      ┆ 3.4       ┆ 1.02      │\n",
       "│ 2002    ┆ 6.4        ┆ 0.49      ┆ 8.2       ┆ … ┆ 7.4       ┆ 1.36      ┆ 2.2       ┆ 1.17      │\n",
       "│ 2003    ┆ 5.4        ┆ 1.5       ┆ 7.2       ┆ … ┆ 6.2       ┆ 2.04      ┆ 1.4       ┆ 0.49      │\n",
       "│ 2004    ┆ 5.0        ┆ 1.1       ┆ 6.4       ┆ … ┆ 6.0       ┆ 2.28      ┆ 2.8       ┆ 0.98      │\n",
       "│ 2005    ┆ 3.8        ┆ 1.17      ┆ 5.0       ┆ … ┆ 8.4       ┆ 0.8       ┆ 2.0       ┆ 1.1       │\n",
       "│ …       ┆ …          ┆ …         ┆ …         ┆ … ┆ …         ┆ …         ┆ …         ┆ …         │\n",
       "│ 2054    ┆ 5.4        ┆ 1.2       ┆ 6.0       ┆ … ┆ 4.2       ┆ 1.33      ┆ 2.4       ┆ 0.8       │\n",
       "│ 2055    ┆ 5.0        ┆ 1.41      ┆ 6.0       ┆ … ┆ 6.4       ┆ 1.62      ┆ 4.0       ┆ 1.41      │\n",
       "│ 2056    ┆ 5.0        ┆ 1.41      ┆ 5.6       ┆ … ┆ 5.0       ┆ 1.79      ┆ 4.0       ┆ 1.67      │\n",
       "│ 2057    ┆ 3.17       ┆ 1.07      ┆ 4.5       ┆ … ┆ 8.17      ┆ 0.9       ┆ 4.83      ┆ 1.46      │\n",
       "│ 2058    ┆ 3.8        ┆ 0.75      ┆ 4.6       ┆ … ┆ 7.4       ┆ 0.8       ┆ 3.8       ┆ 1.17      │\n",
       "└─────────┴────────────┴───────────┴───────────┴───┴───────────┴───────────┴───────────┴───────────┘"
      ]
     },
     "metadata": {},
     "output_type": "display_data"
    }
   ],
   "source": [
    "display(anno_1, anno_2)"
   ]
  },
  {
   "cell_type": "code",
   "execution_count": 4,
   "id": "49a3fabd",
   "metadata": {},
   "outputs": [],
   "source": [
    "all_annotations = pl.concat(\n",
    "    [\n",
    "        anno_1,\n",
    "        anno_2.select(\n",
    "            \"song_id\", \"valence_mean\", \"valence_std\", \"arousal_mean\", \"arousal_std\"\n",
    "        ),\n",
    "    ],\n",
    "    how=\"vertical\",\n",
    ")\n"
   ]
  },
  {
   "cell_type": "markdown",
   "id": "b95da690",
   "metadata": {},
   "source": [
    "# Import Metadata"
   ]
  },
  {
   "cell_type": "code",
   "execution_count": 5,
   "id": "03674ad0",
   "metadata": {},
   "outputs": [],
   "source": [
    "metadata_2013 = pl.read_csv(\"../../data/DEAM/metadata_2013.csv\")\n",
    "metadata_2014 = pl.read_csv(\n",
    "    \"../../data/DEAM/metadata_2014.csv\", truncate_ragged_lines=True\n",
    ")\n",
    "metadata_2015 = pl.read_csv(\n",
    "    \"../../data/DEAM/metadata_2015.csv\", truncate_ragged_lines=True\n",
    ")"
   ]
  },
  {
   "cell_type": "code",
   "execution_count": 6,
   "id": "902e8ca2",
   "metadata": {},
   "outputs": [],
   "source": [
    "metadata_2013 = (\n",
    "    metadata_2013.select(\"song_id\", \"Artist\", \"Song title\", \"Genre\")\n",
    "    .rename({\"Artist\": \"artist\", \"Song title\": \"song_title\", \"Genre\": \"genre\"})\n",
    "    .with_columns(\n",
    "        pl.col(pl.Utf8)\n",
    "        .str.replace_all(\"\\u00a0\", \" \")  # normalize non-breaking spaces if present\n",
    "        .str.strip_chars()  # strip whitespace (space, tab, newline, etc.)\n",
    "        .str.strip_chars('\"')  # then strip leading/trailing double quotes\n",
    "    )\n",
    ")"
   ]
  },
  {
   "cell_type": "code",
   "execution_count": 7,
   "id": "a63c94cd",
   "metadata": {},
   "outputs": [],
   "source": [
    "metadata_2014 = (\n",
    "    metadata_2014.select(\"Id\", \"Artist\", \"Track\", \"Genre\")\n",
    "    .rename(\n",
    "        {\n",
    "            \"Id\": \"song_id\",\n",
    "            \"Artist\": \"artist\",\n",
    "            \"Track\": \"song_title\",\n",
    "            \"Genre\": \"genre\",\n",
    "        }\n",
    "    )\n",
    "    .with_columns(\n",
    "        pl.col(pl.Utf8)\n",
    "        .str.replace_all(\"\\u00a0\", \" \")  # normalize non-breaking spaces if present\n",
    "        .str.strip_chars()  # strip whitespace (space, tab, newline, etc.)\n",
    "        .str.strip_chars('\"')  # then strip leading/trailing double quotes\n",
    "    )\n",
    ")"
   ]
  },
  {
   "cell_type": "code",
   "execution_count": 8,
   "id": "3f2ecfb5",
   "metadata": {},
   "outputs": [],
   "source": [
    "metadata_2015 = (\n",
    "    metadata_2015.select(\"id\", \"artist\", \"title\", \"genre\")\n",
    "    .rename(\n",
    "        {\n",
    "            \"id\": \"song_id\",\n",
    "            \"title\": \"song_title\",\n",
    "        }\n",
    "    )\n",
    "    .with_columns(\n",
    "        pl.col(pl.Utf8)\n",
    "        .str.replace_all(\"\\u00a0\", \" \")  # normalize non-breaking spaces if present\n",
    "        .str.strip_chars()  # strip whitespace (space, tab, newline, etc.)\n",
    "        .str.strip_chars('\"')  # then strip leading/trailing double quotes\n",
    "    )\n",
    ")"
   ]
  },
  {
   "cell_type": "code",
   "execution_count": 9,
   "id": "99b64bea",
   "metadata": {},
   "outputs": [],
   "source": [
    "all_metadata = pl.concat(\n",
    "    [metadata_2013, metadata_2014, metadata_2015],\n",
    "    how=\"vertical\",\n",
    ")"
   ]
  },
  {
   "cell_type": "markdown",
   "id": "b1575e03",
   "metadata": {},
   "source": [
    "# Join Annotations & Metadata"
   ]
  },
  {
   "cell_type": "code",
   "execution_count": 10,
   "id": "6de71aca",
   "metadata": {},
   "outputs": [
    {
     "data": {
      "text/html": [
       "<div><style>\n",
       ".dataframe > thead > tr,\n",
       ".dataframe > tbody > tr {\n",
       "  text-align: right;\n",
       "  white-space: pre-wrap;\n",
       "}\n",
       "</style>\n",
       "<small>shape: (1_802, 8)</small><table border=\"1\" class=\"dataframe\"><thead><tr><th>song_id</th><th>valence_mean</th><th>valence_std</th><th>arousal_mean</th><th>arousal_std</th><th>artist</th><th>song_title</th><th>genre</th></tr><tr><td>i64</td><td>f64</td><td>f64</td><td>f64</td><td>f64</td><td>str</td><td>str</td><td>str</td></tr></thead><tbody><tr><td>2</td><td>3.1</td><td>0.94</td><td>3.0</td><td>0.63</td><td>&quot;The New Mystikal Troubadours&quot;</td><td>&quot;Tonight&nbsp;&nbsp;A Lonely Century&quot;</td><td>&quot;blues&quot;</td></tr><tr><td>3</td><td>3.5</td><td>1.75</td><td>3.3</td><td>1.62</td><td>&quot;Kevin MacLeod&quot;</td><td>&quot;DD Groove&quot;</td><td>&quot;blues&quot;</td></tr><tr><td>4</td><td>5.7</td><td>1.42</td><td>5.5</td><td>1.63</td><td>&quot;Kevin MacLeod&quot;</td><td>&quot;Slow Burn&quot;</td><td>&quot;blues&quot;</td></tr><tr><td>5</td><td>4.4</td><td>2.01</td><td>5.3</td><td>1.85</td><td>&quot;My Bubba &amp; Mi&quot;</td><td>&quot;Nothing Much&quot;</td><td>&quot;blues&quot;</td></tr><tr><td>7</td><td>5.8</td><td>1.47</td><td>6.4</td><td>1.69</td><td>&quot;Kevin MacLeod&quot;</td><td>&quot;Hustle&quot;</td><td>&quot;blues&quot;</td></tr><tr><td>&hellip;</td><td>&hellip;</td><td>&hellip;</td><td>&hellip;</td><td>&hellip;</td><td>&hellip;</td><td>&hellip;</td><td>&hellip;</td></tr><tr><td>2054</td><td>5.4</td><td>1.2</td><td>3.6</td><td>1.36</td><td>&quot;Tom La Meche&quot;</td><td>&quot;Interlude&quot;</td><td>&quot;jazz&quot;</td></tr><tr><td>2055</td><td>5.0</td><td>1.41</td><td>5.2</td><td>1.47</td><td>&quot;Goo Goo Cluster&quot;</td><td>&quot;Vide grenier&quot;</td><td>&quot;reggae&quot;</td></tr><tr><td>2056</td><td>5.0</td><td>1.41</td><td>4.6</td><td>1.74</td><td>&quot;Ruediger Kramer&quot;</td><td>&quot;happy child singing&quot;</td><td>&quot;jazz&quot;</td></tr><tr><td>2057</td><td>3.17</td><td>1.07</td><td>6.83</td><td>0.37</td><td>&quot;La Verue&quot;</td><td>&quot;Au Feu&quot;</td><td>&quot;rock&quot;</td></tr><tr><td>2058</td><td>3.8</td><td>0.75</td><td>5.8</td><td>1.17</td><td>&quot;La Verue&quot;</td><td>&quot;Inside Views&quot;</td><td>&quot;rock&quot;</td></tr></tbody></table></div>"
      ],
      "text/plain": [
       "shape: (1_802, 8)\n",
       "┌─────────┬─────────────┬─────────────┬────────────┬────────────┬────────────┬────────────┬────────┐\n",
       "│ song_id ┆ valence_mea ┆ valence_std ┆ arousal_me ┆ arousal_st ┆ artist     ┆ song_title ┆ genre  │\n",
       "│ ---     ┆ n           ┆ ---         ┆ an         ┆ d          ┆ ---        ┆ ---        ┆ ---    │\n",
       "│ i64     ┆ ---         ┆ f64         ┆ ---        ┆ ---        ┆ str        ┆ str        ┆ str    │\n",
       "│         ┆ f64         ┆             ┆ f64        ┆ f64        ┆            ┆            ┆        │\n",
       "╞═════════╪═════════════╪═════════════╪════════════╪════════════╪════════════╪════════════╪════════╡\n",
       "│ 2       ┆ 3.1         ┆ 0.94        ┆ 3.0        ┆ 0.63       ┆ The New    ┆ Tonight  A ┆ blues  │\n",
       "│         ┆             ┆             ┆            ┆            ┆ Mystikal   ┆ Lonely     ┆        │\n",
       "│         ┆             ┆             ┆            ┆            ┆ Troubadour ┆ Century    ┆        │\n",
       "│         ┆             ┆             ┆            ┆            ┆ s          ┆            ┆        │\n",
       "│ 3       ┆ 3.5         ┆ 1.75        ┆ 3.3        ┆ 1.62       ┆ Kevin      ┆ DD Groove  ┆ blues  │\n",
       "│         ┆             ┆             ┆            ┆            ┆ MacLeod    ┆            ┆        │\n",
       "│ 4       ┆ 5.7         ┆ 1.42        ┆ 5.5        ┆ 1.63       ┆ Kevin      ┆ Slow Burn  ┆ blues  │\n",
       "│         ┆             ┆             ┆            ┆            ┆ MacLeod    ┆            ┆        │\n",
       "│ 5       ┆ 4.4         ┆ 2.01        ┆ 5.3        ┆ 1.85       ┆ My Bubba & ┆ Nothing    ┆ blues  │\n",
       "│         ┆             ┆             ┆            ┆            ┆ Mi         ┆ Much       ┆        │\n",
       "│ 7       ┆ 5.8         ┆ 1.47        ┆ 6.4        ┆ 1.69       ┆ Kevin      ┆ Hustle     ┆ blues  │\n",
       "│         ┆             ┆             ┆            ┆            ┆ MacLeod    ┆            ┆        │\n",
       "│ …       ┆ …           ┆ …           ┆ …          ┆ …          ┆ …          ┆ …          ┆ …      │\n",
       "│ 2054    ┆ 5.4         ┆ 1.2         ┆ 3.6        ┆ 1.36       ┆ Tom La     ┆ Interlude  ┆ jazz   │\n",
       "│         ┆             ┆             ┆            ┆            ┆ Meche      ┆            ┆        │\n",
       "│ 2055    ┆ 5.0         ┆ 1.41        ┆ 5.2        ┆ 1.47       ┆ Goo Goo    ┆ Vide       ┆ reggae │\n",
       "│         ┆             ┆             ┆            ┆            ┆ Cluster    ┆ grenier    ┆        │\n",
       "│ 2056    ┆ 5.0         ┆ 1.41        ┆ 4.6        ┆ 1.74       ┆ Ruediger   ┆ happy      ┆ jazz   │\n",
       "│         ┆             ┆             ┆            ┆            ┆ Kramer     ┆ child      ┆        │\n",
       "│         ┆             ┆             ┆            ┆            ┆            ┆ singing    ┆        │\n",
       "│ 2057    ┆ 3.17        ┆ 1.07        ┆ 6.83       ┆ 0.37       ┆ La Verue   ┆ Au Feu     ┆ rock   │\n",
       "│ 2058    ┆ 3.8         ┆ 0.75        ┆ 5.8        ┆ 1.17       ┆ La Verue   ┆ Inside     ┆ rock   │\n",
       "│         ┆             ┆             ┆            ┆            ┆            ┆ Views      ┆        │\n",
       "└─────────┴─────────────┴─────────────┴────────────┴────────────┴────────────┴────────────┴────────┘"
      ]
     },
     "execution_count": 10,
     "metadata": {},
     "output_type": "execute_result"
    }
   ],
   "source": [
    "annot_meta = all_annotations.join(all_metadata, on=\"song_id\", how=\"left\").with_columns(\n",
    "    pl.col(\"genre\").str.to_lowercase().alias(\"genre\")\n",
    ")\n",
    "annot_meta"
   ]
  },
  {
   "cell_type": "markdown",
   "id": "da526e1c",
   "metadata": {},
   "source": [
    "# Consolidating Genres to 9 Categories"
   ]
  },
  {
   "cell_type": "code",
   "execution_count": 11,
   "id": "659cdbd6",
   "metadata": {},
   "outputs": [],
   "source": [
    "unique_genres = annot_meta.select(\"genre\").unique().get_column(\"genre\").to_list()"
   ]
  },
  {
   "cell_type": "code",
   "execution_count": 12,
   "id": "852ad342",
   "metadata": {},
   "outputs": [],
   "source": [
    "# 10 umbrella bins\n",
    "UMBRELLAS = [\n",
    "    \"rock\",\n",
    "    \"pop\",\n",
    "    \"hip-hop\",\n",
    "    \"electronic\",\n",
    "    \"jazz\",\n",
    "    \"classical\",\n",
    "    \"folk/country\",\n",
    "    \"blues/soul\",\n",
    "    \"world\",\n",
    "    \"other\",\n",
    "]\n"
   ]
  },
  {
   "cell_type": "code",
   "execution_count": 13,
   "id": "93e70131",
   "metadata": {},
   "outputs": [],
   "source": [
    "KEYWORD_TO_BIN = {\n",
    "    # core\n",
    "    \"rock\": \"rock\",\n",
    "    \"pop\": \"pop\",\n",
    "    \"hip-hop\": \"hip-hop\",\n",
    "    \"hiphop\": \"hip-hop\",\n",
    "    \"rap\": \"hip-hop\",\n",
    "    \"electronic\": \"electronic\",\n",
    "    \"jazz\": \"jazz\",\n",
    "    \"classical\": \"classical\",\n",
    "    \"folk\": \"folk/country\",\n",
    "    \"country\": \"folk/country\",\n",
    "    \"blues\": \"blues/soul\",\n",
    "    \"soulrb\": \"blues/soul\",\n",
    "    \"soul\": \"blues/soul\",\n",
    "    \"world\": \"world\",\n",
    "    \"reggae\": \"world\",\n",
    "    # helpful hints -> fold into umbrellas\n",
    "    \"acoustic\": \"folk/country\",\n",
    "    \"singer/songwriter\": \"folk/country\",\n",
    "    \"singersongwriter\": \"folk/country\",  # just in case\n",
    "    # noise/modifiers (we won’t map these; leave here for clarity):\n",
    "    # \"experimental\", \"instrumental\", \"international\", \"spoken\", \"fusion\"\n",
    "}\n",
    "\n",
    "# If multiple umbrellas tie, prefer earlier in this list:\n",
    "TIE_BREAK_PRIORITY = [\n",
    "    \"hip-hop\",\n",
    "    \"rock\",\n",
    "    \"pop\",\n",
    "    \"electronic\",\n",
    "    \"jazz\",\n",
    "    \"classical\",\n",
    "    \"folk/country\",\n",
    "    \"blues/soul\",\n",
    "    \"world\",\n",
    "    \"other\",\n",
    "]\n",
    "\n",
    "NOISE_WORDS = {\n",
    "    \"experimental\",\n",
    "    \"instrumental\",\n",
    "    \"international\",\n",
    "    \"spoken\",\n",
    "    \"fusion\",\n",
    "    \"n/a\",\n",
    "}\n"
   ]
  },
  {
   "cell_type": "code",
   "execution_count": 14,
   "id": "3b1d9be9",
   "metadata": {},
   "outputs": [],
   "source": [
    "def normalize_text(s: str) -> str:\n",
    "    s = (s or \"\").strip().lower()\n",
    "    # standardize separators\n",
    "    s = s.replace(\"/\", \"-\")\n",
    "    # compress whitespace and dashes\n",
    "    s = re.sub(r\"\\s+\", \" \", s)\n",
    "    s = re.sub(r\"-+\", \"-\", s)\n",
    "    return s\n",
    "\n",
    "\n",
    "def classify_genre(raw: str) -> str:\n",
    "    s = normalize_text(raw)\n",
    "\n",
    "    if not s or s in NOISE_WORDS or s == \"n/a\":\n",
    "        return \"other\"\n",
    "\n",
    "    votes = Counter()\n",
    "\n",
    "    # substring voting\n",
    "    for kw, bin_name in KEYWORD_TO_BIN.items():\n",
    "        if kw in s:\n",
    "            votes[bin_name] += 1\n",
    "\n",
    "    # if no keywords matched, try token-wise fallback\n",
    "    if not votes:\n",
    "        tokens = re.split(r\"[-\\s]+\", s)\n",
    "        tokens = [t for t in tokens if t and t not in NOISE_WORDS]\n",
    "        for t in tokens:\n",
    "            bin_name = KEYWORD_TO_BIN.get(t)\n",
    "            if bin_name:\n",
    "                votes[bin_name] += 1\n",
    "\n",
    "    if not votes:\n",
    "        # final fallback: heuristic keywords\n",
    "        if \"groove\" in s or \"bird of youth\" in s:\n",
    "            return \"other\"\n",
    "        return \"other\"\n",
    "\n",
    "    # choose the umbrella with max votes; break ties by priority\n",
    "    top_count = max(votes.values())\n",
    "    candidates = [b for b, c in votes.items() if c == top_count]\n",
    "    for pref in TIE_BREAK_PRIORITY:\n",
    "        if pref in candidates:\n",
    "            return pref\n",
    "    return \"other\"\n"
   ]
  },
  {
   "cell_type": "code",
   "execution_count": 15,
   "id": "24136db8",
   "metadata": {},
   "outputs": [
    {
     "name": "stdout",
     "output_type": "stream",
     "text": [
      "hip-hop-instrumental-electronic                              -> hip-hop\n",
      "blues-country-soulrb-folk                                    -> blues/soul\n",
      "folk-pop-rock                                                -> rock\n",
      "international-pop-rock                                       -> rock\n",
      "jazz-experimental-rock                                       -> rock\n",
      "acoustic                                                     -> folk/country\n",
      "country-folk-pop                                             -> folk/country\n",
      "blues-soulrb-folk                                            -> blues/soul\n",
      "international-electronic                                     -> electronic\n",
      "international-folk-rock                                      -> rock\n",
      "hip-hop-experimental-electronic                              -> hip-hop\n",
      "folk-experimental-electronic                                 -> electronic\n",
      "soulrb-blues-folk-experimental-rock                          -> blues/soul\n",
      "pop-experimental-electronic                                  -> pop\n",
      "soulrb-blues                                                 -> blues/soul\n",
      "jazz-experimental-electronic                                 -> electronic\n",
      "soulrb-blues-jazz                                            -> blues/soul\n",
      "classical-instrumental                                       -> classical\n",
      "country-rock                                                 -> rock\n",
      "jazz-instrumental-electronic                                 -> electronic\n",
      "classical-jazz-international-rock                            -> rock\n",
      "international-instrumental-rock                              -> rock\n",
      "soulrb                                                       -> blues/soul\n",
      "folk-experimental                                            -> folk/country\n",
      "country                                                      -> folk/country\n",
      "international                                                -> other\n",
      "international-experimental-rock                              -> rock\n",
      "folk-experimental-rock                                       -> rock\n",
      "electronic                                                   -> electronic\n",
      "folk-pop-experimental                                        -> pop\n",
      "folk-electronic                                              -> electronic\n",
      "jazz-experimental-electronic-rock                            -> rock\n",
      "international-instrumental-experimental                      -> other\n",
      "country-pop                                                  -> pop\n",
      "classical                                                    -> classical\n",
      "international-experimental                                   -> other\n",
      "world                                                        -> world\n",
      "country-soulrb-pop                                           -> blues/soul\n",
      "country-folk                                                 -> folk/country\n",
      "classical-pop-experimental-electronic                        -> pop\n",
      "hip-hop-pop-electronic                                       -> hip-hop\n",
      "pop                                                          -> pop\n",
      "blues-soulrb                                                 -> blues/soul\n",
      "international-folk-electronic-rock                           -> rock\n",
      "country-folk-rock                                            -> folk/country\n",
      "groove                                                       -> other\n",
      "jazz-instrumental-pop-electronic                             -> pop\n",
      "singer/songwriter                                            -> other\n",
      "country-international                                        -> folk/country\n",
      "international-folk-experimental                              -> folk/country\n",
      "classical-experimental-rock                                  -> rock\n",
      "folk-experimental-electronic-rock                            -> rock\n",
      "classical-jazz                                               -> jazz\n",
      "rap                                                          -> hip-hop\n",
      "soulrb-blues-international-electronic                        -> blues/soul\n",
      "pop-electronic-rock                                          -> rock\n",
      "international-pop                                            -> pop\n",
      "soulrb-electronic                                            -> blues/soul\n",
      "soulrb-country-folk-pop-experimental-rock-blues              -> blues/soul\n",
      "classical-experimental-electronic                            -> electronic\n",
      "international-electronic-rock                                -> rock\n",
      "country-international-rock                                   -> rock\n",
      "jazz-folk-pop-rock                                           -> rock\n",
      "classical-spoken                                             -> classical\n",
      "country-experimental-rock                                    -> rock\n",
      "classical-instrumental-folk-experimental                     -> classical\n",
      "jazz                                                         -> jazz\n",
      "electronic-rock                                              -> rock\n",
      "jazz-hip-hop                                                 -> hip-hop\n",
      "soulrb-country-folk-pop-rock-blues                           -> blues/soul\n",
      "soulrb-blues-folk-rock                                       -> blues/soul\n",
      "pop-experimental                                             -> pop\n",
      "world/folk                                                   -> folk/country\n",
      "classical-jazz-pop-experimental                              -> pop\n",
      "international-folk-experimental-rock                         -> rock\n",
      "folk-pop                                                     -> pop\n",
      "jazz-rock                                                    -> rock\n",
      "pop-electronic                                               -> pop\n",
      "folk                                                         -> folk/country\n",
      "soulrb-blues-rock                                            -> blues/soul\n",
      "classical-jazz-experimental                                  -> jazz\n",
      "soulrb-blues-folk-pop-experimental-rock                      -> blues/soul\n",
      "classical-instrumental-experimental-spoken                   -> classical\n",
      "hip-hop-electronic                                           -> hip-hop\n",
      "hip-hop                                                      -> hip-hop\n",
      "pop-experimental-rock                                        -> rock\n",
      "international-folk-pop                                       -> pop\n",
      "folk-pop-experimental-rock                                   -> rock\n",
      "classical-electronic                                         -> electronic\n",
      "classical-instrumental-experimental                          -> classical\n",
      "rock                                                         -> rock\n",
      "jazz-hip-hop-rock                                            -> hip-hop\n",
      "country-spoken                                               -> folk/country\n",
      "folk-electronic-rock                                         -> rock\n",
      "jazz-experimental                                            -> jazz\n",
      "bird of youth                                                -> other\n",
      "international-rock                                           -> rock\n",
      "international-folk                                           -> folk/country\n",
      "classical-experimental                                       -> classical\n",
      "international-instrumental                                   -> other\n",
      "blues-soulrb-folk-experimental                               -> blues/soul\n",
      "international-folk-pop-experimental-rock                     -> rock\n",
      "blues                                                        -> blues/soul\n",
      "jazz-international                                           -> jazz\n",
      "soulrb-blues-experimental-rock                               -> blues/soul\n",
      "jazz-hip-hop-electronic                                      -> hip-hop\n",
      "country-folk-pop-rock                                        -> folk/country\n",
      "classical-international-experimental-electronic              -> electronic\n",
      "n/a                                                          -> other\n",
      "hip-hop-international-folk                                   -> hip-hop\n",
      "soulrb-blues-jazz-folk                                       -> blues/soul\n",
      "jazz-international-pop                                       -> pop\n",
      "hip-hop-experimental                                         -> hip-hop\n",
      "country-pop-rock                                             -> rock\n",
      "electronic/fusion                                            -> electronic\n",
      "classical-soulrb-folk                                        -> blues/soul\n",
      "classical-folk                                               -> classical\n",
      "reggae                                                       -> world\n",
      "country-electronic                                           -> electronic\n",
      "blues-soulrb-rock                                            -> blues/soul\n",
      "classical-instrumental-electronic                            -> electronic\n",
      "classical-country-jazz-folk-experimental                     -> folk/country\n",
      "jazz-electronic                                              -> electronic\n",
      "international-pop-electronic                                 -> pop\n",
      "hiphop                                                       -> hip-hop\n",
      "folk-rock                                                    -> rock\n",
      "hip-hop-instrumental                                         -> hip-hop\n",
      "classical-instrumental-pop-experimental-electronic           -> pop\n",
      "jazz-international-experimental                              -> jazz\n",
      "soulrb-blues-pop-rock                                        -> blues/soul\n",
      "soulrb-blues-folk-experimental                               -> blues/soul\n",
      "soulrb-blues-folk                                            -> blues/soul\n",
      "pop-rock                                                     -> rock\n",
      "soulrb-electronic-rock                                       -> blues/soul\n",
      "classical-international-spoken                               -> classical\n",
      "country-instrumental-folk                                    -> folk/country\n"
     ]
    }
   ],
   "source": [
    "collapsed = [classify_genre(g) for g in unique_genres]\n",
    "for g, c in zip(unique_genres, collapsed):\n",
    "    print(f\"{g:60s} -> {c}\")\n"
   ]
  },
  {
   "cell_type": "code",
   "execution_count": 16,
   "id": "97bf4321",
   "metadata": {},
   "outputs": [
    {
     "data": {
      "text/html": [
       "<div><style>\n",
       ".dataframe > thead > tr,\n",
       ".dataframe > tbody > tr {\n",
       "  text-align: right;\n",
       "  white-space: pre-wrap;\n",
       "}\n",
       "</style>\n",
       "<small>shape: (1_802, 8)</small><table border=\"1\" class=\"dataframe\"><thead><tr><th>song_id</th><th>valence_mean</th><th>valence_std</th><th>arousal_mean</th><th>arousal_std</th><th>artist</th><th>song_title</th><th>genre</th></tr><tr><td>i64</td><td>f64</td><td>f64</td><td>f64</td><td>f64</td><td>str</td><td>str</td><td>str</td></tr></thead><tbody><tr><td>2</td><td>3.1</td><td>0.94</td><td>3.0</td><td>0.63</td><td>&quot;The New Mystikal Troubadours&quot;</td><td>&quot;Tonight&nbsp;&nbsp;A Lonely Century&quot;</td><td>&quot;blues/soul&quot;</td></tr><tr><td>3</td><td>3.5</td><td>1.75</td><td>3.3</td><td>1.62</td><td>&quot;Kevin MacLeod&quot;</td><td>&quot;DD Groove&quot;</td><td>&quot;blues/soul&quot;</td></tr><tr><td>4</td><td>5.7</td><td>1.42</td><td>5.5</td><td>1.63</td><td>&quot;Kevin MacLeod&quot;</td><td>&quot;Slow Burn&quot;</td><td>&quot;blues/soul&quot;</td></tr><tr><td>5</td><td>4.4</td><td>2.01</td><td>5.3</td><td>1.85</td><td>&quot;My Bubba &amp; Mi&quot;</td><td>&quot;Nothing Much&quot;</td><td>&quot;blues/soul&quot;</td></tr><tr><td>7</td><td>5.8</td><td>1.47</td><td>6.4</td><td>1.69</td><td>&quot;Kevin MacLeod&quot;</td><td>&quot;Hustle&quot;</td><td>&quot;blues/soul&quot;</td></tr><tr><td>&hellip;</td><td>&hellip;</td><td>&hellip;</td><td>&hellip;</td><td>&hellip;</td><td>&hellip;</td><td>&hellip;</td><td>&hellip;</td></tr><tr><td>2054</td><td>5.4</td><td>1.2</td><td>3.6</td><td>1.36</td><td>&quot;Tom La Meche&quot;</td><td>&quot;Interlude&quot;</td><td>&quot;jazz&quot;</td></tr><tr><td>2055</td><td>5.0</td><td>1.41</td><td>5.2</td><td>1.47</td><td>&quot;Goo Goo Cluster&quot;</td><td>&quot;Vide grenier&quot;</td><td>&quot;other&quot;</td></tr><tr><td>2056</td><td>5.0</td><td>1.41</td><td>4.6</td><td>1.74</td><td>&quot;Ruediger Kramer&quot;</td><td>&quot;happy child singing&quot;</td><td>&quot;jazz&quot;</td></tr><tr><td>2057</td><td>3.17</td><td>1.07</td><td>6.83</td><td>0.37</td><td>&quot;La Verue&quot;</td><td>&quot;Au Feu&quot;</td><td>&quot;rock&quot;</td></tr><tr><td>2058</td><td>3.8</td><td>0.75</td><td>5.8</td><td>1.17</td><td>&quot;La Verue&quot;</td><td>&quot;Inside Views&quot;</td><td>&quot;rock&quot;</td></tr></tbody></table></div>"
      ],
      "text/plain": [
       "shape: (1_802, 8)\n",
       "┌─────────┬────────────┬────────────┬────────────┬────────────┬────────────┬───────────┬───────────┐\n",
       "│ song_id ┆ valence_me ┆ valence_st ┆ arousal_me ┆ arousal_st ┆ artist     ┆ song_titl ┆ genre     │\n",
       "│ ---     ┆ an         ┆ d          ┆ an         ┆ d          ┆ ---        ┆ e         ┆ ---       │\n",
       "│ i64     ┆ ---        ┆ ---        ┆ ---        ┆ ---        ┆ str        ┆ ---       ┆ str       │\n",
       "│         ┆ f64        ┆ f64        ┆ f64        ┆ f64        ┆            ┆ str       ┆           │\n",
       "╞═════════╪════════════╪════════════╪════════════╪════════════╪════════════╪═══════════╪═══════════╡\n",
       "│ 2       ┆ 3.1        ┆ 0.94       ┆ 3.0        ┆ 0.63       ┆ The New    ┆ Tonight   ┆ blues/sou │\n",
       "│         ┆            ┆            ┆            ┆            ┆ Mystikal   ┆ A Lonely  ┆ l         │\n",
       "│         ┆            ┆            ┆            ┆            ┆ Troubadour ┆ Century   ┆           │\n",
       "│         ┆            ┆            ┆            ┆            ┆ s          ┆           ┆           │\n",
       "│ 3       ┆ 3.5        ┆ 1.75       ┆ 3.3        ┆ 1.62       ┆ Kevin      ┆ DD Groove ┆ blues/sou │\n",
       "│         ┆            ┆            ┆            ┆            ┆ MacLeod    ┆           ┆ l         │\n",
       "│ 4       ┆ 5.7        ┆ 1.42       ┆ 5.5        ┆ 1.63       ┆ Kevin      ┆ Slow Burn ┆ blues/sou │\n",
       "│         ┆            ┆            ┆            ┆            ┆ MacLeod    ┆           ┆ l         │\n",
       "│ 5       ┆ 4.4        ┆ 2.01       ┆ 5.3        ┆ 1.85       ┆ My Bubba & ┆ Nothing   ┆ blues/sou │\n",
       "│         ┆            ┆            ┆            ┆            ┆ Mi         ┆ Much      ┆ l         │\n",
       "│ 7       ┆ 5.8        ┆ 1.47       ┆ 6.4        ┆ 1.69       ┆ Kevin      ┆ Hustle    ┆ blues/sou │\n",
       "│         ┆            ┆            ┆            ┆            ┆ MacLeod    ┆           ┆ l         │\n",
       "│ …       ┆ …          ┆ …          ┆ …          ┆ …          ┆ …          ┆ …         ┆ …         │\n",
       "│ 2054    ┆ 5.4        ┆ 1.2        ┆ 3.6        ┆ 1.36       ┆ Tom La     ┆ Interlude ┆ jazz      │\n",
       "│         ┆            ┆            ┆            ┆            ┆ Meche      ┆           ┆           │\n",
       "│ 2055    ┆ 5.0        ┆ 1.41       ┆ 5.2        ┆ 1.47       ┆ Goo Goo    ┆ Vide      ┆ other     │\n",
       "│         ┆            ┆            ┆            ┆            ┆ Cluster    ┆ grenier   ┆           │\n",
       "│ 2056    ┆ 5.0        ┆ 1.41       ┆ 4.6        ┆ 1.74       ┆ Ruediger   ┆ happy     ┆ jazz      │\n",
       "│         ┆            ┆            ┆            ┆            ┆ Kramer     ┆ child     ┆           │\n",
       "│         ┆            ┆            ┆            ┆            ┆            ┆ singing   ┆           │\n",
       "│ 2057    ┆ 3.17       ┆ 1.07       ┆ 6.83       ┆ 0.37       ┆ La Verue   ┆ Au Feu    ┆ rock      │\n",
       "│ 2058    ┆ 3.8        ┆ 0.75       ┆ 5.8        ┆ 1.17       ┆ La Verue   ┆ Inside    ┆ rock      │\n",
       "│         ┆            ┆            ┆            ┆            ┆            ┆ Views     ┆           │\n",
       "└─────────┴────────────┴────────────┴────────────┴────────────┴────────────┴───────────┴───────────┘"
      ]
     },
     "execution_count": 16,
     "metadata": {},
     "output_type": "execute_result"
    }
   ],
   "source": [
    "merged_genres = annot_meta.with_columns(\n",
    "    pl.col(\"genre\").map_elements(classify_genre, return_dtype=pl.String).alias(\"genre\")\n",
    ").with_columns(\n",
    "    pl.when(pl.col(\"genre\") == \"world\")\n",
    "    .then(pl.lit(\"other\"))\n",
    "    .otherwise(pl.col(\"genre\"))\n",
    "    .alias(\"genre\")\n",
    ")\n",
    "\n",
    "merged_genres"
   ]
  },
  {
   "cell_type": "code",
   "execution_count": 17,
   "id": "7d2190bf",
   "metadata": {},
   "outputs": [
    {
     "data": {
      "text/html": [
       "<div><style>\n",
       ".dataframe > thead > tr,\n",
       ".dataframe > tbody > tr {\n",
       "  text-align: right;\n",
       "  white-space: pre-wrap;\n",
       "}\n",
       "</style>\n",
       "<small>shape: (9, 2)</small><table border=\"1\" class=\"dataframe\"><thead><tr><th>genre</th><th>count</th></tr><tr><td>str</td><td>u32</td></tr></thead><tbody><tr><td>&quot;rock&quot;</td><td>378</td></tr><tr><td>&quot;folk/country&quot;</td><td>320</td></tr><tr><td>&quot;electronic&quot;</td><td>242</td></tr><tr><td>&quot;blues/soul&quot;</td><td>205</td></tr><tr><td>&quot;classical&quot;</td><td>180</td></tr><tr><td>&quot;jazz&quot;</td><td>171</td></tr><tr><td>&quot;pop&quot;</td><td>170</td></tr><tr><td>&quot;hip-hop&quot;</td><td>110</td></tr><tr><td>&quot;other&quot;</td><td>26</td></tr></tbody></table></div>"
      ],
      "text/plain": [
       "shape: (9, 2)\n",
       "┌──────────────┬───────┐\n",
       "│ genre        ┆ count │\n",
       "│ ---          ┆ ---   │\n",
       "│ str          ┆ u32   │\n",
       "╞══════════════╪═══════╡\n",
       "│ rock         ┆ 378   │\n",
       "│ folk/country ┆ 320   │\n",
       "│ electronic   ┆ 242   │\n",
       "│ blues/soul   ┆ 205   │\n",
       "│ classical    ┆ 180   │\n",
       "│ jazz         ┆ 171   │\n",
       "│ pop          ┆ 170   │\n",
       "│ hip-hop      ┆ 110   │\n",
       "│ other        ┆ 26    │\n",
       "└──────────────┴───────┘"
      ]
     },
     "execution_count": 17,
     "metadata": {},
     "output_type": "execute_result"
    }
   ],
   "source": [
    "merged_genres[\"genre\"].value_counts(sort=True)"
   ]
  },
  {
   "cell_type": "markdown",
   "id": "840680c5",
   "metadata": {},
   "source": [
    "# Scale Alignment"
   ]
  },
  {
   "cell_type": "code",
   "execution_count": 18,
   "id": "d54eb1eb",
   "metadata": {},
   "outputs": [],
   "source": [
    "merged_genres = merged_genres.with_columns(\n",
    "    ((pl.col(\"valence_mean\") - 5.0) / 4.0).clip(-1.0, 1.0).alias(\"valence_ref\"),\n",
    "    ((pl.col(\"arousal_mean\") - 5.0) / 4.0).clip(-1.0, 1.0).alias(\"arousal_ref\"),\n",
    ")\n"
   ]
  },
  {
   "cell_type": "code",
   "execution_count": 19,
   "id": "149e1be2",
   "metadata": {},
   "outputs": [
    {
     "data": {
      "text/html": [
       "<div><style>\n",
       ".dataframe > thead > tr,\n",
       ".dataframe > tbody > tr {\n",
       "  text-align: right;\n",
       "  white-space: pre-wrap;\n",
       "}\n",
       "</style>\n",
       "<small>shape: (9, 5)</small><table border=\"1\" class=\"dataframe\"><thead><tr><th>statistic</th><th>valence_ref</th><th>arousal_ref</th><th>valence_mean</th><th>arousal_mean</th></tr><tr><td>str</td><td>f64</td><td>f64</td><td>f64</td><td>f64</td></tr></thead><tbody><tr><td>&quot;count&quot;</td><td>1802.0</td><td>1802.0</td><td>1802.0</td><td>1802.0</td></tr><tr><td>&quot;null_count&quot;</td><td>0.0</td><td>0.0</td><td>0.0</td><td>0.0</td></tr><tr><td>&quot;mean&quot;</td><td>-0.023964</td><td>-0.046493</td><td>4.904145</td><td>4.814029</td></tr><tr><td>&quot;std&quot;</td><td>0.29356</td><td>0.320547</td><td>1.17424</td><td>1.282187</td></tr><tr><td>&quot;min&quot;</td><td>-0.85</td><td>-0.85</td><td>1.6</td><td>1.6</td></tr><tr><td>&quot;25%&quot;</td><td>-0.225</td><td>-0.3</td><td>4.1</td><td>3.8</td></tr><tr><td>&quot;50%&quot;</td><td>-0.025</td><td>-0.025</td><td>4.9</td><td>4.9</td></tr><tr><td>&quot;75%&quot;</td><td>0.2</td><td>0.2</td><td>5.8</td><td>5.8</td></tr><tr><td>&quot;max&quot;</td><td>0.85</td><td>0.775</td><td>8.4</td><td>8.1</td></tr></tbody></table></div>"
      ],
      "text/plain": [
       "shape: (9, 5)\n",
       "┌────────────┬─────────────┬─────────────┬──────────────┬──────────────┐\n",
       "│ statistic  ┆ valence_ref ┆ arousal_ref ┆ valence_mean ┆ arousal_mean │\n",
       "│ ---        ┆ ---         ┆ ---         ┆ ---          ┆ ---          │\n",
       "│ str        ┆ f64         ┆ f64         ┆ f64          ┆ f64          │\n",
       "╞════════════╪═════════════╪═════════════╪══════════════╪══════════════╡\n",
       "│ count      ┆ 1802.0      ┆ 1802.0      ┆ 1802.0       ┆ 1802.0       │\n",
       "│ null_count ┆ 0.0         ┆ 0.0         ┆ 0.0          ┆ 0.0          │\n",
       "│ mean       ┆ -0.023964   ┆ -0.046493   ┆ 4.904145     ┆ 4.814029     │\n",
       "│ std        ┆ 0.29356     ┆ 0.320547    ┆ 1.17424      ┆ 1.282187     │\n",
       "│ min        ┆ -0.85       ┆ -0.85       ┆ 1.6          ┆ 1.6          │\n",
       "│ 25%        ┆ -0.225      ┆ -0.3        ┆ 4.1          ┆ 3.8          │\n",
       "│ 50%        ┆ -0.025      ┆ -0.025      ┆ 4.9          ┆ 4.9          │\n",
       "│ 75%        ┆ 0.2         ┆ 0.2         ┆ 5.8          ┆ 5.8          │\n",
       "│ max        ┆ 0.85        ┆ 0.775       ┆ 8.4          ┆ 8.1          │\n",
       "└────────────┴─────────────┴─────────────┴──────────────┴──────────────┘"
      ]
     },
     "execution_count": 19,
     "metadata": {},
     "output_type": "execute_result"
    }
   ],
   "source": [
    "merged_genres.select(\n",
    "    \"valence_ref\", \"arousal_ref\", \"valence_mean\", \"arousal_mean\"\n",
    ").describe()"
   ]
  },
  {
   "cell_type": "markdown",
   "id": "291a3892",
   "metadata": {},
   "source": [
    "# Data Preprocessing"
   ]
  },
  {
   "cell_type": "code",
   "execution_count": 20,
   "id": "4113a77d",
   "metadata": {},
   "outputs": [],
   "source": [
    "df_pl = merged_genres.select([\"valence_ref\", \"arousal_ref\", \"genre\"]).drop_nulls()\n",
    "X = df_pl.select([\"valence_ref\", \"arousal_ref\"]).to_numpy()\n",
    "genres = df_pl[\"genre\"].to_list()\n",
    "\n",
    "scaler = StandardScaler().fit(X)\n",
    "Xs = scaler.transform(X)\n",
    "\n",
    "Xtr, Xte = train_test_split(Xs, test_size=0.2, random_state=2025, shuffle=True)\n"
   ]
  },
  {
   "cell_type": "markdown",
   "id": "7b73c7c7",
   "metadata": {},
   "source": [
    "# Gaussian Mixture Model (GMM)"
   ]
  },
  {
   "cell_type": "markdown",
   "id": "690d8686",
   "metadata": {},
   "source": [
    "A GMM assumes the data are generated from a mixture of multivariate Gaussians. \n",
    "Each component has a mean and covariance, and we fit them by maximizing likelihood.   \n",
    "\n",
    "Compared to k-means, GMMs \n",
    "+ produce soft assignments (posterior probabilities per cluster), and\n",
    "+ can model elliptical clusters via full or diagonal covariances.   \n",
    "\n",
    "They’re a better match for valence–arousal ellipses than k-means’ spherical assumption."
   ]
  },
  {
   "cell_type": "markdown",
   "id": "ff4cc48a",
   "metadata": {},
   "source": [
    "## Model selection by BIC"
   ]
  },
  {
   "cell_type": "markdown",
   "id": "1dcf4999",
   "metadata": {},
   "source": [
    "**Bayesian Information Criterion (BIC) for GMMs** \n",
    " \n",
    "BIC trades off model fit (log-likelihood) and complexity (number of free parameters). For GMMs, lower BIC typically selects a reasonable number of components K and covariance structure."
   ]
  },
  {
   "cell_type": "code",
   "execution_count": 21,
   "id": "533e0796",
   "metadata": {},
   "outputs": [],
   "source": [
    "best, best_bic = None, np.inf\n",
    "for cov in (\"full\", \"diag\"):\n",
    "    for K in range(5, 13):  # keep your original K-range (or widen later)\n",
    "        m = GaussianMixture(\n",
    "            n_components=K, covariance_type=cov, n_init=10, random_state=2025\n",
    "        ).fit(Xtr)  # CHANGED: fit on Xtr\n",
    "        bic = m.bic(Xtr)  # CHANGED: BIC on Xtr\n",
    "        if bic < best_bic:\n",
    "            best_bic, best = bic, m\n",
    "\n",
    "gm = best\n",
    "\n",
    "# For interpretation/plots, keep full-data predictions:\n",
    "labels = gm.predict(Xs)\n",
    "proba = gm.predict_proba(Xs)\n"
   ]
  },
  {
   "cell_type": "code",
   "execution_count": 22,
   "id": "f7937337",
   "metadata": {},
   "outputs": [
    {
     "data": {
      "text/plain": [
       "(GaussianMixture(covariance_type='diag', n_components=5, n_init=10,\n",
       "                 random_state=2025),\n",
       " array([1, 1, 2, ..., 2, 3, 3]),\n",
       " array([[6.50058540e-15, 9.37551562e-01, 1.13203431e-07, 2.25830126e-02,\n",
       "         3.98653119e-02],\n",
       "        [3.13305107e-12, 8.55982293e-01, 6.32762795e-06, 6.14772583e-02,\n",
       "         8.25341211e-02],\n",
       "        [8.56025305e-02, 4.68721041e-05, 8.59462495e-01, 3.02229227e-02,\n",
       "         2.46651795e-02],\n",
       "        ...,\n",
       "        [5.48961200e-04, 2.70973420e-02, 3.46947232e-01, 3.01739281e-01,\n",
       "         3.23667183e-01],\n",
       "        [2.73321142e-07, 4.14847535e-06, 2.57518384e-03, 9.96203698e-01,\n",
       "         1.21669649e-03],\n",
       "        [8.82164738e-06, 7.92678357e-04, 4.97782430e-02, 9.26942090e-01,\n",
       "         2.24781671e-02]]))"
      ]
     },
     "execution_count": 22,
     "metadata": {},
     "output_type": "execute_result"
    }
   ],
   "source": [
    "gm, labels, proba"
   ]
  },
  {
   "cell_type": "markdown",
   "id": "1a777ab5",
   "metadata": {},
   "source": [
    "## Computing Evals"
   ]
  },
  {
   "cell_type": "code",
   "execution_count": 23,
   "id": "7f4198b9",
   "metadata": {},
   "outputs": [],
   "source": [
    "# --- held-out log-likelihood ---\n",
    "train_ll = gm.score(Xtr)  # average log-likelihood on TRAIN\n",
    "test_ll = gm.score(Xte)  # average log-likelihood on TEST\n",
    "\n",
    "# --- (optional) train/test geometry metrics for sanity checks ---\n",
    "sil_tr = silhouette_score(Xtr, gm.predict(Xtr))\n",
    "sil_te = silhouette_score(Xte, gm.predict(Xte))\n",
    "db_tr = davies_bouldin_score(Xtr, gm.predict(Xtr))\n",
    "db_te = davies_bouldin_score(Xte, gm.predict(Xte))\n",
    "ch_tr = calinski_harabasz_score(Xtr, gm.predict(Xtr))\n",
    "ch_te = calinski_harabasz_score(Xte, gm.predict(Xte))"
   ]
  },
  {
   "cell_type": "code",
   "execution_count": 24,
   "id": "9e1b103d",
   "metadata": {},
   "outputs": [],
   "source": [
    "sil = silhouette_score(Xs, labels)\n",
    "db = davies_bouldin_score(Xs, labels)\n",
    "ch = calinski_harabasz_score(Xs, labels)\n",
    "\n",
    "# --- soft assignment uncertainty ---\n",
    "# Full-data entropy (for interpretability)\n",
    "entropy = (-(proba * np.log(proba + 1e-12)).sum(axis=1)).mean()\n",
    "\n",
    "# entropy on TEST only\n",
    "proba_te = gm.predict_proba(Xte)\n",
    "entropy_te = (-(proba_te * np.log(proba_te + 1e-12)).sum(axis=1)).mean()\n"
   ]
  },
  {
   "cell_type": "code",
   "execution_count": 25,
   "id": "e9e57b67",
   "metadata": {},
   "outputs": [
    {
     "data": {
      "text/html": [
       "<div><style>\n",
       ".dataframe > thead > tr,\n",
       ".dataframe > tbody > tr {\n",
       "  text-align: right;\n",
       "  white-space: pre-wrap;\n",
       "}\n",
       "</style>\n",
       "<small>shape: (5, 10)</small><table border=\"1\" class=\"dataframe\"><thead><tr><th>cluster</th><th>classical</th><th>folk/country</th><th>hip-hop</th><th>jazz</th><th>other</th><th>pop</th><th>electronic</th><th>rock</th><th>blues/soul</th></tr><tr><td>i64</td><td>u32</td><td>u32</td><td>u32</td><td>u32</td><td>u32</td><td>u32</td><td>u32</td><td>u32</td><td>u32</td></tr></thead><tbody><tr><td>0</td><td>6</td><td>46</td><td>8</td><td>26</td><td>2</td><td>31</td><td>42</td><td>60</td><td>31</td></tr><tr><td>1</td><td>96</td><td>94</td><td>6</td><td>45</td><td>6</td><td>34</td><td>74</td><td>62</td><td>47</td></tr><tr><td>2</td><td>18</td><td>80</td><td>64</td><td>46</td><td>11</td><td>55</td><td>72</td><td>133</td><td>60</td></tr><tr><td>3</td><td>53</td><td>63</td><td>21</td><td>32</td><td>2</td><td>28</td><td>29</td><td>79</td><td>42</td></tr><tr><td>4</td><td>7</td><td>37</td><td>11</td><td>22</td><td>5</td><td>22</td><td>25</td><td>44</td><td>25</td></tr></tbody></table></div>"
      ],
      "text/plain": [
       "shape: (5, 10)\n",
       "┌─────────┬───────────┬──────────────┬─────────┬───┬─────┬────────────┬──────┬────────────┐\n",
       "│ cluster ┆ classical ┆ folk/country ┆ hip-hop ┆ … ┆ pop ┆ electronic ┆ rock ┆ blues/soul │\n",
       "│ ---     ┆ ---       ┆ ---          ┆ ---     ┆   ┆ --- ┆ ---        ┆ ---  ┆ ---        │\n",
       "│ i64     ┆ u32       ┆ u32          ┆ u32     ┆   ┆ u32 ┆ u32        ┆ u32  ┆ u32        │\n",
       "╞═════════╪═══════════╪══════════════╪═════════╪═══╪═════╪════════════╪══════╪════════════╡\n",
       "│ 0       ┆ 6         ┆ 46           ┆ 8       ┆ … ┆ 31  ┆ 42         ┆ 60   ┆ 31         │\n",
       "│ 1       ┆ 96        ┆ 94           ┆ 6       ┆ … ┆ 34  ┆ 74         ┆ 62   ┆ 47         │\n",
       "│ 2       ┆ 18        ┆ 80           ┆ 64      ┆ … ┆ 55  ┆ 72         ┆ 133  ┆ 60         │\n",
       "│ 3       ┆ 53        ┆ 63           ┆ 21      ┆ … ┆ 28  ┆ 29         ┆ 79   ┆ 42         │\n",
       "│ 4       ┆ 7         ┆ 37           ┆ 11      ┆ … ┆ 22  ┆ 25         ┆ 44   ┆ 25         │\n",
       "└─────────┴───────────┴──────────────┴─────────┴───┴─────┴────────────┴──────┴────────────┘"
      ]
     },
     "execution_count": 25,
     "metadata": {},
     "output_type": "execute_result"
    }
   ],
   "source": [
    "eval_pl = pl.DataFrame(\n",
    "    {\n",
    "        \"cluster\": labels,\n",
    "        \"genre\": genres,\n",
    "    }\n",
    ")\n",
    "\n",
    "ct = (\n",
    "    eval_pl.group_by([\"cluster\", \"genre\"])\n",
    "    .len()\n",
    "    .pivot(values=\"len\", index=\"cluster\", on=\"genre\")\n",
    "    .fill_null(0)\n",
    "    .sort(\"cluster\")\n",
    ")\n",
    "\n",
    "ct"
   ]
  },
  {
   "cell_type": "markdown",
   "id": "aab81090",
   "metadata": {},
   "source": [
    "Purity per cluster = max genre count / total in that cluster\n",
    "\n",
    "> “Purity ≈ 0.2–0.25: what that says about genre vs. emotion”\n",
    "\n",
    "Purity here is “most common genre in a cluster / cluster size.” Low purity is expected: high-level genre labels don’t map one-to-one with affect. It’s normal to see mixed genres in the same emotional region (e.g., “upbeat + energetic” can be rock or electronic)."
   ]
  },
  {
   "cell_type": "code",
   "execution_count": 26,
   "id": "b7131544",
   "metadata": {},
   "outputs": [
    {
     "data": {
      "text/html": [
       "<div><style>\n",
       ".dataframe > thead > tr,\n",
       ".dataframe > tbody > tr {\n",
       "  text-align: right;\n",
       "  white-space: pre-wrap;\n",
       "}\n",
       "</style>\n",
       "<small>shape: (5, 2)</small><table border=\"1\" class=\"dataframe\"><thead><tr><th>cluster</th><th>purity</th></tr><tr><td>i64</td><td>f64</td></tr></thead><tbody><tr><td>0</td><td>0.238095</td></tr><tr><td>1</td><td>0.206897</td></tr><tr><td>2</td><td>0.246753</td></tr><tr><td>3</td><td>0.226361</td></tr><tr><td>4</td><td>0.222222</td></tr></tbody></table></div>"
      ],
      "text/plain": [
       "shape: (5, 2)\n",
       "┌─────────┬──────────┐\n",
       "│ cluster ┆ purity   │\n",
       "│ ---     ┆ ---      │\n",
       "│ i64     ┆ f64      │\n",
       "╞═════════╪══════════╡\n",
       "│ 0       ┆ 0.238095 │\n",
       "│ 1       ┆ 0.206897 │\n",
       "│ 2       ┆ 0.246753 │\n",
       "│ 3       ┆ 0.226361 │\n",
       "│ 4       ┆ 0.222222 │\n",
       "└─────────┴──────────┘"
      ]
     },
     "execution_count": 26,
     "metadata": {},
     "output_type": "execute_result"
    }
   ],
   "source": [
    "purity_df = (\n",
    "    ct.with_columns(\n",
    "        [\n",
    "            pl.sum_horizontal(pl.all().exclude(\"cluster\")).alias(\"total\"),\n",
    "            pl.max_horizontal(pl.all().exclude(\"cluster\")).alias(\"max_cnt\"),\n",
    "        ]\n",
    "    )\n",
    "    .with_columns((pl.col(\"max_cnt\") / pl.col(\"total\")).alias(\"purity\"))\n",
    "    .select([\"cluster\", \"purity\"])\n",
    ")\n",
    "\n",
    "purity_df"
   ]
  },
  {
   "cell_type": "code",
   "execution_count": 27,
   "id": "066a5026",
   "metadata": {},
   "outputs": [
    {
     "name": "stdout",
     "output_type": "stream",
     "text": [
      "cluster 0: purity=0.24 | center=(0.37, 0.33) | top_genres={'rock': 60, 'folk/country': 46, 'electronic': 42}\n",
      "cluster 1: purity=0.21 | center=(-0.31, -0.43) | top_genres={'classical': 96, 'folk/country': 94, 'electronic': 74}\n",
      "cluster 2: purity=0.25 | center=(0.11, 0.14) | top_genres={'rock': 133, 'folk/country': 80, 'electronic': 72}\n",
      "cluster 3: purity=0.23 | center=(-0.20, -0.01) | top_genres={'rock': 79, 'folk/country': 63, 'classical': 53}\n",
      "cluster 4: purity=0.22 | center=(0.01, -0.24) | top_genres={'rock': 44, 'folk/country': 37, 'blues/soul': 25}\n"
     ]
    }
   ],
   "source": [
    "top3_df = (\n",
    "    eval_pl.group_by([\"cluster\", \"genre\"])\n",
    "    .len()\n",
    "    .sort([\"cluster\", \"len\"], descending=[False, True])\n",
    "    .group_by(\"cluster\")\n",
    "    .agg(\n",
    "        [\n",
    "            pl.col(\"genre\").head(3).alias(\"top_genres\"),\n",
    "            pl.col(\"len\").head(3).alias(\"top_counts\"),\n",
    "        ]\n",
    "    )\n",
    ")\n",
    "\n",
    "# Cluster centers (back in original valence/arousal space)\n",
    "centers_orig = scaler.inverse_transform(gm.means_)\n",
    "center_map = {\n",
    "    i: (centers_orig[i, 0], centers_orig[i, 1]) for i in range(centers_orig.shape[0])\n",
    "}\n",
    "\n",
    "# Pretty print summary\n",
    "purity_map = dict(zip(purity_df[\"cluster\"].to_list(), purity_df[\"purity\"].to_list()))\n",
    "for row in top3_df.iter_rows(named=True):\n",
    "    top = dict(zip(row[\"top_genres\"], row[\"top_counts\"]))\n",
    "    cx, cy = center_map[row[\"cluster\"]]\n",
    "    print(\n",
    "        f\"cluster {row['cluster']}: purity={purity_map[row['cluster']]:.2f} | center=({cx:.2f}, {cy:.2f}) | top_genres={top}\"\n",
    "    )\n"
   ]
  },
  {
   "cell_type": "markdown",
   "id": "c65412bf",
   "metadata": {},
   "source": [
    "## Plot clusters in valence-arousal space"
   ]
  },
  {
   "cell_type": "code",
   "execution_count": 28,
   "id": "f589028d",
   "metadata": {},
   "outputs": [
    {
     "name": "stdout",
     "output_type": "stream",
     "text": [
      "Quadrant counts (overall): Q1=647, Q2=229, Q3=686, Q4=240\n",
      "Cluster 0 quadrant counts: Q1=251, Q2=0, Q3=0, Q4=1\n",
      "Cluster 1 quadrant counts: Q1=0, Q2=0, Q3=454, Q4=10\n",
      "Cluster 2 quadrant counts: Q1=396, Q2=68, Q3=5, Q4=70\n",
      "Cluster 3 quadrant counts: Q1=0, Q2=161, Q3=188, Q4=0\n",
      "Cluster 4 quadrant counts: Q1=0, Q2=0, Q3=39, Q4=159\n"
     ]
    },
    {
     "data": {
      "image/png": "[encoded data removed]",
      "text/plain": [
       "<Figure size 800x700 with 1 Axes>"
      ]
     },
     "metadata": {},
     "output_type": "display_data"
    }
   ],
   "source": [
    "K = gm.n_components\n",
    "colors = (\n",
    "    plt.cm.tab10(np.linspace(0, 1, K))\n",
    "    if K <= 10\n",
    "    else plt.cm.nipy_spectral(np.linspace(0, 1, K))\n",
    ")\n",
    "\n",
    "plt.figure(figsize=(8, 7))\n",
    "for k in range(K):\n",
    "    mask = labels == k\n",
    "    plt.scatter(\n",
    "        X[mask, 0], X[mask, 1], s=12, alpha=0.6, color=colors[k], label=f\"cluster {k}\"\n",
    "    )\n",
    "\n",
    "# centers (in original space)\n",
    "plt.scatter(\n",
    "    centers_orig[:, 0],\n",
    "    centers_orig[:, 1],\n",
    "    c=\"black\",\n",
    "    s=120,\n",
    "    marker=\"X\",\n",
    "    label=\"centers\",\n",
    ")\n",
    "\n",
    "# add \"Cluster k\" annotations near each center\n",
    "for k, (cx, cy) in enumerate(centers_orig):\n",
    "    plt.annotate(\n",
    "        f\"Cluster {k}\",\n",
    "        xy=(cx, cy),\n",
    "        xytext=(8, 10),  # offset to avoid overlapping the 'X'\n",
    "        textcoords=\"offset points\",\n",
    "        ha=\"left\",\n",
    "        va=\"bottom\",\n",
    "        fontsize=10,\n",
    "        fontweight=\"bold\",\n",
    "        color=\"black\",\n",
    "        bbox=dict(boxstyle=\"round,pad=0.2\", fc=\"white\", ec=colors[k], alpha=0.8),\n",
    "    )\n",
    "\n",
    "for i, (cx, cy) in enumerate(centers_orig):\n",
    "    plt.text(cx, cy, str(i), color=\"black\", fontsize=9, ha=\"center\", va=\"bottom\")\n",
    "\n",
    "# quadrant lines\n",
    "plt.axvline(0, color=\"gray\", lw=1, ls=\"--\")\n",
    "plt.axhline(0, color=\"gray\", lw=1, ls=\"--\")\n",
    "plt.xlabel(\"Valence\")\n",
    "plt.ylabel(\"Arousal\")\n",
    "plt.title(\"Clusters in Valence–Arousal Space\")\n",
    "plt.legend(loc=\"best\", frameon=False)\n",
    "plt.grid(alpha=0.2)\n",
    "\n",
    "# quadrant distribution (overall and per-cluster)\n",
    "q1 = int(np.sum((X[:, 0] >= 0) & (X[:, 1] >= 0)))\n",
    "q2 = int(np.sum((X[:, 0] < 0) & (X[:, 1] >= 0)))\n",
    "q3 = int(np.sum((X[:, 0] < 0) & (X[:, 1] < 0)))\n",
    "q4 = int(np.sum((X[:, 0] >= 0) & (X[:, 1] < 0)))\n",
    "print(f\"Quadrant counts (overall): Q1={q1}, Q2={q2}, Q3={q3}, Q4={q4}\")\n",
    "for k in range(K):\n",
    "    Xm = X[labels == k]\n",
    "    q1k = int(np.sum((Xm[:, 0] >= 0) & (Xm[:, 1] >= 0)))\n",
    "    q2k = int(np.sum((Xm[:, 0] < 0) & (Xm[:, 1] >= 0)))\n",
    "    q3k = int(np.sum((Xm[:, 0] < 0) & (Xm[:, 1] < 0)))\n",
    "    q4k = int(np.sum((Xm[:, 0] >= 0) & (Xm[:, 1] < 0)))\n",
    "    print(f\"Cluster {k} quadrant counts: Q1={q1k}, Q2={q2k}, Q3={q3k}, Q4={q4k}\")\n",
    "\n",
    "plt.tight_layout()\n",
    "plt.show()"
   ]
  },
  {
   "cell_type": "markdown",
   "id": "99269210",
   "metadata": {},
   "source": [
    "The emotion landscape is not genre-pure: every cluster mixes many genres, and purity ≈0.2–0.25 across the board.\n",
    "\n",
    "There are two distinct positive–energetic regions (k=0 mild, k=2 strong), and two negative–low-arousal regions (k=3 pronounced, k=1 milder/tenser). A near-neutral/low-arousal region (k=4) rounds out the five.\n",
    "\n",
    "The metrics (Silhouette ~0.32, DB ~0.92) are consistent with real, moderately distinct structure in valence–arousal space; not perfectly separable (expected for affect data), but useful."
   ]
  },
  {
   "cell_type": "markdown",
   "id": "4eba78bb",
   "metadata": {},
   "source": [
    "## Evaluate Clusters"
   ]
  },
  {
   "cell_type": "markdown",
   "id": "99c30092",
   "metadata": {},
   "source": [
    "**Silhouette score** \n",
    "\n",
    "+ Silhouette compares how close a point is to its own cluster vs. the nearest other cluster.   \n",
    "+ It ranges from −1 to 1.   \n",
    "+ Values > 0.5 suggest strong structure, ~0.25–0.5 suggest reasonable structure, and ≤ 0 indicate overlapping or wrong assignments.   \n",
    "+ Our 0.3 indicates moderately separated clusters.\n",
    "\n",
    "**Davies–Bouldin index**  \n",
    "\n",
    "+ DB measures the average similarity between each cluster and its most similar neighbor; lower is better. \n",
    "+ Values < 1 generally indicate compact, well-separated clusters. \n",
    "+ Ours is 0.920 → healthy separation.\n",
    "\n",
    "**Calinski–Harabasz index** \n",
    "  \n",
    "+ CH is the ratio of between-cluster dispersion to within-cluster dispersion; higher is better. \n",
    "+ It tends to grow with clearer separation and more compact clusters. \n",
    "+ Because it’s unbounded, we compare it across candidate solutions rather than interpret it absolutely.\n",
    "\n",
    "**Posterior entropy (soft assignment uncertainty)**  \n",
    "\n",
    "+ Given the per-cluster posteriors for a point, entropy summarizes how confident the model is. \n",
    "+ Entropy is 0 for a crisp assignment (one posterior ≈1) and higher when probability mass is spread. \n",
    "+ Reporting mean entropy (and its distribution per cluster) helps identify borderline vs core points."
   ]
  },
  {
   "cell_type": "code",
   "execution_count": 29,
   "id": "14c4ea12",
   "metadata": {},
   "outputs": [
    {
     "name": "stdout",
     "output_type": "stream",
     "text": [
      "K=5, cov=diag\n",
      "BIC=7608.4 | train_LL=-2.579 | test_LL=-2.626\n",
      "Full data → silhouette=0.325 | davies-bouldin=0.899 | calinski-harabasz=1538.6 | avg posterior entropy=0.686\n",
      "Train       → silhouette=0.329 | DB=0.897 | CH=1237.7\n",
      "Test        → silhouette=0.302 | DB=0.920 | CH=300.8 | avg posterior entropy=0.691\n"
     ]
    }
   ],
   "source": [
    "print(f\"K={gm.n_components}, cov={gm.covariance_type}\")\n",
    "print(f\"BIC={best_bic:.1f} | train_LL={train_ll:.3f} | test_LL={test_ll:.3f}\")\n",
    "\n",
    "print(\n",
    "    f\"Full data → silhouette={sil:.3f} | davies-bouldin={db:.3f} | calinski-harabasz={ch:.1f} | avg posterior entropy={entropy:.3f}\"\n",
    ")\n",
    "\n",
    "print(f\"Train       → silhouette={sil_tr:.3f} | DB={db_tr:.3f} | CH={ch_tr:.1f}\")\n",
    "print(\n",
    "    f\"Test        → silhouette={sil_te:.3f} | DB={db_te:.3f} | CH={ch_te:.1f} | avg posterior entropy={entropy_te:.3f}\"\n",
    ")\n"
   ]
  },
  {
   "cell_type": "code",
   "execution_count": 30,
   "id": "8923b4d7",
   "metadata": {},
   "outputs": [
    {
     "name": "stdout",
     "output_type": "stream",
     "text": [
      "converged: True | iters: 8\n",
      "min eigenvalue: 0.2133584752332683\n"
     ]
    }
   ],
   "source": [
    "print(\"converged:\", gm.converged_, \"| iters:\", gm.n_iter_)\n",
    "# check smallest eigenvalue across components (standardized space)\n",
    "\n",
    "\n",
    "def min_eigvals(gm):\n",
    "    if gm.covariance_type == \"full\":\n",
    "        return min(np.linalg.eigvalsh(S).min() for S in gm.covariances_)\n",
    "    elif gm.covariance_type == \"diag\":\n",
    "        return float(np.min(gm.covariances_))\n",
    "    else:  # 'tied' or 'spherical' if you ever use them\n",
    "        return float(np.min(gm.covariances_))\n",
    "\n",
    "\n",
    "print(\"min eigenvalue:\", min_eigvals(gm))\n"
   ]
  },
  {
   "cell_type": "code",
   "execution_count": 31,
   "id": "5283d9d1",
   "metadata": {},
   "outputs": [],
   "source": [
    "# # ---- 4) (Optional) Attach cluster labels back to a Polars frame ----\n",
    "# # Use this for downstream retrieval or plotting.\n",
    "# deam_with_clusters = df_pl.with_columns([\n",
    "# pl.Series('cluster', labels),\n",
    "# pl.Series('cluster_conf', proba.max(axis=1)),\n",
    "# ])\n",
    "\n",
    "\n",
    "# # ---- 5) Helper: match a new (valence, arousal) prediction to a cluster ----\n",
    "# # Example: match_cluster(5.2, 4.1)\n",
    "\n",
    "\n",
    "# def match_cluster(valence: float, arousal: float):\n",
    "# x = np.array([[valence, arousal]])\n",
    "# p = gm.predict_proba(scaler.transform(x)).ravel()\n",
    "# k = int(np.argmax(p))\n",
    "# return {'cluster': k, 'confidence': float(p[k])}"
   ]
  },
  {
   "cell_type": "markdown",
   "id": "503787ac",
   "metadata": {},
   "source": [
    "# HDBSCAN"
   ]
  },
  {
   "cell_type": "code",
   "execution_count": 32,
   "id": "7bee9a58",
   "metadata": {},
   "outputs": [],
   "source": [
    "Xtr, Xte, genres_tr, genres_te = train_test_split(\n",
    "    Xs, genres, test_size=0.2, random_state=2025, shuffle=True\n",
    ")\n",
    "Gtr = np.array(genres_tr)\n",
    "Gte = np.array(genres_te)"
   ]
  },
  {
   "cell_type": "markdown",
   "id": "87adb0a7",
   "metadata": {},
   "source": [
    "## Fit on Train"
   ]
  },
  {
   "cell_type": "code",
   "execution_count": 33,
   "id": "4810a1cf",
   "metadata": {},
   "outputs": [
    {
     "name": "stderr",
     "output_type": "stream",
     "text": [
      "/Users/desmondchoy/Projects/emo-rec/.venv/lib/python3.12/site-packages/sklearn/utils/deprecation.py:132: FutureWarning: 'force_all_finite' was renamed to 'ensure_all_finite' in 1.6 and will be removed in 1.8.\n",
      "  warnings.warn(\n",
      "/Users/desmondchoy/Projects/emo-rec/.venv/lib/python3.12/site-packages/sklearn/utils/deprecation.py:132: FutureWarning: 'force_all_finite' was renamed to 'ensure_all_finite' in 1.6 and will be removed in 1.8.\n",
      "  warnings.warn(\n"
     ]
    }
   ],
   "source": [
    "hdb = hdbscan.HDBSCAN(\n",
    "    min_cluster_size=30,  # tune as needed\n",
    "    min_samples=10,  # or an int (e.g. 10)\n",
    "    metric=\"euclidean\",\n",
    "    prediction_data=True,  # required for approximate_predict on test\n",
    "    cluster_selection_method=\"leaf\",\n",
    ").fit(Xtr)\n",
    "\n",
    "labels_tr = hdb.labels_\n",
    "probs_tr = hdb.probabilities_\n",
    "\n",
    "labels_te, probs_te = hdbscan_pred.approximate_predict(hdb, Xte)"
   ]
  },
  {
   "cell_type": "code",
   "execution_count": 34,
   "id": "528abafb",
   "metadata": {},
   "outputs": [],
   "source": [
    "X_all = np.vstack([Xtr, Xte])\n",
    "labels_all = np.concatenate([labels_tr, labels_te])\n",
    "genres_all = np.concatenate([Gtr, Gte])\n",
    "non_noise = labels_all >= 0\n",
    "uniq_cls = np.unique(labels_all[non_noise])\n",
    "noise_frac = float(np.mean(labels_all == -1))"
   ]
  },
  {
   "cell_type": "markdown",
   "id": "14b2ce36",
   "metadata": {},
   "source": [
    "## Evaluate"
   ]
  },
  {
   "cell_type": "code",
   "execution_count": 35,
   "id": "ae09cdf0",
   "metadata": {},
   "outputs": [
    {
     "data": {
      "text/html": [
       "<div><style>\n",
       ".dataframe > thead > tr,\n",
       ".dataframe > tbody > tr {\n",
       "  text-align: right;\n",
       "  white-space: pre-wrap;\n",
       "}\n",
       "</style>\n",
       "<small>shape: (8, 8)</small><table border=\"1\" class=\"dataframe\"><thead><tr><th>cluster_id</th><th>n_points</th><th>center_valence</th><th>center_arousal</th><th>purity</th><th>majority_label</th><th>majority_count</th><th>top_genres</th></tr><tr><td>i64</td><td>i64</td><td>f64</td><td>f64</td><td>f64</td><td>str</td><td>i64</td><td>struct[7]</td></tr></thead><tbody><tr><td>0</td><td>41</td><td>-0.009764</td><td>-0.878605</td><td>0.219512</td><td>&quot;folk/country&quot;</td><td>9</td><td>{9,8,6,null,null,null,null}</td></tr><tr><td>1</td><td>62</td><td>-1.013387</td><td>-1.381212</td><td>0.241935</td><td>&quot;folk/country&quot;</td><td>15</td><td>{15,14,null,9,null,null,null}</td></tr><tr><td>2</td><td>61</td><td>-0.504867</td><td>-1.305199</td><td>0.180328</td><td>&quot;blues/soul&quot;</td><td>11</td><td>{11,null,11,null,11,null,null}</td></tr><tr><td>3</td><td>91</td><td>-0.626038</td><td>-0.595016</td><td>0.241758</td><td>&quot;rock&quot;</td><td>22</td><td>{17,22,null,17,null,null,null}</td></tr><tr><td>4</td><td>54</td><td>1.211146</td><td>1.285378</td><td>0.296296</td><td>&quot;rock&quot;</td><td>16</td><td>{null,16,10,null,9,null,null}</td></tr><tr><td>5</td><td>37</td><td>0.928901</td><td>0.838769</td><td>0.405405</td><td>&quot;rock&quot;</td><td>15</td><td>{7,15,null,null,null,5,null}</td></tr><tr><td>6</td><td>88</td><td>0.627129</td><td>0.439938</td><td>0.272727</td><td>&quot;rock&quot;</td><td>24</td><td>{null,24,null,null,13,null,15}</td></tr><tr><td>7</td><td>39</td><td>0.17776</td><td>0.285106</td><td>0.307692</td><td>&quot;rock&quot;</td><td>12</td><td>{null,12,null,null,9,null,5}</td></tr></tbody></table></div>"
      ],
      "text/plain": [
       "shape: (8, 8)\n",
       "┌────────────┬──────────┬────────────┬────────────┬──────────┬────────────┬────────────┬───────────┐\n",
       "│ cluster_id ┆ n_points ┆ center_val ┆ center_aro ┆ purity   ┆ majority_l ┆ majority_c ┆ top_genre │\n",
       "│ ---        ┆ ---      ┆ ence       ┆ usal       ┆ ---      ┆ abel       ┆ ount       ┆ s         │\n",
       "│ i64        ┆ i64      ┆ ---        ┆ ---        ┆ f64      ┆ ---        ┆ ---        ┆ ---       │\n",
       "│            ┆          ┆ f64        ┆ f64        ┆          ┆ str        ┆ i64        ┆ struct[7] │\n",
       "╞════════════╪══════════╪════════════╪════════════╪══════════╪════════════╪════════════╪═══════════╡\n",
       "│ 0          ┆ 41       ┆ -0.009764  ┆ -0.878605  ┆ 0.219512 ┆ folk/count ┆ 9          ┆ {9,8,6,nu │\n",
       "│            ┆          ┆            ┆            ┆          ┆ ry         ┆            ┆ ll,null,n │\n",
       "│            ┆          ┆            ┆            ┆          ┆            ┆            ┆ ull,null} │\n",
       "│ 1          ┆ 62       ┆ -1.013387  ┆ -1.381212  ┆ 0.241935 ┆ folk/count ┆ 15         ┆ {15,14,nu │\n",
       "│            ┆          ┆            ┆            ┆          ┆ ry         ┆            ┆ ll,9,null │\n",
       "│            ┆          ┆            ┆            ┆          ┆            ┆            ┆ ,null,nul │\n",
       "│            ┆          ┆            ┆            ┆          ┆            ┆            ┆ l}        │\n",
       "│ 2          ┆ 61       ┆ -0.504867  ┆ -1.305199  ┆ 0.180328 ┆ blues/soul ┆ 11         ┆ {11,null, │\n",
       "│            ┆          ┆            ┆            ┆          ┆            ┆            ┆ 11,null,1 │\n",
       "│            ┆          ┆            ┆            ┆          ┆            ┆            ┆ 1,null,nu │\n",
       "│            ┆          ┆            ┆            ┆          ┆            ┆            ┆ ll}       │\n",
       "│ 3          ┆ 91       ┆ -0.626038  ┆ -0.595016  ┆ 0.241758 ┆ rock       ┆ 22         ┆ {17,22,nu │\n",
       "│            ┆          ┆            ┆            ┆          ┆            ┆            ┆ ll,17,nul │\n",
       "│            ┆          ┆            ┆            ┆          ┆            ┆            ┆ l,null,nu │\n",
       "│            ┆          ┆            ┆            ┆          ┆            ┆            ┆ ll}       │\n",
       "│ 4          ┆ 54       ┆ 1.211146   ┆ 1.285378   ┆ 0.296296 ┆ rock       ┆ 16         ┆ {null,16, │\n",
       "│            ┆          ┆            ┆            ┆          ┆            ┆            ┆ 10,null,9 │\n",
       "│            ┆          ┆            ┆            ┆          ┆            ┆            ┆ ,null,nul │\n",
       "│            ┆          ┆            ┆            ┆          ┆            ┆            ┆ l}        │\n",
       "│ 5          ┆ 37       ┆ 0.928901   ┆ 0.838769   ┆ 0.405405 ┆ rock       ┆ 15         ┆ {7,15,nul │\n",
       "│            ┆          ┆            ┆            ┆          ┆            ┆            ┆ l,null,nu │\n",
       "│            ┆          ┆            ┆            ┆          ┆            ┆            ┆ ll,5,null │\n",
       "│            ┆          ┆            ┆            ┆          ┆            ┆            ┆ }         │\n",
       "│ 6          ┆ 88       ┆ 0.627129   ┆ 0.439938   ┆ 0.272727 ┆ rock       ┆ 24         ┆ {null,24, │\n",
       "│            ┆          ┆            ┆            ┆          ┆            ┆            ┆ null,null │\n",
       "│            ┆          ┆            ┆            ┆          ┆            ┆            ┆ ,13,null, │\n",
       "│            ┆          ┆            ┆            ┆          ┆            ┆            ┆ 15}       │\n",
       "│ 7          ┆ 39       ┆ 0.17776    ┆ 0.285106   ┆ 0.307692 ┆ rock       ┆ 12         ┆ {null,12, │\n",
       "│            ┆          ┆            ┆            ┆          ┆            ┆            ┆ null,null │\n",
       "│            ┆          ┆            ┆            ┆          ┆            ┆            ┆ ,9,null,5 │\n",
       "│            ┆          ┆            ┆            ┆          ┆            ┆            ┆ }         │\n",
       "└────────────┴──────────┴────────────┴────────────┴──────────┴────────────┴────────────┴───────────┘"
      ]
     },
     "execution_count": 35,
     "metadata": {},
     "output_type": "execute_result"
    }
   ],
   "source": [
    "sil = None\n",
    "if uniq_cls.size >= 2:\n",
    "    sil = silhouette_score(X_all[non_noise], labels_all[non_noise], metric=\"euclidean\")\n",
    "\n",
    "rows = []\n",
    "for cid in sorted(uniq_cls):\n",
    "    m = labels_all == cid\n",
    "    Xi = X_all[m]\n",
    "    center = Xi.mean(axis=0)\n",
    "    cnts = Counter(genres_all[m])\n",
    "    maj_label, maj_count = cnts.most_common(1)[0]\n",
    "    purity = maj_count / m.sum()\n",
    "    top3 = dict(cnts.most_common(3))\n",
    "\n",
    "    rows.append(\n",
    "        {\n",
    "            \"cluster_id\": int(cid),\n",
    "            \"n_points\": int(m.sum()),\n",
    "            \"center_valence\": float(center[0]),\n",
    "            \"center_arousal\": float(center[1]),\n",
    "            \"purity\": float(purity),\n",
    "            \"majority_label\": maj_label,\n",
    "            \"majority_count\": int(maj_count),\n",
    "            \"top_genres\": top3,\n",
    "        }\n",
    "    )\n",
    "\n",
    "# Polars report (optional to display/inspect)\n",
    "cluster_report_pl = pl.DataFrame(rows).sort(\"cluster_id\")\n",
    "cluster_report_pl"
   ]
  },
  {
   "cell_type": "code",
   "execution_count": 36,
   "id": "5bdf8d58",
   "metadata": {},
   "outputs": [
    {
     "name": "stdout",
     "output_type": "stream",
     "text": [
      "HDBSCAN clustering summary\n",
      "- total points: 1802\n",
      "- clusters (excl. noise): 8\n",
      "- noise fraction: 73.75%\n",
      "- silhouette (non-noise): 0.447\n",
      "cluster 0: purity=0.22 | center=(-0.01, -0.88) | top_genres={'folk/country': 9, 'rock': 8, 'blues/soul': 6}\n",
      "cluster 1: purity=0.24 | center=(-1.01, -1.38) | top_genres={'folk/country': 15, 'rock': 14, 'classical': 9}\n",
      "cluster 2: purity=0.18 | center=(-0.50, -1.31) | top_genres={'blues/soul': 11, 'electronic': 11, 'folk/country': 11}\n",
      "cluster 3: purity=0.24 | center=(-0.63, -0.60) | top_genres={'rock': 22, 'classical': 17, 'folk/country': 17}\n",
      "cluster 4: purity=0.30 | center=(+1.21, +1.29) | top_genres={'rock': 16, 'blues/soul': 10, 'electronic': 9}\n",
      "cluster 5: purity=0.41 | center=(+0.93, +0.84) | top_genres={'rock': 15, 'folk/country': 7, 'pop': 5}\n",
      "cluster 6: purity=0.27 | center=(+0.63, +0.44) | top_genres={'rock': 24, 'hip-hop': 15, 'electronic': 13}\n",
      "cluster 7: purity=0.31 | center=(+0.18, +0.29) | top_genres={'rock': 12, 'electronic': 9, 'hip-hop': 5}\n",
      "\n",
      "Weighted avg. purity (excl. noise): 0.262\n"
     ]
    }
   ],
   "source": [
    "def _fmt_center(v, a):\n",
    "    return f\"({v:+.2f}, {a:+.2f})\"\n",
    "\n",
    "\n",
    "print(\"HDBSCAN clustering summary\")\n",
    "print(f\"- total points: {X_all.shape[0]}\")\n",
    "print(f\"- clusters (excl. noise): {uniq_cls.size}\")\n",
    "print(f\"- noise fraction: {noise_frac:.2%}\")\n",
    "print(\n",
    "    f\"- silhouette (non-noise): {sil:.3f}\"\n",
    "    if sil is not None\n",
    "    else \"- silhouette (non-noise): n/a\"\n",
    ")\n",
    "\n",
    "for r in rows:\n",
    "    print(\n",
    "        f\"cluster {r['cluster_id']}: \"\n",
    "        f\"purity={r['purity']:.2f} | \"\n",
    "        f\"center={_fmt_center(r['center_valence'], r['center_arousal'])} | \"\n",
    "        f\"top_genres={r['top_genres']}\"\n",
    "    )\n",
    "\n",
    "if rows:\n",
    "    wavg_purity = np.average(\n",
    "        [r[\"purity\"] for r in rows], weights=[r[\"n_points\"] for r in rows]\n",
    "    )\n",
    "    print(f\"\\nWeighted avg. purity (excl. noise): {wavg_purity:.3f}\")\n"
   ]
  },
  {
   "cell_type": "markdown",
   "id": "1e8d9207",
   "metadata": {},
   "source": [
    "## Visualize"
   ]
  },
  {
   "cell_type": "code",
   "execution_count": 37,
   "id": "bd9d5bba",
   "metadata": {},
   "outputs": [
    {
     "data": {
      "image/png": "[encoded data removed]",
      "text/plain": [
       "<Figure size 700x600 with 1 Axes>"
      ]
     },
     "metadata": {},
     "output_type": "display_data"
    }
   ],
   "source": [
    "fig, ax = plt.subplots(figsize=(7, 6))\n",
    "\n",
    "# plot noise as grey crosses\n",
    "noise_mask = labels_all == -1\n",
    "if noise_mask.any():\n",
    "    ax.scatter(\n",
    "        X_all[noise_mask, 0],\n",
    "        X_all[noise_mask, 1],\n",
    "        s=12,\n",
    "        marker=\"x\",\n",
    "        alpha=0.6,\n",
    "        linewidths=0.8,\n",
    "        color=\"gray\",\n",
    "        label=\"noise\",\n",
    "    )\n",
    "\n",
    "# color clusters\n",
    "cmap = plt.get_cmap(\"tab20\", max(1, uniq_cls.size))\n",
    "for i, cid in enumerate(sorted(uniq_cls)):\n",
    "    m = labels_all == cid\n",
    "    ax.scatter(\n",
    "        X_all[m, 0],\n",
    "        X_all[m, 1],\n",
    "        s=14,\n",
    "        alpha=0.65,\n",
    "        label=f\"cluster {cid}\",\n",
    "        color=cmap(i),\n",
    "    )\n",
    "    # draw center + id\n",
    "    c = cluster_report_pl.filter(pl.col(\"cluster_id\") == cid)\n",
    "    cv, ca = float(c[\"center_valence\"][0]), float(c[\"center_arousal\"][0])\n",
    "    ax.scatter(\n",
    "        [cv], [ca], s=160, edgecolor=\"black\", facecolor=\"white\", marker=\"o\", zorder=5\n",
    "    )\n",
    "    ax.text(\n",
    "        cv, ca, f\"{cid}\", fontsize=10, weight=\"bold\", ha=\"center\", va=\"center\", zorder=6\n",
    "    )\n",
    "\n",
    "ax.set_xlabel(\"valence_ref\")\n",
    "ax.set_ylabel(\"arousal_ref\")\n",
    "ax.set_title(\"HDBSCAN clusters on Valence–Arousal (train+test labels)\")\n",
    "ax.grid(alpha=0.25)\n",
    "ax.legend(loc=\"best\", fontsize=8, ncol=2)\n",
    "plt.tight_layout()\n",
    "plt.show()\n"
   ]
  }
 ],
 "metadata": {
  "kernelspec": {
   "display_name": ".venv",
   "language": "python",
   "name": "python3"
  },
  "language_info": {
   "codemirror_mode": {
    "name": "ipython",
    "version": 3
   },
   "file_extension": ".py",
   "mimetype": "text/x-python",
   "name": "python",
   "nbconvert_exporter": "python",
   "pygments_lexer": "ipython3",
   "version": "3.12.11"
  }
 },
 "nbformat": 4,
 "nbformat_minor": 5
}
