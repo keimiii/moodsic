{
 "cells": [
  {
   "cell_type": "markdown",
   "id": "90f63bc7",
   "metadata": {},
   "source": [
    "# Import Libs"
   ]
  },
  {
   "cell_type": "code",
   "execution_count": 1,
   "id": "17e2a6bd",
   "metadata": {},
   "outputs": [],
   "source": [
    "import polars as pl\n",
    "import polars.selectors as cs\n",
    "import numpy as np\n",
    "import re\n",
    "import matplotlib.pyplot as plt\n",
    "\n",
    "from sklearn.mixture import GaussianMixture, BayesianGaussianMixture\n",
    "from sklearn.preprocessing import StandardScaler\n",
    "from sklearn.metrics import (\n",
    "    silhouette_score,\n",
    "    davies_bouldin_score,\n",
    "    calinski_harabasz_score,\n",
    ")\n",
    "from sklearn.model_selection import train_test_split\n",
    "\n",
    "from collections import Counter"
   ]
  },
  {
   "cell_type": "markdown",
   "id": "5b0ef459",
   "metadata": {},
   "source": [
    "# Import Annotations"
   ]
  },
  {
   "cell_type": "code",
   "execution_count": 2,
   "id": "d866bf2d",
   "metadata": {},
   "outputs": [
    {
     "data": {
      "text/plain": [
       "((1744, 5), (58, 13))"
      ]
     },
     "execution_count": 2,
     "metadata": {},
     "output_type": "execute_result"
    }
   ],
   "source": [
    "anno_1 = pl.read_csv(\"../../data/DEAM/static_annotations_averaged_songs_1_2000.csv\")\n",
    "anno_1 = anno_1.rename({col: col.strip() for col in anno_1.columns})\n",
    "\n",
    "anno_2 = pl.read_csv(\"../../data/DEAM/static_annotations_averaged_songs_2000_2058.csv\")\n",
    "anno_2 = anno_2.rename({col: col.strip() for col in anno_2.columns})\n",
    "\n",
    "anno_1.shape, anno_2.shape"
   ]
  },
  {
   "cell_type": "code",
   "execution_count": 3,
   "id": "c45155b1",
   "metadata": {},
   "outputs": [
    {
     "data": {
      "text/html": [
       "<div><style>\n",
       ".dataframe > thead > tr,\n",
       ".dataframe > tbody > tr {\n",
       "  text-align: right;\n",
       "  white-space: pre-wrap;\n",
       "}\n",
       "</style>\n",
       "<small>shape: (1_744, 5)</small><table border=\"1\" class=\"dataframe\"><thead><tr><th>song_id</th><th>valence_mean</th><th>valence_std</th><th>arousal_mean</th><th>arousal_std</th></tr><tr><td>i64</td><td>f64</td><td>f64</td><td>f64</td><td>f64</td></tr></thead><tbody><tr><td>2</td><td>3.1</td><td>0.94</td><td>3.0</td><td>0.63</td></tr><tr><td>3</td><td>3.5</td><td>1.75</td><td>3.3</td><td>1.62</td></tr><tr><td>4</td><td>5.7</td><td>1.42</td><td>5.5</td><td>1.63</td></tr><tr><td>5</td><td>4.4</td><td>2.01</td><td>5.3</td><td>1.85</td></tr><tr><td>7</td><td>5.8</td><td>1.47</td><td>6.4</td><td>1.69</td></tr><tr><td>&hellip;</td><td>&hellip;</td><td>&hellip;</td><td>&hellip;</td><td>&hellip;</td></tr><tr><td>1996</td><td>3.9</td><td>1.87</td><td>5.9</td><td>2.21</td></tr><tr><td>1997</td><td>5.3</td><td>1.42</td><td>3.9</td><td>1.14</td></tr><tr><td>1998</td><td>6.4</td><td>1.5</td><td>6.2</td><td>1.6</td></tr><tr><td>1999</td><td>4.6</td><td>2.11</td><td>5.4</td><td>1.8</td></tr><tr><td>2000</td><td>5.8</td><td>1.78</td><td>6.0</td><td>1.67</td></tr></tbody></table></div>"
      ],
      "text/plain": [
       "shape: (1_744, 5)\n",
       "┌─────────┬──────────────┬─────────────┬──────────────┬─────────────┐\n",
       "│ song_id ┆ valence_mean ┆ valence_std ┆ arousal_mean ┆ arousal_std │\n",
       "│ ---     ┆ ---          ┆ ---         ┆ ---          ┆ ---         │\n",
       "│ i64     ┆ f64          ┆ f64         ┆ f64          ┆ f64         │\n",
       "╞═════════╪══════════════╪═════════════╪══════════════╪═════════════╡\n",
       "│ 2       ┆ 3.1          ┆ 0.94        ┆ 3.0          ┆ 0.63        │\n",
       "│ 3       ┆ 3.5          ┆ 1.75        ┆ 3.3          ┆ 1.62        │\n",
       "│ 4       ┆ 5.7          ┆ 1.42        ┆ 5.5          ┆ 1.63        │\n",
       "│ 5       ┆ 4.4          ┆ 2.01        ┆ 5.3          ┆ 1.85        │\n",
       "│ 7       ┆ 5.8          ┆ 1.47        ┆ 6.4          ┆ 1.69        │\n",
       "│ …       ┆ …            ┆ …           ┆ …            ┆ …           │\n",
       "│ 1996    ┆ 3.9          ┆ 1.87        ┆ 5.9          ┆ 2.21        │\n",
       "│ 1997    ┆ 5.3          ┆ 1.42        ┆ 3.9          ┆ 1.14        │\n",
       "│ 1998    ┆ 6.4          ┆ 1.5         ┆ 6.2          ┆ 1.6         │\n",
       "│ 1999    ┆ 4.6          ┆ 2.11        ┆ 5.4          ┆ 1.8         │\n",
       "│ 2000    ┆ 5.8          ┆ 1.78        ┆ 6.0          ┆ 1.67        │\n",
       "└─────────┴──────────────┴─────────────┴──────────────┴─────────────┘"
      ]
     },
     "metadata": {},
     "output_type": "display_data"
    },
    {
     "data": {
      "text/html": [
       "<div><style>\n",
       ".dataframe > thead > tr,\n",
       ".dataframe > tbody > tr {\n",
       "  text-align: right;\n",
       "  white-space: pre-wrap;\n",
       "}\n",
       "</style>\n",
       "<small>shape: (58, 13)</small><table border=\"1\" class=\"dataframe\"><thead><tr><th>song_id</th><th>valence_mean</th><th>valence_std</th><th>valence_ max_mean</th><th>valence_max_std</th><th>valence_min_mean</th><th>valence_min_std</th><th>arousal_mean</th><th>arousal_std</th><th>arousal_max_mean</th><th>arousal_max_std</th><th>arousal_min_mean</th><th>arousal_min_std</th></tr><tr><td>i64</td><td>f64</td><td>f64</td><td>f64</td><td>f64</td><td>f64</td><td>f64</td><td>f64</td><td>f64</td><td>f64</td><td>f64</td><td>f64</td><td>f64</td></tr></thead><tbody><tr><td>2001</td><td>3.2</td><td>0.98</td><td>5.0</td><td>1.41</td><td>2.2</td><td>0.98</td><td>6.6</td><td>0.8</td><td>8.6</td><td>0.49</td><td>3.4</td><td>1.02</td></tr><tr><td>2002</td><td>6.4</td><td>0.49</td><td>8.2</td><td>0.98</td><td>5.0</td><td>1.1</td><td>5.2</td><td>1.17</td><td>7.4</td><td>1.36</td><td>2.2</td><td>1.17</td></tr><tr><td>2003</td><td>5.4</td><td>1.5</td><td>7.2</td><td>1.17</td><td>3.4</td><td>1.02</td><td>4.6</td><td>1.85</td><td>6.2</td><td>2.04</td><td>1.4</td><td>0.49</td></tr><tr><td>2004</td><td>5.0</td><td>1.1</td><td>6.4</td><td>1.02</td><td>3.2</td><td>1.17</td><td>4.8</td><td>1.6</td><td>6.0</td><td>2.28</td><td>2.8</td><td>0.98</td></tr><tr><td>2005</td><td>3.8</td><td>1.17</td><td>5.0</td><td>1.1</td><td>1.6</td><td>0.8</td><td>5.2</td><td>0.75</td><td>8.4</td><td>0.8</td><td>2.0</td><td>1.1</td></tr><tr><td>&hellip;</td><td>&hellip;</td><td>&hellip;</td><td>&hellip;</td><td>&hellip;</td><td>&hellip;</td><td>&hellip;</td><td>&hellip;</td><td>&hellip;</td><td>&hellip;</td><td>&hellip;</td><td>&hellip;</td><td>&hellip;</td></tr><tr><td>2054</td><td>5.4</td><td>1.2</td><td>6.0</td><td>1.1</td><td>4.4</td><td>1.36</td><td>3.6</td><td>1.36</td><td>4.2</td><td>1.33</td><td>2.4</td><td>0.8</td></tr><tr><td>2055</td><td>5.0</td><td>1.41</td><td>6.0</td><td>1.41</td><td>4.2</td><td>1.33</td><td>5.2</td><td>1.47</td><td>6.4</td><td>1.62</td><td>4.0</td><td>1.41</td></tr><tr><td>2056</td><td>5.0</td><td>1.41</td><td>5.6</td><td>1.62</td><td>4.4</td><td>1.36</td><td>4.6</td><td>1.74</td><td>5.0</td><td>1.79</td><td>4.0</td><td>1.67</td></tr><tr><td>2057</td><td>3.17</td><td>1.07</td><td>4.5</td><td>0.76</td><td>2.17</td><td>0.9</td><td>6.83</td><td>0.37</td><td>8.17</td><td>0.9</td><td>4.83</td><td>1.46</td></tr><tr><td>2058</td><td>3.8</td><td>0.75</td><td>4.6</td><td>0.8</td><td>2.8</td><td>0.75</td><td>5.8</td><td>1.17</td><td>7.4</td><td>0.8</td><td>3.8</td><td>1.17</td></tr></tbody></table></div>"
      ],
      "text/plain": [
       "shape: (58, 13)\n",
       "┌─────────┬────────────┬───────────┬───────────┬───┬───────────┬───────────┬───────────┬───────────┐\n",
       "│ song_id ┆ valence_me ┆ valence_s ┆ valence_  ┆ … ┆ arousal_m ┆ arousal_m ┆ arousal_m ┆ arousal_m │\n",
       "│ ---     ┆ an         ┆ td        ┆ max_mean  ┆   ┆ ax_mean   ┆ ax_std    ┆ in_mean   ┆ in_std    │\n",
       "│ i64     ┆ ---        ┆ ---       ┆ ---       ┆   ┆ ---       ┆ ---       ┆ ---       ┆ ---       │\n",
       "│         ┆ f64        ┆ f64       ┆ f64       ┆   ┆ f64       ┆ f64       ┆ f64       ┆ f64       │\n",
       "╞═════════╪════════════╪═══════════╪═══════════╪═══╪═══════════╪═══════════╪═══════════╪═══════════╡\n",
       "│ 2001    ┆ 3.2        ┆ 0.98      ┆ 5.0       ┆ … ┆ 8.6       ┆ 0.49      ┆ 3.4       ┆ 1.02      │\n",
       "│ 2002    ┆ 6.4        ┆ 0.49      ┆ 8.2       ┆ … ┆ 7.4       ┆ 1.36      ┆ 2.2       ┆ 1.17      │\n",
       "│ 2003    ┆ 5.4        ┆ 1.5       ┆ 7.2       ┆ … ┆ 6.2       ┆ 2.04      ┆ 1.4       ┆ 0.49      │\n",
       "│ 2004    ┆ 5.0        ┆ 1.1       ┆ 6.4       ┆ … ┆ 6.0       ┆ 2.28      ┆ 2.8       ┆ 0.98      │\n",
       "│ 2005    ┆ 3.8        ┆ 1.17      ┆ 5.0       ┆ … ┆ 8.4       ┆ 0.8       ┆ 2.0       ┆ 1.1       │\n",
       "│ …       ┆ …          ┆ …         ┆ …         ┆ … ┆ …         ┆ …         ┆ …         ┆ …         │\n",
       "│ 2054    ┆ 5.4        ┆ 1.2       ┆ 6.0       ┆ … ┆ 4.2       ┆ 1.33      ┆ 2.4       ┆ 0.8       │\n",
       "│ 2055    ┆ 5.0        ┆ 1.41      ┆ 6.0       ┆ … ┆ 6.4       ┆ 1.62      ┆ 4.0       ┆ 1.41      │\n",
       "│ 2056    ┆ 5.0        ┆ 1.41      ┆ 5.6       ┆ … ┆ 5.0       ┆ 1.79      ┆ 4.0       ┆ 1.67      │\n",
       "│ 2057    ┆ 3.17       ┆ 1.07      ┆ 4.5       ┆ … ┆ 8.17      ┆ 0.9       ┆ 4.83      ┆ 1.46      │\n",
       "│ 2058    ┆ 3.8        ┆ 0.75      ┆ 4.6       ┆ … ┆ 7.4       ┆ 0.8       ┆ 3.8       ┆ 1.17      │\n",
       "└─────────┴────────────┴───────────┴───────────┴───┴───────────┴───────────┴───────────┴───────────┘"
      ]
     },
     "metadata": {},
     "output_type": "display_data"
    }
   ],
   "source": [
    "display(anno_1, anno_2)"
   ]
  },
  {
   "cell_type": "code",
   "execution_count": 4,
   "id": "49a3fabd",
   "metadata": {},
   "outputs": [],
   "source": [
    "all_annotations = pl.concat(\n",
    "    [\n",
    "        anno_1,\n",
    "        anno_2.select(\n",
    "            \"song_id\", \"valence_mean\", \"valence_std\", \"arousal_mean\", \"arousal_std\"\n",
    "        ),\n",
    "    ],\n",
    "    how=\"vertical\",\n",
    ")\n"
   ]
  },
  {
   "cell_type": "markdown",
   "id": "b95da690",
   "metadata": {},
   "source": [
    "# Import Metadata"
   ]
  },
  {
   "cell_type": "code",
   "execution_count": 5,
   "id": "03674ad0",
   "metadata": {},
   "outputs": [],
   "source": [
    "metadata_2013 = pl.read_csv(\"../../data/DEAM/metadata_2013.csv\")\n",
    "metadata_2014 = pl.read_csv(\n",
    "    \"../../data/DEAM/metadata_2014.csv\", truncate_ragged_lines=True\n",
    ")\n",
    "metadata_2015 = pl.read_csv(\n",
    "    \"../../data/DEAM/metadata_2015.csv\", truncate_ragged_lines=True\n",
    ")"
   ]
  },
  {
   "cell_type": "code",
   "execution_count": 6,
   "id": "902e8ca2",
   "metadata": {},
   "outputs": [],
   "source": [
    "metadata_2013 = (\n",
    "    metadata_2013.select(\"song_id\", \"Artist\", \"Song title\", \"Genre\")\n",
    "    .rename({\"Artist\": \"artist\", \"Song title\": \"song_title\", \"Genre\": \"genre\"})\n",
    "    .with_columns(\n",
    "        pl.col(pl.Utf8)\n",
    "        .str.replace_all(\"\\u00a0\", \" \")  # normalize non-breaking spaces if present\n",
    "        .str.strip_chars()  # strip whitespace (space, tab, newline, etc.)\n",
    "        .str.strip_chars('\"')  # then strip leading/trailing double quotes\n",
    "    )\n",
    ")"
   ]
  },
  {
   "cell_type": "code",
   "execution_count": 7,
   "id": "a63c94cd",
   "metadata": {},
   "outputs": [],
   "source": [
    "metadata_2014 = (\n",
    "    metadata_2014.select(\"Id\", \"Artist\", \"Track\", \"Genre\")\n",
    "    .rename(\n",
    "        {\n",
    "            \"Id\": \"song_id\",\n",
    "            \"Artist\": \"artist\",\n",
    "            \"Track\": \"song_title\",\n",
    "            \"Genre\": \"genre\",\n",
    "        }\n",
    "    )\n",
    "    .with_columns(\n",
    "        pl.col(pl.Utf8)\n",
    "        .str.replace_all(\"\\u00a0\", \" \")  # normalize non-breaking spaces if present\n",
    "        .str.strip_chars()  # strip whitespace (space, tab, newline, etc.)\n",
    "        .str.strip_chars('\"')  # then strip leading/trailing double quotes\n",
    "    )\n",
    ")"
   ]
  },
  {
   "cell_type": "code",
   "execution_count": 8,
   "id": "3f2ecfb5",
   "metadata": {},
   "outputs": [],
   "source": [
    "metadata_2015 = (\n",
    "    metadata_2015.select(\"id\", \"artist\", \"title\", \"genre\")\n",
    "    .rename(\n",
    "        {\n",
    "            \"id\": \"song_id\",\n",
    "            \"title\": \"song_title\",\n",
    "        }\n",
    "    )\n",
    "    .with_columns(\n",
    "        pl.col(pl.Utf8)\n",
    "        .str.replace_all(\"\\u00a0\", \" \")  # normalize non-breaking spaces if present\n",
    "        .str.strip_chars()  # strip whitespace (space, tab, newline, etc.)\n",
    "        .str.strip_chars('\"')  # then strip leading/trailing double quotes\n",
    "    )\n",
    ")"
   ]
  },
  {
   "cell_type": "code",
   "execution_count": 9,
   "id": "99b64bea",
   "metadata": {},
   "outputs": [],
   "source": [
    "all_metadata = pl.concat(\n",
    "    [metadata_2013, metadata_2014, metadata_2015],\n",
    "    how=\"vertical\",\n",
    ")"
   ]
  },
  {
   "cell_type": "markdown",
   "id": "b1575e03",
   "metadata": {},
   "source": [
    "# Join Annotations & Metadata"
   ]
  },
  {
   "cell_type": "code",
   "execution_count": 10,
   "id": "6de71aca",
   "metadata": {},
   "outputs": [
    {
     "data": {
      "text/html": [
       "<div><style>\n",
       ".dataframe > thead > tr,\n",
       ".dataframe > tbody > tr {\n",
       "  text-align: right;\n",
       "  white-space: pre-wrap;\n",
       "}\n",
       "</style>\n",
       "<small>shape: (1_802, 8)</small><table border=\"1\" class=\"dataframe\"><thead><tr><th>song_id</th><th>valence_mean</th><th>valence_std</th><th>arousal_mean</th><th>arousal_std</th><th>artist</th><th>song_title</th><th>genre</th></tr><tr><td>i64</td><td>f64</td><td>f64</td><td>f64</td><td>f64</td><td>str</td><td>str</td><td>str</td></tr></thead><tbody><tr><td>2</td><td>3.1</td><td>0.94</td><td>3.0</td><td>0.63</td><td>&quot;The New Mystikal Troubadours&quot;</td><td>&quot;Tonight&nbsp;&nbsp;A Lonely Century&quot;</td><td>&quot;blues&quot;</td></tr><tr><td>3</td><td>3.5</td><td>1.75</td><td>3.3</td><td>1.62</td><td>&quot;Kevin MacLeod&quot;</td><td>&quot;DD Groove&quot;</td><td>&quot;blues&quot;</td></tr><tr><td>4</td><td>5.7</td><td>1.42</td><td>5.5</td><td>1.63</td><td>&quot;Kevin MacLeod&quot;</td><td>&quot;Slow Burn&quot;</td><td>&quot;blues&quot;</td></tr><tr><td>5</td><td>4.4</td><td>2.01</td><td>5.3</td><td>1.85</td><td>&quot;My Bubba &amp; Mi&quot;</td><td>&quot;Nothing Much&quot;</td><td>&quot;blues&quot;</td></tr><tr><td>7</td><td>5.8</td><td>1.47</td><td>6.4</td><td>1.69</td><td>&quot;Kevin MacLeod&quot;</td><td>&quot;Hustle&quot;</td><td>&quot;blues&quot;</td></tr><tr><td>&hellip;</td><td>&hellip;</td><td>&hellip;</td><td>&hellip;</td><td>&hellip;</td><td>&hellip;</td><td>&hellip;</td><td>&hellip;</td></tr><tr><td>2054</td><td>5.4</td><td>1.2</td><td>3.6</td><td>1.36</td><td>&quot;Tom La Meche&quot;</td><td>&quot;Interlude&quot;</td><td>&quot;jazz&quot;</td></tr><tr><td>2055</td><td>5.0</td><td>1.41</td><td>5.2</td><td>1.47</td><td>&quot;Goo Goo Cluster&quot;</td><td>&quot;Vide grenier&quot;</td><td>&quot;reggae&quot;</td></tr><tr><td>2056</td><td>5.0</td><td>1.41</td><td>4.6</td><td>1.74</td><td>&quot;Ruediger Kramer&quot;</td><td>&quot;happy child singing&quot;</td><td>&quot;jazz&quot;</td></tr><tr><td>2057</td><td>3.17</td><td>1.07</td><td>6.83</td><td>0.37</td><td>&quot;La Verue&quot;</td><td>&quot;Au Feu&quot;</td><td>&quot;rock&quot;</td></tr><tr><td>2058</td><td>3.8</td><td>0.75</td><td>5.8</td><td>1.17</td><td>&quot;La Verue&quot;</td><td>&quot;Inside Views&quot;</td><td>&quot;rock&quot;</td></tr></tbody></table></div>"
      ],
      "text/plain": [
       "shape: (1_802, 8)\n",
       "┌─────────┬─────────────┬─────────────┬────────────┬────────────┬────────────┬────────────┬────────┐\n",
       "│ song_id ┆ valence_mea ┆ valence_std ┆ arousal_me ┆ arousal_st ┆ artist     ┆ song_title ┆ genre  │\n",
       "│ ---     ┆ n           ┆ ---         ┆ an         ┆ d          ┆ ---        ┆ ---        ┆ ---    │\n",
       "│ i64     ┆ ---         ┆ f64         ┆ ---        ┆ ---        ┆ str        ┆ str        ┆ str    │\n",
       "│         ┆ f64         ┆             ┆ f64        ┆ f64        ┆            ┆            ┆        │\n",
       "╞═════════╪═════════════╪═════════════╪════════════╪════════════╪════════════╪════════════╪════════╡\n",
       "│ 2       ┆ 3.1         ┆ 0.94        ┆ 3.0        ┆ 0.63       ┆ The New    ┆ Tonight  A ┆ blues  │\n",
       "│         ┆             ┆             ┆            ┆            ┆ Mystikal   ┆ Lonely     ┆        │\n",
       "│         ┆             ┆             ┆            ┆            ┆ Troubadour ┆ Century    ┆        │\n",
       "│         ┆             ┆             ┆            ┆            ┆ s          ┆            ┆        │\n",
       "│ 3       ┆ 3.5         ┆ 1.75        ┆ 3.3        ┆ 1.62       ┆ Kevin      ┆ DD Groove  ┆ blues  │\n",
       "│         ┆             ┆             ┆            ┆            ┆ MacLeod    ┆            ┆        │\n",
       "│ 4       ┆ 5.7         ┆ 1.42        ┆ 5.5        ┆ 1.63       ┆ Kevin      ┆ Slow Burn  ┆ blues  │\n",
       "│         ┆             ┆             ┆            ┆            ┆ MacLeod    ┆            ┆        │\n",
       "│ 5       ┆ 4.4         ┆ 2.01        ┆ 5.3        ┆ 1.85       ┆ My Bubba & ┆ Nothing    ┆ blues  │\n",
       "│         ┆             ┆             ┆            ┆            ┆ Mi         ┆ Much       ┆        │\n",
       "│ 7       ┆ 5.8         ┆ 1.47        ┆ 6.4        ┆ 1.69       ┆ Kevin      ┆ Hustle     ┆ blues  │\n",
       "│         ┆             ┆             ┆            ┆            ┆ MacLeod    ┆            ┆        │\n",
       "│ …       ┆ …           ┆ …           ┆ …          ┆ …          ┆ …          ┆ …          ┆ …      │\n",
       "│ 2054    ┆ 5.4         ┆ 1.2         ┆ 3.6        ┆ 1.36       ┆ Tom La     ┆ Interlude  ┆ jazz   │\n",
       "│         ┆             ┆             ┆            ┆            ┆ Meche      ┆            ┆        │\n",
       "│ 2055    ┆ 5.0         ┆ 1.41        ┆ 5.2        ┆ 1.47       ┆ Goo Goo    ┆ Vide       ┆ reggae │\n",
       "│         ┆             ┆             ┆            ┆            ┆ Cluster    ┆ grenier    ┆        │\n",
       "│ 2056    ┆ 5.0         ┆ 1.41        ┆ 4.6        ┆ 1.74       ┆ Ruediger   ┆ happy      ┆ jazz   │\n",
       "│         ┆             ┆             ┆            ┆            ┆ Kramer     ┆ child      ┆        │\n",
       "│         ┆             ┆             ┆            ┆            ┆            ┆ singing    ┆        │\n",
       "│ 2057    ┆ 3.17        ┆ 1.07        ┆ 6.83       ┆ 0.37       ┆ La Verue   ┆ Au Feu     ┆ rock   │\n",
       "│ 2058    ┆ 3.8         ┆ 0.75        ┆ 5.8        ┆ 1.17       ┆ La Verue   ┆ Inside     ┆ rock   │\n",
       "│         ┆             ┆             ┆            ┆            ┆            ┆ Views      ┆        │\n",
       "└─────────┴─────────────┴─────────────┴────────────┴────────────┴────────────┴────────────┴────────┘"
      ]
     },
     "execution_count": 10,
     "metadata": {},
     "output_type": "execute_result"
    }
   ],
   "source": [
    "annot_meta = all_annotations.join(all_metadata, on=\"song_id\", how=\"left\").with_columns(\n",
    "    pl.col(\"genre\").str.to_lowercase().alias(\"genre\")\n",
    ")\n",
    "annot_meta"
   ]
  },
  {
   "cell_type": "markdown",
   "id": "da526e1c",
   "metadata": {},
   "source": [
    "# Consolidating Genres to 9 Categories"
   ]
  },
  {
   "cell_type": "code",
   "execution_count": 11,
   "id": "659cdbd6",
   "metadata": {},
   "outputs": [],
   "source": [
    "unique_genres = annot_meta.select(\"genre\").unique().get_column(\"genre\").to_list()"
   ]
  },
  {
   "cell_type": "code",
   "execution_count": 12,
   "id": "852ad342",
   "metadata": {},
   "outputs": [],
   "source": [
    "# 10 umbrella bins\n",
    "UMBRELLAS = [\n",
    "    \"rock\",\n",
    "    \"pop\",\n",
    "    \"hip-hop\",\n",
    "    \"electronic\",\n",
    "    \"jazz\",\n",
    "    \"classical\",\n",
    "    \"folk/country\",\n",
    "    \"blues/soul\",\n",
    "    \"world\",\n",
    "    \"other\",\n",
    "]\n"
   ]
  },
  {
   "cell_type": "code",
   "execution_count": 13,
   "id": "93e70131",
   "metadata": {},
   "outputs": [],
   "source": [
    "KEYWORD_TO_BIN = {\n",
    "    # core\n",
    "    \"rock\": \"rock\",\n",
    "    \"pop\": \"pop\",\n",
    "    \"hip-hop\": \"hip-hop\",\n",
    "    \"hiphop\": \"hip-hop\",\n",
    "    \"rap\": \"hip-hop\",\n",
    "    \"electronic\": \"electronic\",\n",
    "    \"jazz\": \"jazz\",\n",
    "    \"classical\": \"classical\",\n",
    "    \"folk\": \"folk/country\",\n",
    "    \"country\": \"folk/country\",\n",
    "    \"blues\": \"blues/soul\",\n",
    "    \"soulrb\": \"blues/soul\",\n",
    "    \"soul\": \"blues/soul\",\n",
    "    \"world\": \"world\",\n",
    "    \"reggae\": \"world\",\n",
    "    # helpful hints -> fold into umbrellas\n",
    "    \"acoustic\": \"folk/country\",\n",
    "    \"singer/songwriter\": \"folk/country\",\n",
    "    \"singersongwriter\": \"folk/country\",  # just in case\n",
    "    # noise/modifiers (we won’t map these; leave here for clarity):\n",
    "    # \"experimental\", \"instrumental\", \"international\", \"spoken\", \"fusion\"\n",
    "}\n",
    "\n",
    "# If multiple umbrellas tie, prefer earlier in this list:\n",
    "TIE_BREAK_PRIORITY = [\n",
    "    \"hip-hop\",\n",
    "    \"rock\",\n",
    "    \"pop\",\n",
    "    \"electronic\",\n",
    "    \"jazz\",\n",
    "    \"classical\",\n",
    "    \"folk/country\",\n",
    "    \"blues/soul\",\n",
    "    \"world\",\n",
    "    \"other\",\n",
    "]\n",
    "\n",
    "NOISE_WORDS = {\n",
    "    \"experimental\",\n",
    "    \"instrumental\",\n",
    "    \"international\",\n",
    "    \"spoken\",\n",
    "    \"fusion\",\n",
    "    \"n/a\",\n",
    "}\n"
   ]
  },
  {
   "cell_type": "code",
   "execution_count": 14,
   "id": "3b1d9be9",
   "metadata": {},
   "outputs": [],
   "source": [
    "def normalize_text(s: str) -> str:\n",
    "    s = (s or \"\").strip().lower()\n",
    "    # standardize separators\n",
    "    s = s.replace(\"/\", \"-\")\n",
    "    # compress whitespace and dashes\n",
    "    s = re.sub(r\"\\s+\", \" \", s)\n",
    "    s = re.sub(r\"-+\", \"-\", s)\n",
    "    return s\n",
    "\n",
    "\n",
    "def classify_genre(raw: str) -> str:\n",
    "    s = normalize_text(raw)\n",
    "\n",
    "    if not s or s in NOISE_WORDS or s == \"n/a\":\n",
    "        return \"other\"\n",
    "\n",
    "    votes = Counter()\n",
    "\n",
    "    # substring voting\n",
    "    for kw, bin_name in KEYWORD_TO_BIN.items():\n",
    "        if kw in s:\n",
    "            votes[bin_name] += 1\n",
    "\n",
    "    # if no keywords matched, try token-wise fallback\n",
    "    if not votes:\n",
    "        tokens = re.split(r\"[-\\s]+\", s)\n",
    "        tokens = [t for t in tokens if t and t not in NOISE_WORDS]\n",
    "        for t in tokens:\n",
    "            bin_name = KEYWORD_TO_BIN.get(t)\n",
    "            if bin_name:\n",
    "                votes[bin_name] += 1\n",
    "\n",
    "    if not votes:\n",
    "        # final fallback: heuristic keywords\n",
    "        if \"groove\" in s or \"bird of youth\" in s:\n",
    "            return \"other\"\n",
    "        return \"other\"\n",
    "\n",
    "    # choose the umbrella with max votes; break ties by priority\n",
    "    top_count = max(votes.values())\n",
    "    candidates = [b for b, c in votes.items() if c == top_count]\n",
    "    for pref in TIE_BREAK_PRIORITY:\n",
    "        if pref in candidates:\n",
    "            return pref\n",
    "    return \"other\"\n"
   ]
  },
  {
   "cell_type": "code",
   "execution_count": 15,
   "id": "24136db8",
   "metadata": {},
   "outputs": [
    {
     "name": "stdout",
     "output_type": "stream",
     "text": [
      "jazz-experimental-electronic                                 -> electronic\n",
      "soulrb                                                       -> blues/soul\n",
      "pop                                                          -> pop\n",
      "folk-experimental-electronic-rock                            -> rock\n",
      "jazz-hip-hop                                                 -> hip-hop\n",
      "international-folk                                           -> folk/country\n",
      "international                                                -> other\n",
      "acoustic                                                     -> folk/country\n",
      "folk-experimental-electronic                                 -> electronic\n",
      "classical-electronic                                         -> electronic\n",
      "hip-hop-instrumental-electronic                              -> hip-hop\n",
      "classical-instrumental-electronic                            -> electronic\n",
      "jazz                                                         -> jazz\n",
      "blues-soulrb                                                 -> blues/soul\n",
      "country-experimental-rock                                    -> rock\n",
      "international-electronic-rock                                -> rock\n",
      "soulrb-blues-jazz                                            -> blues/soul\n",
      "electronic/fusion                                            -> electronic\n",
      "soulrb-blues-folk                                            -> blues/soul\n",
      "jazz-folk-pop-rock                                           -> rock\n",
      "singer/songwriter                                            -> other\n",
      "classical-folk                                               -> classical\n",
      "hip-hop-instrumental                                         -> hip-hop\n",
      "folk-pop-rock                                                -> rock\n",
      "country-pop-rock                                             -> rock\n",
      "jazz-hip-hop-electronic                                      -> hip-hop\n",
      "soulrb-blues-experimental-rock                               -> blues/soul\n",
      "rap                                                          -> hip-hop\n",
      "international-folk-experimental-rock                         -> rock\n",
      "folk-rock                                                    -> rock\n",
      "jazz-experimental                                            -> jazz\n",
      "folk-experimental                                            -> folk/country\n",
      "hip-hop-experimental                                         -> hip-hop\n",
      "international-pop-rock                                       -> rock\n",
      "classical-instrumental-pop-experimental-electronic           -> pop\n",
      "jazz-experimental-electronic-rock                            -> rock\n",
      "soulrb-country-folk-pop-rock-blues                           -> blues/soul\n",
      "jazz-instrumental-pop-electronic                             -> pop\n",
      "classical-instrumental                                       -> classical\n",
      "international-instrumental-experimental                      -> other\n",
      "pop-experimental-electronic                                  -> pop\n",
      "folk-electronic-rock                                         -> rock\n",
      "jazz-experimental-rock                                       -> rock\n",
      "blues-soulrb-rock                                            -> blues/soul\n",
      "soulrb-blues-pop-rock                                        -> blues/soul\n",
      "international-instrumental                                   -> other\n",
      "soulrb-blues-rock                                            -> blues/soul\n",
      "country-international                                        -> folk/country\n",
      "soulrb-country-folk-pop-experimental-rock-blues              -> blues/soul\n",
      "country-electronic                                           -> electronic\n",
      "classical-jazz                                               -> jazz\n",
      "international-experimental                                   -> other\n",
      "international-instrumental-rock                              -> rock\n",
      "international-electronic                                     -> electronic\n",
      "n/a                                                          -> other\n",
      "classical-jazz-international-rock                            -> rock\n",
      "bird of youth                                                -> other\n",
      "country-folk-rock                                            -> folk/country\n",
      "folk-pop-experimental                                        -> pop\n",
      "folk                                                         -> folk/country\n",
      "classical-experimental-electronic                            -> electronic\n",
      "reggae                                                       -> world\n",
      "jazz-international                                           -> jazz\n",
      "international-folk-pop                                       -> pop\n",
      "folk-experimental-rock                                       -> rock\n",
      "soulrb-blues-folk-experimental                               -> blues/soul\n",
      "pop-experimental-rock                                        -> rock\n",
      "blues-soulrb-folk-experimental                               -> blues/soul\n",
      "classical-international-experimental-electronic              -> electronic\n",
      "pop-experimental                                             -> pop\n",
      "classical-experimental-rock                                  -> rock\n",
      "classical-instrumental-experimental-spoken                   -> classical\n",
      "soulrb-blues                                                 -> blues/soul\n",
      "classical-country-jazz-folk-experimental                     -> folk/country\n",
      "rock                                                         -> rock\n",
      "soulrb-blues-jazz-folk                                       -> blues/soul\n",
      "country-international-rock                                   -> rock\n",
      "country-instrumental-folk                                    -> folk/country\n",
      "country-folk-pop-rock                                        -> folk/country\n",
      "blues-soulrb-folk                                            -> blues/soul\n",
      "soulrb-blues-international-electronic                        -> blues/soul\n",
      "international-folk-experimental                              -> folk/country\n",
      "international-folk-rock                                      -> rock\n",
      "jazz-hip-hop-rock                                            -> hip-hop\n",
      "international-folk-pop-experimental-rock                     -> rock\n",
      "hip-hop-experimental-electronic                              -> hip-hop\n",
      "groove                                                       -> other\n",
      "hip-hop-pop-electronic                                       -> hip-hop\n",
      "classical-jazz-experimental                                  -> jazz\n",
      "soulrb-blues-folk-rock                                       -> blues/soul\n",
      "blues-country-soulrb-folk                                    -> blues/soul\n",
      "country-folk                                                 -> folk/country\n",
      "jazz-rock                                                    -> rock\n",
      "world/folk                                                   -> folk/country\n",
      "classical-spoken                                             -> classical\n",
      "classical-jazz-pop-experimental                              -> pop\n",
      "pop-rock                                                     -> rock\n",
      "international-rock                                           -> rock\n",
      "classical-international-spoken                               -> classical\n",
      "country-spoken                                               -> folk/country\n",
      "folk-pop                                                     -> pop\n",
      "classical                                                    -> classical\n",
      "country-rock                                                 -> rock\n",
      "blues                                                        -> blues/soul\n",
      "international-experimental-rock                              -> rock\n",
      "hip-hop-international-folk                                   -> hip-hop\n",
      "classical-experimental                                       -> classical\n",
      "electronic                                                   -> electronic\n",
      "international-pop                                            -> pop\n",
      "jazz-instrumental-electronic                                 -> electronic\n",
      "hip-hop-electronic                                           -> hip-hop\n",
      "country-pop                                                  -> pop\n",
      "folk-pop-experimental-rock                                   -> rock\n",
      "world                                                        -> world\n",
      "classical-instrumental-experimental                          -> classical\n",
      "jazz-international-experimental                              -> jazz\n",
      "pop-electronic-rock                                          -> rock\n",
      "country                                                      -> folk/country\n",
      "international-folk-electronic-rock                           -> rock\n",
      "classical-pop-experimental-electronic                        -> pop\n",
      "jazz-international-pop                                       -> pop\n",
      "soulrb-blues-folk-pop-experimental-rock                      -> blues/soul\n",
      "soulrb-electronic                                            -> blues/soul\n",
      "folk-electronic                                              -> electronic\n",
      "electronic-rock                                              -> rock\n",
      "hip-hop                                                      -> hip-hop\n",
      "pop-electronic                                               -> pop\n",
      "classical-soulrb-folk                                        -> blues/soul\n",
      "classical-instrumental-folk-experimental                     -> classical\n",
      "jazz-electronic                                              -> electronic\n",
      "country-soulrb-pop                                           -> blues/soul\n",
      "country-folk-pop                                             -> folk/country\n",
      "international-pop-electronic                                 -> pop\n",
      "soulrb-blues-folk-experimental-rock                          -> blues/soul\n",
      "soulrb-electronic-rock                                       -> blues/soul\n",
      "hiphop                                                       -> hip-hop\n"
     ]
    }
   ],
   "source": [
    "collapsed = [classify_genre(g) for g in unique_genres]\n",
    "for g, c in zip(unique_genres, collapsed):\n",
    "    print(f\"{g:60s} -> {c}\")\n"
   ]
  },
  {
   "cell_type": "code",
   "execution_count": 16,
   "id": "97bf4321",
   "metadata": {},
   "outputs": [
    {
     "data": {
      "text/html": [
       "<div><style>\n",
       ".dataframe > thead > tr,\n",
       ".dataframe > tbody > tr {\n",
       "  text-align: right;\n",
       "  white-space: pre-wrap;\n",
       "}\n",
       "</style>\n",
       "<small>shape: (1_802, 8)</small><table border=\"1\" class=\"dataframe\"><thead><tr><th>song_id</th><th>valence_mean</th><th>valence_std</th><th>arousal_mean</th><th>arousal_std</th><th>artist</th><th>song_title</th><th>genre</th></tr><tr><td>i64</td><td>f64</td><td>f64</td><td>f64</td><td>f64</td><td>str</td><td>str</td><td>str</td></tr></thead><tbody><tr><td>2</td><td>3.1</td><td>0.94</td><td>3.0</td><td>0.63</td><td>&quot;The New Mystikal Troubadours&quot;</td><td>&quot;Tonight&nbsp;&nbsp;A Lonely Century&quot;</td><td>&quot;blues/soul&quot;</td></tr><tr><td>3</td><td>3.5</td><td>1.75</td><td>3.3</td><td>1.62</td><td>&quot;Kevin MacLeod&quot;</td><td>&quot;DD Groove&quot;</td><td>&quot;blues/soul&quot;</td></tr><tr><td>4</td><td>5.7</td><td>1.42</td><td>5.5</td><td>1.63</td><td>&quot;Kevin MacLeod&quot;</td><td>&quot;Slow Burn&quot;</td><td>&quot;blues/soul&quot;</td></tr><tr><td>5</td><td>4.4</td><td>2.01</td><td>5.3</td><td>1.85</td><td>&quot;My Bubba &amp; Mi&quot;</td><td>&quot;Nothing Much&quot;</td><td>&quot;blues/soul&quot;</td></tr><tr><td>7</td><td>5.8</td><td>1.47</td><td>6.4</td><td>1.69</td><td>&quot;Kevin MacLeod&quot;</td><td>&quot;Hustle&quot;</td><td>&quot;blues/soul&quot;</td></tr><tr><td>&hellip;</td><td>&hellip;</td><td>&hellip;</td><td>&hellip;</td><td>&hellip;</td><td>&hellip;</td><td>&hellip;</td><td>&hellip;</td></tr><tr><td>2054</td><td>5.4</td><td>1.2</td><td>3.6</td><td>1.36</td><td>&quot;Tom La Meche&quot;</td><td>&quot;Interlude&quot;</td><td>&quot;jazz&quot;</td></tr><tr><td>2055</td><td>5.0</td><td>1.41</td><td>5.2</td><td>1.47</td><td>&quot;Goo Goo Cluster&quot;</td><td>&quot;Vide grenier&quot;</td><td>&quot;other&quot;</td></tr><tr><td>2056</td><td>5.0</td><td>1.41</td><td>4.6</td><td>1.74</td><td>&quot;Ruediger Kramer&quot;</td><td>&quot;happy child singing&quot;</td><td>&quot;jazz&quot;</td></tr><tr><td>2057</td><td>3.17</td><td>1.07</td><td>6.83</td><td>0.37</td><td>&quot;La Verue&quot;</td><td>&quot;Au Feu&quot;</td><td>&quot;rock&quot;</td></tr><tr><td>2058</td><td>3.8</td><td>0.75</td><td>5.8</td><td>1.17</td><td>&quot;La Verue&quot;</td><td>&quot;Inside Views&quot;</td><td>&quot;rock&quot;</td></tr></tbody></table></div>"
      ],
      "text/plain": [
       "shape: (1_802, 8)\n",
       "┌─────────┬────────────┬────────────┬────────────┬────────────┬────────────┬───────────┬───────────┐\n",
       "│ song_id ┆ valence_me ┆ valence_st ┆ arousal_me ┆ arousal_st ┆ artist     ┆ song_titl ┆ genre     │\n",
       "│ ---     ┆ an         ┆ d          ┆ an         ┆ d          ┆ ---        ┆ e         ┆ ---       │\n",
       "│ i64     ┆ ---        ┆ ---        ┆ ---        ┆ ---        ┆ str        ┆ ---       ┆ str       │\n",
       "│         ┆ f64        ┆ f64        ┆ f64        ┆ f64        ┆            ┆ str       ┆           │\n",
       "╞═════════╪════════════╪════════════╪════════════╪════════════╪════════════╪═══════════╪═══════════╡\n",
       "│ 2       ┆ 3.1        ┆ 0.94       ┆ 3.0        ┆ 0.63       ┆ The New    ┆ Tonight   ┆ blues/sou │\n",
       "│         ┆            ┆            ┆            ┆            ┆ Mystikal   ┆ A Lonely  ┆ l         │\n",
       "│         ┆            ┆            ┆            ┆            ┆ Troubadour ┆ Century   ┆           │\n",
       "│         ┆            ┆            ┆            ┆            ┆ s          ┆           ┆           │\n",
       "│ 3       ┆ 3.5        ┆ 1.75       ┆ 3.3        ┆ 1.62       ┆ Kevin      ┆ DD Groove ┆ blues/sou │\n",
       "│         ┆            ┆            ┆            ┆            ┆ MacLeod    ┆           ┆ l         │\n",
       "│ 4       ┆ 5.7        ┆ 1.42       ┆ 5.5        ┆ 1.63       ┆ Kevin      ┆ Slow Burn ┆ blues/sou │\n",
       "│         ┆            ┆            ┆            ┆            ┆ MacLeod    ┆           ┆ l         │\n",
       "│ 5       ┆ 4.4        ┆ 2.01       ┆ 5.3        ┆ 1.85       ┆ My Bubba & ┆ Nothing   ┆ blues/sou │\n",
       "│         ┆            ┆            ┆            ┆            ┆ Mi         ┆ Much      ┆ l         │\n",
       "│ 7       ┆ 5.8        ┆ 1.47       ┆ 6.4        ┆ 1.69       ┆ Kevin      ┆ Hustle    ┆ blues/sou │\n",
       "│         ┆            ┆            ┆            ┆            ┆ MacLeod    ┆           ┆ l         │\n",
       "│ …       ┆ …          ┆ …          ┆ …          ┆ …          ┆ …          ┆ …         ┆ …         │\n",
       "│ 2054    ┆ 5.4        ┆ 1.2        ┆ 3.6        ┆ 1.36       ┆ Tom La     ┆ Interlude ┆ jazz      │\n",
       "│         ┆            ┆            ┆            ┆            ┆ Meche      ┆           ┆           │\n",
       "│ 2055    ┆ 5.0        ┆ 1.41       ┆ 5.2        ┆ 1.47       ┆ Goo Goo    ┆ Vide      ┆ other     │\n",
       "│         ┆            ┆            ┆            ┆            ┆ Cluster    ┆ grenier   ┆           │\n",
       "│ 2056    ┆ 5.0        ┆ 1.41       ┆ 4.6        ┆ 1.74       ┆ Ruediger   ┆ happy     ┆ jazz      │\n",
       "│         ┆            ┆            ┆            ┆            ┆ Kramer     ┆ child     ┆           │\n",
       "│         ┆            ┆            ┆            ┆            ┆            ┆ singing   ┆           │\n",
       "│ 2057    ┆ 3.17       ┆ 1.07       ┆ 6.83       ┆ 0.37       ┆ La Verue   ┆ Au Feu    ┆ rock      │\n",
       "│ 2058    ┆ 3.8        ┆ 0.75       ┆ 5.8        ┆ 1.17       ┆ La Verue   ┆ Inside    ┆ rock      │\n",
       "│         ┆            ┆            ┆            ┆            ┆            ┆ Views     ┆           │\n",
       "└─────────┴────────────┴────────────┴────────────┴────────────┴────────────┴───────────┴───────────┘"
      ]
     },
     "execution_count": 16,
     "metadata": {},
     "output_type": "execute_result"
    }
   ],
   "source": [
    "merged_genres = annot_meta.with_columns(\n",
    "    pl.col(\"genre\").map_elements(classify_genre, return_dtype=pl.String).alias(\"genre\")\n",
    ").with_columns(\n",
    "    pl.when(pl.col(\"genre\") == \"world\")\n",
    "    .then(pl.lit(\"other\"))\n",
    "    .otherwise(pl.col(\"genre\"))\n",
    "    .alias(\"genre\")\n",
    ")\n",
    "\n",
    "merged_genres"
   ]
  },
  {
   "cell_type": "code",
   "execution_count": 17,
   "id": "7d2190bf",
   "metadata": {},
   "outputs": [
    {
     "data": {
      "text/html": [
       "<div><style>\n",
       ".dataframe > thead > tr,\n",
       ".dataframe > tbody > tr {\n",
       "  text-align: right;\n",
       "  white-space: pre-wrap;\n",
       "}\n",
       "</style>\n",
       "<small>shape: (9, 2)</small><table border=\"1\" class=\"dataframe\"><thead><tr><th>genre</th><th>count</th></tr><tr><td>str</td><td>u32</td></tr></thead><tbody><tr><td>&quot;rock&quot;</td><td>378</td></tr><tr><td>&quot;folk/country&quot;</td><td>320</td></tr><tr><td>&quot;electronic&quot;</td><td>242</td></tr><tr><td>&quot;blues/soul&quot;</td><td>205</td></tr><tr><td>&quot;classical&quot;</td><td>180</td></tr><tr><td>&quot;jazz&quot;</td><td>171</td></tr><tr><td>&quot;pop&quot;</td><td>170</td></tr><tr><td>&quot;hip-hop&quot;</td><td>110</td></tr><tr><td>&quot;other&quot;</td><td>26</td></tr></tbody></table></div>"
      ],
      "text/plain": [
       "shape: (9, 2)\n",
       "┌──────────────┬───────┐\n",
       "│ genre        ┆ count │\n",
       "│ ---          ┆ ---   │\n",
       "│ str          ┆ u32   │\n",
       "╞══════════════╪═══════╡\n",
       "│ rock         ┆ 378   │\n",
       "│ folk/country ┆ 320   │\n",
       "│ electronic   ┆ 242   │\n",
       "│ blues/soul   ┆ 205   │\n",
       "│ classical    ┆ 180   │\n",
       "│ jazz         ┆ 171   │\n",
       "│ pop          ┆ 170   │\n",
       "│ hip-hop      ┆ 110   │\n",
       "│ other        ┆ 26    │\n",
       "└──────────────┴───────┘"
      ]
     },
     "execution_count": 17,
     "metadata": {},
     "output_type": "execute_result"
    }
   ],
   "source": [
    "merged_genres[\"genre\"].value_counts(sort=True)"
   ]
  },
  {
   "cell_type": "markdown",
   "id": "840680c5",
   "metadata": {},
   "source": [
    "# Scale Alignment"
   ]
  },
  {
   "cell_type": "code",
   "execution_count": 18,
   "id": "d54eb1eb",
   "metadata": {},
   "outputs": [],
   "source": [
    "merged_genres = merged_genres.with_columns(\n",
    "    ((pl.col(\"valence_mean\") - 5.0) / 4.0).clip(-1.0, 1.0).alias(\"valence_ref\"),\n",
    "    ((pl.col(\"arousal_mean\") - 5.0) / 4.0).clip(-1.0, 1.0).alias(\"arousal_ref\"),\n",
    ")\n"
   ]
  },
  {
   "cell_type": "code",
   "execution_count": 19,
   "id": "149e1be2",
   "metadata": {},
   "outputs": [
    {
     "data": {
      "text/html": [
       "<div><style>\n",
       ".dataframe > thead > tr,\n",
       ".dataframe > tbody > tr {\n",
       "  text-align: right;\n",
       "  white-space: pre-wrap;\n",
       "}\n",
       "</style>\n",
       "<small>shape: (9, 5)</small><table border=\"1\" class=\"dataframe\"><thead><tr><th>statistic</th><th>valence_ref</th><th>arousal_ref</th><th>valence_mean</th><th>arousal_mean</th></tr><tr><td>str</td><td>f64</td><td>f64</td><td>f64</td><td>f64</td></tr></thead><tbody><tr><td>&quot;count&quot;</td><td>1802.0</td><td>1802.0</td><td>1802.0</td><td>1802.0</td></tr><tr><td>&quot;null_count&quot;</td><td>0.0</td><td>0.0</td><td>0.0</td><td>0.0</td></tr><tr><td>&quot;mean&quot;</td><td>-0.023964</td><td>-0.046493</td><td>4.904145</td><td>4.814029</td></tr><tr><td>&quot;std&quot;</td><td>0.29356</td><td>0.320547</td><td>1.17424</td><td>1.282187</td></tr><tr><td>&quot;min&quot;</td><td>-0.85</td><td>-0.85</td><td>1.6</td><td>1.6</td></tr><tr><td>&quot;25%&quot;</td><td>-0.225</td><td>-0.3</td><td>4.1</td><td>3.8</td></tr><tr><td>&quot;50%&quot;</td><td>-0.025</td><td>-0.025</td><td>4.9</td><td>4.9</td></tr><tr><td>&quot;75%&quot;</td><td>0.2</td><td>0.2</td><td>5.8</td><td>5.8</td></tr><tr><td>&quot;max&quot;</td><td>0.85</td><td>0.775</td><td>8.4</td><td>8.1</td></tr></tbody></table></div>"
      ],
      "text/plain": [
       "shape: (9, 5)\n",
       "┌────────────┬─────────────┬─────────────┬──────────────┬──────────────┐\n",
       "│ statistic  ┆ valence_ref ┆ arousal_ref ┆ valence_mean ┆ arousal_mean │\n",
       "│ ---        ┆ ---         ┆ ---         ┆ ---          ┆ ---          │\n",
       "│ str        ┆ f64         ┆ f64         ┆ f64          ┆ f64          │\n",
       "╞════════════╪═════════════╪═════════════╪══════════════╪══════════════╡\n",
       "│ count      ┆ 1802.0      ┆ 1802.0      ┆ 1802.0       ┆ 1802.0       │\n",
       "│ null_count ┆ 0.0         ┆ 0.0         ┆ 0.0          ┆ 0.0          │\n",
       "│ mean       ┆ -0.023964   ┆ -0.046493   ┆ 4.904145     ┆ 4.814029     │\n",
       "│ std        ┆ 0.29356     ┆ 0.320547    ┆ 1.17424      ┆ 1.282187     │\n",
       "│ min        ┆ -0.85       ┆ -0.85       ┆ 1.6          ┆ 1.6          │\n",
       "│ 25%        ┆ -0.225      ┆ -0.3        ┆ 4.1          ┆ 3.8          │\n",
       "│ 50%        ┆ -0.025      ┆ -0.025      ┆ 4.9          ┆ 4.9          │\n",
       "│ 75%        ┆ 0.2         ┆ 0.2         ┆ 5.8          ┆ 5.8          │\n",
       "│ max        ┆ 0.85        ┆ 0.775       ┆ 8.4          ┆ 8.1          │\n",
       "└────────────┴─────────────┴─────────────┴──────────────┴──────────────┘"
      ]
     },
     "execution_count": 19,
     "metadata": {},
     "output_type": "execute_result"
    }
   ],
   "source": [
    "merged_genres.select(\n",
    "    \"valence_ref\", \"arousal_ref\", \"valence_mean\", \"arousal_mean\"\n",
    ").describe()"
   ]
  },
  {
   "cell_type": "markdown",
   "id": "291a3892",
   "metadata": {},
   "source": [
    "# Clustering"
   ]
  },
  {
   "cell_type": "code",
   "execution_count": 20,
   "id": "4113a77d",
   "metadata": {},
   "outputs": [],
   "source": [
    "df_pl = merged_genres.select([\"valence_ref\", \"arousal_ref\", \"genre\"]).drop_nulls()\n",
    "X = df_pl.select([\"valence_ref\", \"arousal_ref\"]).to_numpy()\n",
    "genres = df_pl[\"genre\"].to_list()\n",
    "\n",
    "scaler = StandardScaler().fit(X)\n",
    "Xs = scaler.transform(X)\n"
   ]
  },
  {
   "cell_type": "markdown",
   "id": "ff4cc48a",
   "metadata": {},
   "source": [
    "## Model selection by BIC"
   ]
  },
  {
   "cell_type": "code",
   "execution_count": 21,
   "id": "44a71b86",
   "metadata": {},
   "outputs": [],
   "source": [
    "best, best_bic = None, np.inf\n",
    "for cov in (\"full\", \"diag\"):\n",
    "    for K in range(5, 13):\n",
    "        m = GaussianMixture(\n",
    "            n_components=K, covariance_type=cov, n_init=10, random_state=2025\n",
    "        ).fit(Xs)\n",
    "        bic = m.bic(Xs)\n",
    "        if bic < best_bic:\n",
    "            best_bic, best = bic, m\n",
    "\n",
    "gm = best\n",
    "labels = gm.predict(Xs)\n",
    "proba = gm.predict_proba(Xs)"
   ]
  },
  {
   "cell_type": "code",
   "execution_count": 22,
   "id": "f7937337",
   "metadata": {},
   "outputs": [
    {
     "data": {
      "text/plain": [
       "(GaussianMixture(covariance_type='diag', n_components=5, n_init=10,\n",
       "                 random_state=2025),\n",
       " array([3, 3, 0, ..., 0, 1, 1]),\n",
       " array([[8.44546497e-07, 5.56815610e-02, 4.05453578e-14, 9.07002638e-01,\n",
       "         3.73149563e-02],\n",
       "        [3.08721310e-05, 1.18355317e-01, 1.39073190e-11, 7.96112751e-01,\n",
       "         8.55010601e-02],\n",
       "        [8.56180666e-01, 1.16274965e-02, 1.05224216e-01, 1.67049404e-05,\n",
       "         2.69509162e-02],\n",
       "        ...,\n",
       "        [4.50002897e-01, 1.84421052e-01, 8.29327168e-04, 1.51561649e-02,\n",
       "         3.49590559e-01],\n",
       "        [6.92682633e-03, 9.91898955e-01, 1.91058908e-06, 3.12295313e-07,\n",
       "         1.17199588e-03],\n",
       "        [9.82604245e-02, 8.73395997e-01, 3.85368871e-05, 1.95129337e-04,\n",
       "         2.81099122e-02]]))"
      ]
     },
     "execution_count": 22,
     "metadata": {},
     "output_type": "execute_result"
    }
   ],
   "source": [
    "gm, labels, proba"
   ]
  },
  {
   "cell_type": "code",
   "execution_count": 23,
   "id": "7f4198b9",
   "metadata": {},
   "outputs": [],
   "source": [
    "# --- held-out log-likelihood ---\n",
    "Xtr, Xte = train_test_split(Xs, test_size=0.2, random_state=2025)\n",
    "train_ll = gm.score(Xtr)  # average log-likelihood\n",
    "test_ll = gm.score(Xte)\n",
    "\n",
    "# --- geometry metrics (hard labels) ---\n",
    "sil = silhouette_score(Xs, labels)\n",
    "db = davies_bouldin_score(Xs, labels)\n",
    "ch = calinski_harabasz_score(Xs, labels)\n",
    "\n",
    "# --- soft assignment uncertainty ---\n",
    "P = proba\n",
    "entropy = (-(P * np.log(P + 1e-12)).sum(axis=1)).mean()\n"
   ]
  },
  {
   "cell_type": "code",
   "execution_count": 24,
   "id": "e9e57b67",
   "metadata": {},
   "outputs": [
    {
     "data": {
      "text/html": [
       "<div><style>\n",
       ".dataframe > thead > tr,\n",
       ".dataframe > tbody > tr {\n",
       "  text-align: right;\n",
       "  white-space: pre-wrap;\n",
       "}\n",
       "</style>\n",
       "<small>shape: (5, 10)</small><table border=\"1\" class=\"dataframe\"><thead><tr><th>cluster</th><th>pop</th><th>rock</th><th>classical</th><th>hip-hop</th><th>folk/country</th><th>blues/soul</th><th>other</th><th>electronic</th><th>jazz</th></tr><tr><td>i64</td><td>u32</td><td>u32</td><td>u32</td><td>u32</td><td>u32</td><td>u32</td><td>u32</td><td>u32</td><td>u32</td></tr></thead><tbody><tr><td>0</td><td>56</td><td>144</td><td>26</td><td>69</td><td>83</td><td>66</td><td>11</td><td>83</td><td>47</td></tr><tr><td>1</td><td>27</td><td>63</td><td>52</td><td>17</td><td>60</td><td>34</td><td>3</td><td>22</td><td>34</td></tr><tr><td>2</td><td>33</td><td>67</td><td>6</td><td>8</td><td>52</td><td>32</td><td>2</td><td>43</td><td>27</td></tr><tr><td>3</td><td>32</td><td>54</td><td>86</td><td>4</td><td>82</td><td>43</td><td>4</td><td>68</td><td>39</td></tr><tr><td>4</td><td>22</td><td>50</td><td>10</td><td>12</td><td>43</td><td>30</td><td>6</td><td>26</td><td>24</td></tr></tbody></table></div>"
      ],
      "text/plain": [
       "shape: (5, 10)\n",
       "┌─────────┬─────┬──────┬───────────┬───┬────────────┬───────┬────────────┬──────┐\n",
       "│ cluster ┆ pop ┆ rock ┆ classical ┆ … ┆ blues/soul ┆ other ┆ electronic ┆ jazz │\n",
       "│ ---     ┆ --- ┆ ---  ┆ ---       ┆   ┆ ---        ┆ ---   ┆ ---        ┆ ---  │\n",
       "│ i64     ┆ u32 ┆ u32  ┆ u32       ┆   ┆ u32        ┆ u32   ┆ u32        ┆ u32  │\n",
       "╞═════════╪═════╪══════╪═══════════╪═══╪════════════╪═══════╪════════════╪══════╡\n",
       "│ 0       ┆ 56  ┆ 144  ┆ 26        ┆ … ┆ 66         ┆ 11    ┆ 83         ┆ 47   │\n",
       "│ 1       ┆ 27  ┆ 63   ┆ 52        ┆ … ┆ 34         ┆ 3     ┆ 22         ┆ 34   │\n",
       "│ 2       ┆ 33  ┆ 67   ┆ 6         ┆ … ┆ 32         ┆ 2     ┆ 43         ┆ 27   │\n",
       "│ 3       ┆ 32  ┆ 54   ┆ 86        ┆ … ┆ 43         ┆ 4     ┆ 68         ┆ 39   │\n",
       "│ 4       ┆ 22  ┆ 50   ┆ 10        ┆ … ┆ 30         ┆ 6     ┆ 26         ┆ 24   │\n",
       "└─────────┴─────┴──────┴───────────┴───┴────────────┴───────┴────────────┴──────┘"
      ]
     },
     "execution_count": 24,
     "metadata": {},
     "output_type": "execute_result"
    }
   ],
   "source": [
    "eval_pl = pl.DataFrame(\n",
    "    {\n",
    "        \"cluster\": labels,\n",
    "        \"genre\": genres,\n",
    "    }\n",
    ")\n",
    "\n",
    "ct = (\n",
    "    eval_pl.group_by([\"cluster\", \"genre\"])\n",
    "    .len()\n",
    "    .pivot(values=\"len\", index=\"cluster\", on=\"genre\")\n",
    "    .fill_null(0)\n",
    "    .sort(\"cluster\")\n",
    ")\n",
    "\n",
    "ct"
   ]
  },
  {
   "cell_type": "markdown",
   "id": "aab81090",
   "metadata": {},
   "source": [
    "Purity per cluster = max genre count / total in that cluster"
   ]
  },
  {
   "cell_type": "code",
   "execution_count": 25,
   "id": "b7131544",
   "metadata": {},
   "outputs": [
    {
     "data": {
      "text/html": [
       "<div><style>\n",
       ".dataframe > thead > tr,\n",
       ".dataframe > tbody > tr {\n",
       "  text-align: right;\n",
       "  white-space: pre-wrap;\n",
       "}\n",
       "</style>\n",
       "<small>shape: (5, 2)</small><table border=\"1\" class=\"dataframe\"><thead><tr><th>cluster</th><th>purity</th></tr><tr><td>i64</td><td>f64</td></tr></thead><tbody><tr><td>0</td><td>0.246154</td></tr><tr><td>1</td><td>0.201923</td></tr><tr><td>2</td><td>0.248148</td></tr><tr><td>3</td><td>0.208738</td></tr><tr><td>4</td><td>0.224215</td></tr></tbody></table></div>"
      ],
      "text/plain": [
       "shape: (5, 2)\n",
       "┌─────────┬──────────┐\n",
       "│ cluster ┆ purity   │\n",
       "│ ---     ┆ ---      │\n",
       "│ i64     ┆ f64      │\n",
       "╞═════════╪══════════╡\n",
       "│ 0       ┆ 0.246154 │\n",
       "│ 1       ┆ 0.201923 │\n",
       "│ 2       ┆ 0.248148 │\n",
       "│ 3       ┆ 0.208738 │\n",
       "│ 4       ┆ 0.224215 │\n",
       "└─────────┴──────────┘"
      ]
     },
     "execution_count": 25,
     "metadata": {},
     "output_type": "execute_result"
    }
   ],
   "source": [
    "purity_df = (\n",
    "    ct.with_columns(\n",
    "        [\n",
    "            pl.sum_horizontal(pl.all().exclude(\"cluster\")).alias(\"total\"),\n",
    "            pl.max_horizontal(pl.all().exclude(\"cluster\")).alias(\"max_cnt\"),\n",
    "        ]\n",
    "    )\n",
    "    .with_columns((pl.col(\"max_cnt\") / pl.col(\"total\")).alias(\"purity\"))\n",
    "    .select([\"cluster\", \"purity\"])\n",
    ")\n",
    "\n",
    "purity_df"
   ]
  },
  {
   "cell_type": "code",
   "execution_count": 26,
   "id": "066a5026",
   "metadata": {},
   "outputs": [
    {
     "name": "stdout",
     "output_type": "stream",
     "text": [
      "cluster 0: purity=0.25 | center=(0.10, 0.13) | top_genres={'rock': 144, 'electronic': 83, 'folk/country': 83}\n",
      "cluster 1: purity=0.20 | center=(-0.25, -0.05) | top_genres={'rock': 63, 'folk/country': 60, 'classical': 52}\n",
      "cluster 2: purity=0.25 | center=(0.36, 0.33) | top_genres={'rock': 67, 'folk/country': 52, 'electronic': 43}\n",
      "cluster 3: purity=0.21 | center=(-0.31, -0.45) | top_genres={'classical': 86, 'folk/country': 82, 'electronic': 68}\n",
      "cluster 4: purity=0.22 | center=(-0.01, -0.23) | top_genres={'rock': 50, 'folk/country': 43, 'blues/soul': 30}\n"
     ]
    }
   ],
   "source": [
    "top3_df = (\n",
    "    eval_pl.group_by([\"cluster\", \"genre\"])\n",
    "    .len()\n",
    "    .sort([\"cluster\", \"len\"], descending=[False, True])\n",
    "    .group_by(\"cluster\")\n",
    "    .agg(\n",
    "        [\n",
    "            pl.col(\"genre\").head(3).alias(\"top_genres\"),\n",
    "            pl.col(\"len\").head(3).alias(\"top_counts\"),\n",
    "        ]\n",
    "    )\n",
    ")\n",
    "\n",
    "# Cluster centers (back in original valence/arousal space)\n",
    "centers_orig = scaler.inverse_transform(gm.means_)\n",
    "center_map = {\n",
    "    i: (centers_orig[i, 0], centers_orig[i, 1]) for i in range(centers_orig.shape[0])\n",
    "}\n",
    "\n",
    "# Pretty print summary\n",
    "purity_map = dict(zip(purity_df[\"cluster\"].to_list(), purity_df[\"purity\"].to_list()))\n",
    "for row in top3_df.iter_rows(named=True):\n",
    "    top = dict(zip(row[\"top_genres\"], row[\"top_counts\"]))\n",
    "    cx, cy = center_map[row[\"cluster\"]]\n",
    "    print(\n",
    "        f\"cluster {row['cluster']}: purity={purity_map[row['cluster']]:.2f} | center=({cx:.2f}, {cy:.2f}) | top_genres={top}\"\n",
    "    )\n"
   ]
  },
  {
   "cell_type": "markdown",
   "id": "c65412bf",
   "metadata": {},
   "source": [
    "## Plot clusters in valence-arousal space"
   ]
  },
  {
   "cell_type": "code",
   "execution_count": 27,
   "id": "f589028d",
   "metadata": {},
   "outputs": [
    {
     "name": "stdout",
     "output_type": "stream",
     "text": [
      "Quadrant counts (overall): Q1=647, Q2=229, Q3=686, Q4=240\n",
      "Cluster 0 quadrant counts: Q1=378, Q2=109, Q3=21, Q4=77\n",
      "Cluster 1 quadrant counts: Q1=0, Q2=120, Q3=192, Q4=0\n",
      "Cluster 2 quadrant counts: Q1=269, Q2=0, Q3=0, Q4=1\n",
      "Cluster 3 quadrant counts: Q1=0, Q2=0, Q3=401, Q4=11\n",
      "Cluster 4 quadrant counts: Q1=0, Q2=0, Q3=72, Q4=151\n"
     ]
    },
    {
     "data": {
      "image/png": "[encoded data removed]",
      "text/plain": [
       "<Figure size 800x700 with 1 Axes>"
      ]
     },
     "metadata": {},
     "output_type": "display_data"
    }
   ],
   "source": [
    "K = gm.n_components\n",
    "colors = (\n",
    "    plt.cm.tab10(np.linspace(0, 1, K))\n",
    "    if K <= 10\n",
    "    else plt.cm.nipy_spectral(np.linspace(0, 1, K))\n",
    ")\n",
    "\n",
    "plt.figure(figsize=(8, 7))\n",
    "for k in range(K):\n",
    "    mask = labels == k\n",
    "    plt.scatter(\n",
    "        X[mask, 0], X[mask, 1], s=12, alpha=0.6, color=colors[k], label=f\"cluster {k}\"\n",
    "    )\n",
    "\n",
    "# centers (in original space)\n",
    "plt.scatter(\n",
    "    centers_orig[:, 0],\n",
    "    centers_orig[:, 1],\n",
    "    c=\"black\",\n",
    "    s=120,\n",
    "    marker=\"X\",\n",
    "    label=\"centers\",\n",
    ")\n",
    "for i, (cx, cy) in enumerate(centers_orig):\n",
    "    plt.text(cx, cy, str(i), color=\"black\", fontsize=9, ha=\"center\", va=\"bottom\")\n",
    "\n",
    "# quadrant lines\n",
    "plt.axvline(0, color=\"gray\", lw=1, ls=\"--\")\n",
    "plt.axhline(0, color=\"gray\", lw=1, ls=\"--\")\n",
    "plt.xlabel(\"Valence\")\n",
    "plt.ylabel(\"Arousal\")\n",
    "plt.title(\"Clusters in Valence–Arousal Space\")\n",
    "plt.legend(loc=\"best\", frameon=False)\n",
    "plt.grid(alpha=0.2)\n",
    "\n",
    "# quadrant distribution (overall and per-cluster)\n",
    "q1 = int(np.sum((X[:, 0] >= 0) & (X[:, 1] >= 0)))\n",
    "q2 = int(np.sum((X[:, 0] < 0) & (X[:, 1] >= 0)))\n",
    "q3 = int(np.sum((X[:, 0] < 0) & (X[:, 1] < 0)))\n",
    "q4 = int(np.sum((X[:, 0] >= 0) & (X[:, 1] < 0)))\n",
    "print(f\"Quadrant counts (overall): Q1={q1}, Q2={q2}, Q3={q3}, Q4={q4}\")\n",
    "for k in range(K):\n",
    "    Xm = X[labels == k]\n",
    "    q1k = int(np.sum((Xm[:, 0] >= 0) & (Xm[:, 1] >= 0)))\n",
    "    q2k = int(np.sum((Xm[:, 0] < 0) & (Xm[:, 1] >= 0)))\n",
    "    q3k = int(np.sum((Xm[:, 0] < 0) & (Xm[:, 1] < 0)))\n",
    "    q4k = int(np.sum((Xm[:, 0] >= 0) & (Xm[:, 1] < 0)))\n",
    "    print(f\"Cluster {k} quadrant counts: Q1={q1k}, Q2={q2k}, Q3={q3k}, Q4={q4k}\")\n",
    "\n",
    "plt.tight_layout()\n",
    "plt.show()"
   ]
  },
  {
   "cell_type": "markdown",
   "id": "4eba78bb",
   "metadata": {},
   "source": [
    "## Evaluate Clusters"
   ]
  },
  {
   "cell_type": "code",
   "execution_count": 28,
   "id": "14c4ea12",
   "metadata": {},
   "outputs": [
    {
     "name": "stdout",
     "output_type": "stream",
     "text": [
      "K=5, cov=diag\n",
      "BIC=9506.0 | train_LL=-2.580 | test_LL=-2.617\n",
      "silhouette=0.321 | davies-bouldin=0.920 | calinski-harabasz=1533.6\n",
      "avg posterior entropy=0.688 (lower is crisper)\n"
     ]
    }
   ],
   "source": [
    "print(f\"K={gm.n_components}, cov={gm.covariance_type}\")\n",
    "print(f\"BIC={best_bic:.1f} | train_LL={train_ll:.3f} | test_LL={test_ll:.3f}\")\n",
    "print(f\"silhouette={sil:.3f} | davies-bouldin={db:.3f} | calinski-harabasz={ch:.1f}\")\n",
    "print(f\"avg posterior entropy={entropy:.3f} (lower is crisper)\")"
   ]
  },
  {
   "cell_type": "code",
   "execution_count": 29,
   "id": "8923b4d7",
   "metadata": {},
   "outputs": [
    {
     "name": "stdout",
     "output_type": "stream",
     "text": [
      "converged: True | iters: 8\n",
      "min eigenvalue: 0.22177455523794762\n"
     ]
    }
   ],
   "source": [
    "print(\"converged:\", gm.converged_, \"| iters:\", gm.n_iter_)\n",
    "# check smallest eigenvalue across components (standardized space)\n",
    "\n",
    "\n",
    "def min_eigvals(gm):\n",
    "    if gm.covariance_type == \"full\":\n",
    "        return min(np.linalg.eigvalsh(S).min() for S in gm.covariances_)\n",
    "    elif gm.covariance_type == \"diag\":\n",
    "        return float(np.min(gm.covariances_))\n",
    "    else:  # 'tied' or 'spherical' if you ever use them\n",
    "        return float(np.min(gm.covariances_))\n",
    "\n",
    "\n",
    "print(\"min eigenvalue:\", min_eigvals(gm))\n"
   ]
  },
  {
   "cell_type": "code",
   "execution_count": 30,
   "id": "5283d9d1",
   "metadata": {},
   "outputs": [],
   "source": [
    "# # ---- 4) (Optional) Attach cluster labels back to a Polars frame ----\n",
    "# # Use this for downstream retrieval or plotting.\n",
    "# deam_with_clusters = df_pl.with_columns([\n",
    "# pl.Series('cluster', labels),\n",
    "# pl.Series('cluster_conf', proba.max(axis=1)),\n",
    "# ])\n",
    "\n",
    "\n",
    "# # ---- 5) Helper: match a new (valence, arousal) prediction to a cluster ----\n",
    "# # Example: match_cluster(5.2, 4.1)\n",
    "\n",
    "\n",
    "# def match_cluster(valence: float, arousal: float):\n",
    "# x = np.array([[valence, arousal]])\n",
    "# p = gm.predict_proba(scaler.transform(x)).ravel()\n",
    "# k = int(np.argmax(p))\n",
    "# return {'cluster': k, 'confidence': float(p[k])}"
   ]
  }
 ],
 "metadata": {
  "kernelspec": {
   "display_name": ".venv",
   "language": "python",
   "name": "python3"
  },
  "language_info": {
   "codemirror_mode": {
    "name": "ipython",
    "version": 3
   },
   "file_extension": ".py",
   "mimetype": "text/x-python",
   "name": "python",
   "nbconvert_exporter": "python",
   "pygments_lexer": "ipython3",
   "version": "3.12.11"
  }
 },
 "nbformat": 4,
 "nbformat_minor": 5
}
