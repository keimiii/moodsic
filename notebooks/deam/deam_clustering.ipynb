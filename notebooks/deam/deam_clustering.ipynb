{
 "cells": [
  {
   "cell_type": "markdown",
   "id": "80ae9ec9",
   "metadata": {},
   "source": [
    "# K-Means Clustering using Variance Threshold"
   ]
  },
  {
   "cell_type": "code",
   "execution_count": null,
   "id": "1b55622e",
   "metadata": {},
   "outputs": [
    {
     "name": "stdout",
     "output_type": "stream",
     "text": [
      "Selected Features based on Variance: ['song_id', ' valence_mean', ' arousal_mean', 'frameTime', 'F0final_sma_stddev', 'F0final_sma_amean', 'logHNR_sma_stddev', 'logHNR_sma_amean', 'audspec_lengthL1norm_sma_amean', 'pcm_fftMag_fband250-650_sma_stddev', 'pcm_fftMag_fband250-650_sma_amean', 'pcm_fftMag_fband1000-4000_sma_stddev', 'pcm_fftMag_fband1000-4000_sma_amean', 'pcm_fftMag_spectralRollOff25.0_sma_stddev', 'pcm_fftMag_spectralRollOff25.0_sma_amean', 'pcm_fftMag_spectralRollOff50.0_sma_stddev', 'pcm_fftMag_spectralRollOff50.0_sma_amean', 'pcm_fftMag_spectralRollOff75.0_sma_stddev', 'pcm_fftMag_spectralRollOff75.0_sma_amean', 'pcm_fftMag_spectralRollOff90.0_sma_stddev', 'pcm_fftMag_spectralRollOff90.0_sma_amean', 'pcm_fftMag_spectralCentroid_sma_stddev', 'pcm_fftMag_spectralCentroid_sma_amean', 'pcm_fftMag_spectralVariance_sma_stddev', 'pcm_fftMag_spectralVariance_sma_amean', 'pcm_fftMag_spectralSkewness_sma_stddev', 'pcm_fftMag_spectralSkewness_sma_amean', 'pcm_fftMag_spectralKurtosis_sma_stddev', 'pcm_fftMag_spectralKurtosis_sma_amean', 'pcm_fftMag_spectralSlope_sma_amean', 'pcm_fftMag_spectralHarmonicity_sma_stddev', 'pcm_fftMag_spectralHarmonicity_sma_amean', 'pcm_fftMag_mfcc_sma[1]_stddev', 'pcm_fftMag_mfcc_sma[1]_amean', 'pcm_fftMag_mfcc_sma[2]_stddev', 'pcm_fftMag_mfcc_sma[2]_amean', 'pcm_fftMag_mfcc_sma[3]_stddev', 'pcm_fftMag_mfcc_sma[3]_amean', 'pcm_fftMag_mfcc_sma[4]_stddev', 'pcm_fftMag_mfcc_sma[4]_amean', 'pcm_fftMag_mfcc_sma[5]_stddev', 'pcm_fftMag_mfcc_sma[5]_amean', 'pcm_fftMag_mfcc_sma[6]_stddev', 'pcm_fftMag_mfcc_sma[6]_amean', 'pcm_fftMag_mfcc_sma[7]_stddev', 'pcm_fftMag_mfcc_sma[7]_amean', 'pcm_fftMag_mfcc_sma[8]_stddev', 'pcm_fftMag_mfcc_sma[8]_amean', 'pcm_fftMag_mfcc_sma[9]_stddev', 'pcm_fftMag_mfcc_sma[9]_amean', 'pcm_fftMag_mfcc_sma[10]_stddev', 'pcm_fftMag_mfcc_sma[10]_amean', 'pcm_fftMag_mfcc_sma[11]_stddev', 'pcm_fftMag_mfcc_sma[11]_amean', 'pcm_fftMag_mfcc_sma[12]_stddev', 'pcm_fftMag_mfcc_sma[12]_amean', 'pcm_fftMag_mfcc_sma[13]_stddev', 'pcm_fftMag_mfcc_sma[13]_amean', 'pcm_fftMag_mfcc_sma[14]_stddev', 'pcm_fftMag_mfcc_sma[14]_amean', 'pcm_fftMag_spectralRollOff25.0_sma_de_stddev', 'pcm_fftMag_spectralRollOff50.0_sma_de_stddev', 'pcm_fftMag_spectralRollOff75.0_sma_de_stddev', 'pcm_fftMag_spectralRollOff90.0_sma_de_stddev', 'pcm_fftMag_spectralCentroid_sma_de_stddev', 'pcm_fftMag_spectralVariance_sma_de_stddev', 'pcm_fftMag_spectralVariance_sma_de_amean', 'pcm_fftMag_spectralSkewness_sma_de_stddev', 'pcm_fftMag_spectralKurtosis_sma_de_stddev']\n",
      "Number of Selected Features based on Variance: 69\n"
     ]
    }
   ],
   "source": [
    "import pandas as pd\n",
    "from sklearn.feature_selection import VarianceThreshold\n",
    "        \n",
    "features_file = '../../data/combined_features_scores.csv'\n",
    "# Read the averaged features\n",
    "df = pd.read_csv(features_file)\n",
    "\n",
    "# Exclude target column from feature set\n",
    "score_columns = ['song_id', ' valence_mean', ' valence_std', ' arousal_mean', ' arousal_std']\n",
    "feature_cols = [col for col in df.columns if col not in score_columns]\n",
    "\n",
    "\n",
    "# Select features with variance above a threshold (e.g., 0.5)\n",
    "selector = VarianceThreshold(threshold=0.5)\n",
    "selected_features = selector.fit_transform(df)\n",
    "\n",
    "# Get the names of the selected features\n",
    "feature_names = df.columns[selector.get_support()]\n",
    "print(\"Selected Features based on Variance:\", list(feature_names))\n",
    "print(\"Number of Selected Features based on Variance:\", len(feature_names))"
   ]
  },
  {
   "cell_type": "code",
   "execution_count": 2,
   "id": "b3633542",
   "metadata": {},
   "outputs": [
    {
     "data": {
      "application/vnd.microsoft.datawrangler.viewer.v0+json": {
       "columns": [
        {
         "name": "index",
         "rawType": "int64",
         "type": "integer"
        },
        {
         "name": "song_id",
         "rawType": "int64",
         "type": "integer"
        },
        {
         "name": " valence_mean",
         "rawType": "float64",
         "type": "float"
        },
        {
         "name": " valence_std",
         "rawType": "float64",
         "type": "float"
        },
        {
         "name": " arousal_mean",
         "rawType": "float64",
         "type": "float"
        },
        {
         "name": " arousal_std",
         "rawType": "float64",
         "type": "float"
        },
        {
         "name": "frameTime",
         "rawType": "float64",
         "type": "float"
        },
        {
         "name": "F0final_sma_stddev",
         "rawType": "float64",
         "type": "float"
        },
        {
         "name": "F0final_sma_amean",
         "rawType": "float64",
         "type": "float"
        },
        {
         "name": "voicingFinalUnclipped_sma_stddev",
         "rawType": "float64",
         "type": "float"
        },
        {
         "name": "voicingFinalUnclipped_sma_amean",
         "rawType": "float64",
         "type": "float"
        },
        {
         "name": "jitterLocal_sma_stddev",
         "rawType": "float64",
         "type": "float"
        },
        {
         "name": "jitterLocal_sma_amean",
         "rawType": "float64",
         "type": "float"
        },
        {
         "name": "jitterDDP_sma_stddev",
         "rawType": "float64",
         "type": "float"
        },
        {
         "name": "jitterDDP_sma_amean",
         "rawType": "float64",
         "type": "float"
        },
        {
         "name": "shimmerLocal_sma_stddev",
         "rawType": "float64",
         "type": "float"
        },
        {
         "name": "shimmerLocal_sma_amean",
         "rawType": "float64",
         "type": "float"
        },
        {
         "name": "logHNR_sma_stddev",
         "rawType": "float64",
         "type": "float"
        },
        {
         "name": "logHNR_sma_amean",
         "rawType": "float64",
         "type": "float"
        },
        {
         "name": "audspec_lengthL1norm_sma_stddev",
         "rawType": "float64",
         "type": "float"
        },
        {
         "name": "audspec_lengthL1norm_sma_amean",
         "rawType": "float64",
         "type": "float"
        },
        {
         "name": "audspecRasta_lengthL1norm_sma_stddev",
         "rawType": "float64",
         "type": "float"
        },
        {
         "name": "audspecRasta_lengthL1norm_sma_amean",
         "rawType": "float64",
         "type": "float"
        },
        {
         "name": "pcm_RMSenergy_sma_stddev",
         "rawType": "float64",
         "type": "float"
        },
        {
         "name": "pcm_RMSenergy_sma_amean",
         "rawType": "float64",
         "type": "float"
        },
        {
         "name": "pcm_zcr_sma_stddev",
         "rawType": "float64",
         "type": "float"
        },
        {
         "name": "pcm_zcr_sma_amean",
         "rawType": "float64",
         "type": "float"
        },
        {
         "name": "audSpec_Rfilt_sma[0]_stddev",
         "rawType": "float64",
         "type": "float"
        },
        {
         "name": "audSpec_Rfilt_sma[0]_amean",
         "rawType": "float64",
         "type": "float"
        },
        {
         "name": "audSpec_Rfilt_sma[1]_stddev",
         "rawType": "float64",
         "type": "float"
        },
        {
         "name": "audSpec_Rfilt_sma[1]_amean",
         "rawType": "float64",
         "type": "float"
        },
        {
         "name": "audSpec_Rfilt_sma[2]_stddev",
         "rawType": "float64",
         "type": "float"
        },
        {
         "name": "audSpec_Rfilt_sma[2]_amean",
         "rawType": "float64",
         "type": "float"
        },
        {
         "name": "audSpec_Rfilt_sma[3]_stddev",
         "rawType": "float64",
         "type": "float"
        },
        {
         "name": "audSpec_Rfilt_sma[3]_amean",
         "rawType": "float64",
         "type": "float"
        },
        {
         "name": "audSpec_Rfilt_sma[4]_stddev",
         "rawType": "float64",
         "type": "float"
        },
        {
         "name": "audSpec_Rfilt_sma[4]_amean",
         "rawType": "float64",
         "type": "float"
        },
        {
         "name": "audSpec_Rfilt_sma[5]_stddev",
         "rawType": "float64",
         "type": "float"
        },
        {
         "name": "audSpec_Rfilt_sma[5]_amean",
         "rawType": "float64",
         "type": "float"
        },
        {
         "name": "audSpec_Rfilt_sma[6]_stddev",
         "rawType": "float64",
         "type": "float"
        },
        {
         "name": "audSpec_Rfilt_sma[6]_amean",
         "rawType": "float64",
         "type": "float"
        },
        {
         "name": "audSpec_Rfilt_sma[7]_stddev",
         "rawType": "float64",
         "type": "float"
        },
        {
         "name": "audSpec_Rfilt_sma[7]_amean",
         "rawType": "float64",
         "type": "float"
        },
        {
         "name": "audSpec_Rfilt_sma[8]_stddev",
         "rawType": "float64",
         "type": "float"
        },
        {
         "name": "audSpec_Rfilt_sma[8]_amean",
         "rawType": "float64",
         "type": "float"
        },
        {
         "name": "audSpec_Rfilt_sma[9]_stddev",
         "rawType": "float64",
         "type": "float"
        },
        {
         "name": "audSpec_Rfilt_sma[9]_amean",
         "rawType": "float64",
         "type": "float"
        },
        {
         "name": "audSpec_Rfilt_sma[10]_stddev",
         "rawType": "float64",
         "type": "float"
        },
        {
         "name": "audSpec_Rfilt_sma[10]_amean",
         "rawType": "float64",
         "type": "float"
        },
        {
         "name": "audSpec_Rfilt_sma[11]_stddev",
         "rawType": "float64",
         "type": "float"
        },
        {
         "name": "audSpec_Rfilt_sma[11]_amean",
         "rawType": "float64",
         "type": "float"
        },
        {
         "name": "audSpec_Rfilt_sma[12]_stddev",
         "rawType": "float64",
         "type": "float"
        },
        {
         "name": "audSpec_Rfilt_sma[12]_amean",
         "rawType": "float64",
         "type": "float"
        },
        {
         "name": "audSpec_Rfilt_sma[13]_stddev",
         "rawType": "float64",
         "type": "float"
        },
        {
         "name": "audSpec_Rfilt_sma[13]_amean",
         "rawType": "float64",
         "type": "float"
        },
        {
         "name": "audSpec_Rfilt_sma[14]_stddev",
         "rawType": "float64",
         "type": "float"
        },
        {
         "name": "audSpec_Rfilt_sma[14]_amean",
         "rawType": "float64",
         "type": "float"
        },
        {
         "name": "audSpec_Rfilt_sma[15]_stddev",
         "rawType": "float64",
         "type": "float"
        },
        {
         "name": "audSpec_Rfilt_sma[15]_amean",
         "rawType": "float64",
         "type": "float"
        },
        {
         "name": "audSpec_Rfilt_sma[16]_stddev",
         "rawType": "float64",
         "type": "float"
        },
        {
         "name": "audSpec_Rfilt_sma[16]_amean",
         "rawType": "float64",
         "type": "float"
        },
        {
         "name": "audSpec_Rfilt_sma[17]_stddev",
         "rawType": "float64",
         "type": "float"
        },
        {
         "name": "audSpec_Rfilt_sma[17]_amean",
         "rawType": "float64",
         "type": "float"
        },
        {
         "name": "audSpec_Rfilt_sma[18]_stddev",
         "rawType": "float64",
         "type": "float"
        },
        {
         "name": "audSpec_Rfilt_sma[18]_amean",
         "rawType": "float64",
         "type": "float"
        },
        {
         "name": "audSpec_Rfilt_sma[19]_stddev",
         "rawType": "float64",
         "type": "float"
        },
        {
         "name": "audSpec_Rfilt_sma[19]_amean",
         "rawType": "float64",
         "type": "float"
        },
        {
         "name": "audSpec_Rfilt_sma[20]_stddev",
         "rawType": "float64",
         "type": "float"
        },
        {
         "name": "audSpec_Rfilt_sma[20]_amean",
         "rawType": "float64",
         "type": "float"
        },
        {
         "name": "audSpec_Rfilt_sma[21]_stddev",
         "rawType": "float64",
         "type": "float"
        },
        {
         "name": "audSpec_Rfilt_sma[21]_amean",
         "rawType": "float64",
         "type": "float"
        },
        {
         "name": "audSpec_Rfilt_sma[22]_stddev",
         "rawType": "float64",
         "type": "float"
        },
        {
         "name": "audSpec_Rfilt_sma[22]_amean",
         "rawType": "float64",
         "type": "float"
        },
        {
         "name": "audSpec_Rfilt_sma[23]_stddev",
         "rawType": "float64",
         "type": "float"
        },
        {
         "name": "audSpec_Rfilt_sma[23]_amean",
         "rawType": "float64",
         "type": "float"
        },
        {
         "name": "audSpec_Rfilt_sma[24]_stddev",
         "rawType": "float64",
         "type": "float"
        },
        {
         "name": "audSpec_Rfilt_sma[24]_amean",
         "rawType": "float64",
         "type": "float"
        },
        {
         "name": "audSpec_Rfilt_sma[25]_stddev",
         "rawType": "float64",
         "type": "float"
        },
        {
         "name": "audSpec_Rfilt_sma[25]_amean",
         "rawType": "float64",
         "type": "float"
        },
        {
         "name": "pcm_fftMag_fband250-650_sma_stddev",
         "rawType": "float64",
         "type": "float"
        },
        {
         "name": "pcm_fftMag_fband250-650_sma_amean",
         "rawType": "float64",
         "type": "float"
        },
        {
         "name": "pcm_fftMag_fband1000-4000_sma_stddev",
         "rawType": "float64",
         "type": "float"
        },
        {
         "name": "pcm_fftMag_fband1000-4000_sma_amean",
         "rawType": "float64",
         "type": "float"
        },
        {
         "name": "pcm_fftMag_spectralRollOff25.0_sma_stddev",
         "rawType": "float64",
         "type": "float"
        },
        {
         "name": "pcm_fftMag_spectralRollOff25.0_sma_amean",
         "rawType": "float64",
         "type": "float"
        },
        {
         "name": "pcm_fftMag_spectralRollOff50.0_sma_stddev",
         "rawType": "float64",
         "type": "float"
        },
        {
         "name": "pcm_fftMag_spectralRollOff50.0_sma_amean",
         "rawType": "float64",
         "type": "float"
        },
        {
         "name": "pcm_fftMag_spectralRollOff75.0_sma_stddev",
         "rawType": "float64",
         "type": "float"
        },
        {
         "name": "pcm_fftMag_spectralRollOff75.0_sma_amean",
         "rawType": "float64",
         "type": "float"
        },
        {
         "name": "pcm_fftMag_spectralRollOff90.0_sma_stddev",
         "rawType": "float64",
         "type": "float"
        },
        {
         "name": "pcm_fftMag_spectralRollOff90.0_sma_amean",
         "rawType": "float64",
         "type": "float"
        },
        {
         "name": "pcm_fftMag_spectralFlux_sma_stddev",
         "rawType": "float64",
         "type": "float"
        },
        {
         "name": "pcm_fftMag_spectralFlux_sma_amean",
         "rawType": "float64",
         "type": "float"
        },
        {
         "name": "pcm_fftMag_spectralCentroid_sma_stddev",
         "rawType": "float64",
         "type": "float"
        },
        {
         "name": "pcm_fftMag_spectralCentroid_sma_amean",
         "rawType": "float64",
         "type": "float"
        },
        {
         "name": "pcm_fftMag_spectralEntropy_sma_stddev",
         "rawType": "float64",
         "type": "float"
        },
        {
         "name": "pcm_fftMag_spectralEntropy_sma_amean",
         "rawType": "float64",
         "type": "float"
        },
        {
         "name": "pcm_fftMag_spectralVariance_sma_stddev",
         "rawType": "float64",
         "type": "float"
        },
        {
         "name": "pcm_fftMag_spectralVariance_sma_amean",
         "rawType": "float64",
         "type": "float"
        },
        {
         "name": "pcm_fftMag_spectralSkewness_sma_stddev",
         "rawType": "float64",
         "type": "float"
        },
        {
         "name": "pcm_fftMag_spectralSkewness_sma_amean",
         "rawType": "float64",
         "type": "float"
        },
        {
         "name": "pcm_fftMag_spectralKurtosis_sma_stddev",
         "rawType": "float64",
         "type": "float"
        },
        {
         "name": "pcm_fftMag_spectralKurtosis_sma_amean",
         "rawType": "float64",
         "type": "float"
        },
        {
         "name": "pcm_fftMag_spectralSlope_sma_stddev",
         "rawType": "float64",
         "type": "float"
        },
        {
         "name": "pcm_fftMag_spectralSlope_sma_amean",
         "rawType": "float64",
         "type": "float"
        },
        {
         "name": "pcm_fftMag_psySharpness_sma_stddev",
         "rawType": "float64",
         "type": "float"
        },
        {
         "name": "pcm_fftMag_psySharpness_sma_amean",
         "rawType": "float64",
         "type": "float"
        },
        {
         "name": "pcm_fftMag_spectralHarmonicity_sma_stddev",
         "rawType": "float64",
         "type": "float"
        },
        {
         "name": "pcm_fftMag_spectralHarmonicity_sma_amean",
         "rawType": "float64",
         "type": "float"
        },
        {
         "name": "pcm_fftMag_mfcc_sma[1]_stddev",
         "rawType": "float64",
         "type": "float"
        },
        {
         "name": "pcm_fftMag_mfcc_sma[1]_amean",
         "rawType": "float64",
         "type": "float"
        },
        {
         "name": "pcm_fftMag_mfcc_sma[2]_stddev",
         "rawType": "float64",
         "type": "float"
        },
        {
         "name": "pcm_fftMag_mfcc_sma[2]_amean",
         "rawType": "float64",
         "type": "float"
        },
        {
         "name": "pcm_fftMag_mfcc_sma[3]_stddev",
         "rawType": "float64",
         "type": "float"
        },
        {
         "name": "pcm_fftMag_mfcc_sma[3]_amean",
         "rawType": "float64",
         "type": "float"
        },
        {
         "name": "pcm_fftMag_mfcc_sma[4]_stddev",
         "rawType": "float64",
         "type": "float"
        },
        {
         "name": "pcm_fftMag_mfcc_sma[4]_amean",
         "rawType": "float64",
         "type": "float"
        },
        {
         "name": "pcm_fftMag_mfcc_sma[5]_stddev",
         "rawType": "float64",
         "type": "float"
        },
        {
         "name": "pcm_fftMag_mfcc_sma[5]_amean",
         "rawType": "float64",
         "type": "float"
        },
        {
         "name": "pcm_fftMag_mfcc_sma[6]_stddev",
         "rawType": "float64",
         "type": "float"
        },
        {
         "name": "pcm_fftMag_mfcc_sma[6]_amean",
         "rawType": "float64",
         "type": "float"
        },
        {
         "name": "pcm_fftMag_mfcc_sma[7]_stddev",
         "rawType": "float64",
         "type": "float"
        },
        {
         "name": "pcm_fftMag_mfcc_sma[7]_amean",
         "rawType": "float64",
         "type": "float"
        },
        {
         "name": "pcm_fftMag_mfcc_sma[8]_stddev",
         "rawType": "float64",
         "type": "float"
        },
        {
         "name": "pcm_fftMag_mfcc_sma[8]_amean",
         "rawType": "float64",
         "type": "float"
        },
        {
         "name": "pcm_fftMag_mfcc_sma[9]_stddev",
         "rawType": "float64",
         "type": "float"
        },
        {
         "name": "pcm_fftMag_mfcc_sma[9]_amean",
         "rawType": "float64",
         "type": "float"
        },
        {
         "name": "pcm_fftMag_mfcc_sma[10]_stddev",
         "rawType": "float64",
         "type": "float"
        },
        {
         "name": "pcm_fftMag_mfcc_sma[10]_amean",
         "rawType": "float64",
         "type": "float"
        },
        {
         "name": "pcm_fftMag_mfcc_sma[11]_stddev",
         "rawType": "float64",
         "type": "float"
        },
        {
         "name": "pcm_fftMag_mfcc_sma[11]_amean",
         "rawType": "float64",
         "type": "float"
        },
        {
         "name": "pcm_fftMag_mfcc_sma[12]_stddev",
         "rawType": "float64",
         "type": "float"
        },
        {
         "name": "pcm_fftMag_mfcc_sma[12]_amean",
         "rawType": "float64",
         "type": "float"
        },
        {
         "name": "pcm_fftMag_mfcc_sma[13]_stddev",
         "rawType": "float64",
         "type": "float"
        },
        {
         "name": "pcm_fftMag_mfcc_sma[13]_amean",
         "rawType": "float64",
         "type": "float"
        },
        {
         "name": "pcm_fftMag_mfcc_sma[14]_stddev",
         "rawType": "float64",
         "type": "float"
        },
        {
         "name": "pcm_fftMag_mfcc_sma[14]_amean",
         "rawType": "float64",
         "type": "float"
        },
        {
         "name": "F0final_sma_de_stddev",
         "rawType": "float64",
         "type": "float"
        },
        {
         "name": "F0final_sma_de_amean",
         "rawType": "float64",
         "type": "float"
        },
        {
         "name": "voicingFinalUnclipped_sma_de_stddev",
         "rawType": "float64",
         "type": "float"
        },
        {
         "name": "voicingFinalUnclipped_sma_de_amean",
         "rawType": "float64",
         "type": "float"
        },
        {
         "name": "jitterLocal_sma_de_stddev",
         "rawType": "float64",
         "type": "float"
        },
        {
         "name": "jitterLocal_sma_de_amean",
         "rawType": "float64",
         "type": "float"
        },
        {
         "name": "jitterDDP_sma_de_stddev",
         "rawType": "float64",
         "type": "float"
        },
        {
         "name": "jitterDDP_sma_de_amean",
         "rawType": "float64",
         "type": "float"
        },
        {
         "name": "shimmerLocal_sma_de_stddev",
         "rawType": "float64",
         "type": "float"
        },
        {
         "name": "shimmerLocal_sma_de_amean",
         "rawType": "float64",
         "type": "float"
        },
        {
         "name": "logHNR_sma_de_stddev",
         "rawType": "float64",
         "type": "float"
        },
        {
         "name": "logHNR_sma_de_amean",
         "rawType": "float64",
         "type": "float"
        },
        {
         "name": "audspec_lengthL1norm_sma_de_stddev",
         "rawType": "float64",
         "type": "float"
        },
        {
         "name": "audspec_lengthL1norm_sma_de_amean",
         "rawType": "float64",
         "type": "float"
        },
        {
         "name": "audspecRasta_lengthL1norm_sma_de_stddev",
         "rawType": "float64",
         "type": "float"
        },
        {
         "name": "audspecRasta_lengthL1norm_sma_de_amean",
         "rawType": "float64",
         "type": "float"
        },
        {
         "name": "pcm_RMSenergy_sma_de_stddev",
         "rawType": "float64",
         "type": "float"
        },
        {
         "name": "pcm_RMSenergy_sma_de_amean",
         "rawType": "float64",
         "type": "float"
        },
        {
         "name": "pcm_zcr_sma_de_stddev",
         "rawType": "float64",
         "type": "float"
        },
        {
         "name": "pcm_zcr_sma_de_amean",
         "rawType": "float64",
         "type": "float"
        },
        {
         "name": "audSpec_Rfilt_sma_de[0]_stddev",
         "rawType": "float64",
         "type": "float"
        },
        {
         "name": "audSpec_Rfilt_sma_de[0]_amean",
         "rawType": "float64",
         "type": "float"
        },
        {
         "name": "audSpec_Rfilt_sma_de[1]_stddev",
         "rawType": "float64",
         "type": "float"
        },
        {
         "name": "audSpec_Rfilt_sma_de[1]_amean",
         "rawType": "float64",
         "type": "float"
        },
        {
         "name": "audSpec_Rfilt_sma_de[2]_stddev",
         "rawType": "float64",
         "type": "float"
        },
        {
         "name": "audSpec_Rfilt_sma_de[2]_amean",
         "rawType": "float64",
         "type": "float"
        },
        {
         "name": "audSpec_Rfilt_sma_de[3]_stddev",
         "rawType": "float64",
         "type": "float"
        },
        {
         "name": "audSpec_Rfilt_sma_de[3]_amean",
         "rawType": "float64",
         "type": "float"
        },
        {
         "name": "audSpec_Rfilt_sma_de[4]_stddev",
         "rawType": "float64",
         "type": "float"
        },
        {
         "name": "audSpec_Rfilt_sma_de[4]_amean",
         "rawType": "float64",
         "type": "float"
        },
        {
         "name": "audSpec_Rfilt_sma_de[5]_stddev",
         "rawType": "float64",
         "type": "float"
        },
        {
         "name": "audSpec_Rfilt_sma_de[5]_amean",
         "rawType": "float64",
         "type": "float"
        },
        {
         "name": "audSpec_Rfilt_sma_de[6]_stddev",
         "rawType": "float64",
         "type": "float"
        },
        {
         "name": "audSpec_Rfilt_sma_de[6]_amean",
         "rawType": "float64",
         "type": "float"
        },
        {
         "name": "audSpec_Rfilt_sma_de[7]_stddev",
         "rawType": "float64",
         "type": "float"
        },
        {
         "name": "audSpec_Rfilt_sma_de[7]_amean",
         "rawType": "float64",
         "type": "float"
        },
        {
         "name": "audSpec_Rfilt_sma_de[8]_stddev",
         "rawType": "float64",
         "type": "float"
        },
        {
         "name": "audSpec_Rfilt_sma_de[8]_amean",
         "rawType": "float64",
         "type": "float"
        },
        {
         "name": "audSpec_Rfilt_sma_de[9]_stddev",
         "rawType": "float64",
         "type": "float"
        },
        {
         "name": "audSpec_Rfilt_sma_de[9]_amean",
         "rawType": "float64",
         "type": "float"
        },
        {
         "name": "audSpec_Rfilt_sma_de[10]_stddev",
         "rawType": "float64",
         "type": "float"
        },
        {
         "name": "audSpec_Rfilt_sma_de[10]_amean",
         "rawType": "float64",
         "type": "float"
        },
        {
         "name": "audSpec_Rfilt_sma_de[11]_stddev",
         "rawType": "float64",
         "type": "float"
        },
        {
         "name": "audSpec_Rfilt_sma_de[11]_amean",
         "rawType": "float64",
         "type": "float"
        },
        {
         "name": "audSpec_Rfilt_sma_de[12]_stddev",
         "rawType": "float64",
         "type": "float"
        },
        {
         "name": "audSpec_Rfilt_sma_de[12]_amean",
         "rawType": "float64",
         "type": "float"
        },
        {
         "name": "audSpec_Rfilt_sma_de[13]_stddev",
         "rawType": "float64",
         "type": "float"
        },
        {
         "name": "audSpec_Rfilt_sma_de[13]_amean",
         "rawType": "float64",
         "type": "float"
        },
        {
         "name": "audSpec_Rfilt_sma_de[14]_stddev",
         "rawType": "float64",
         "type": "float"
        },
        {
         "name": "audSpec_Rfilt_sma_de[14]_amean",
         "rawType": "float64",
         "type": "float"
        },
        {
         "name": "audSpec_Rfilt_sma_de[15]_stddev",
         "rawType": "float64",
         "type": "float"
        },
        {
         "name": "audSpec_Rfilt_sma_de[15]_amean",
         "rawType": "float64",
         "type": "float"
        },
        {
         "name": "audSpec_Rfilt_sma_de[16]_stddev",
         "rawType": "float64",
         "type": "float"
        },
        {
         "name": "audSpec_Rfilt_sma_de[16]_amean",
         "rawType": "float64",
         "type": "float"
        },
        {
         "name": "audSpec_Rfilt_sma_de[17]_stddev",
         "rawType": "float64",
         "type": "float"
        },
        {
         "name": "audSpec_Rfilt_sma_de[17]_amean",
         "rawType": "float64",
         "type": "float"
        },
        {
         "name": "audSpec_Rfilt_sma_de[18]_stddev",
         "rawType": "float64",
         "type": "float"
        },
        {
         "name": "audSpec_Rfilt_sma_de[18]_amean",
         "rawType": "float64",
         "type": "float"
        },
        {
         "name": "audSpec_Rfilt_sma_de[19]_stddev",
         "rawType": "float64",
         "type": "float"
        },
        {
         "name": "audSpec_Rfilt_sma_de[19]_amean",
         "rawType": "float64",
         "type": "float"
        },
        {
         "name": "audSpec_Rfilt_sma_de[20]_stddev",
         "rawType": "float64",
         "type": "float"
        },
        {
         "name": "audSpec_Rfilt_sma_de[20]_amean",
         "rawType": "float64",
         "type": "float"
        },
        {
         "name": "audSpec_Rfilt_sma_de[21]_stddev",
         "rawType": "float64",
         "type": "float"
        },
        {
         "name": "audSpec_Rfilt_sma_de[21]_amean",
         "rawType": "float64",
         "type": "float"
        },
        {
         "name": "audSpec_Rfilt_sma_de[22]_stddev",
         "rawType": "float64",
         "type": "float"
        },
        {
         "name": "audSpec_Rfilt_sma_de[22]_amean",
         "rawType": "float64",
         "type": "float"
        },
        {
         "name": "audSpec_Rfilt_sma_de[23]_stddev",
         "rawType": "float64",
         "type": "float"
        },
        {
         "name": "audSpec_Rfilt_sma_de[23]_amean",
         "rawType": "float64",
         "type": "float"
        },
        {
         "name": "audSpec_Rfilt_sma_de[24]_stddev",
         "rawType": "float64",
         "type": "float"
        },
        {
         "name": "audSpec_Rfilt_sma_de[24]_amean",
         "rawType": "float64",
         "type": "float"
        },
        {
         "name": "audSpec_Rfilt_sma_de[25]_stddev",
         "rawType": "float64",
         "type": "float"
        },
        {
         "name": "audSpec_Rfilt_sma_de[25]_amean",
         "rawType": "float64",
         "type": "float"
        },
        {
         "name": "pcm_fftMag_fband250-650_sma_de_stddev",
         "rawType": "float64",
         "type": "float"
        },
        {
         "name": "pcm_fftMag_fband250-650_sma_de_amean",
         "rawType": "float64",
         "type": "float"
        },
        {
         "name": "pcm_fftMag_fband1000-4000_sma_de_stddev",
         "rawType": "float64",
         "type": "float"
        },
        {
         "name": "pcm_fftMag_fband1000-4000_sma_de_amean",
         "rawType": "float64",
         "type": "float"
        },
        {
         "name": "pcm_fftMag_spectralRollOff25.0_sma_de_stddev",
         "rawType": "float64",
         "type": "float"
        },
        {
         "name": "pcm_fftMag_spectralRollOff25.0_sma_de_amean",
         "rawType": "float64",
         "type": "float"
        },
        {
         "name": "pcm_fftMag_spectralRollOff50.0_sma_de_stddev",
         "rawType": "float64",
         "type": "float"
        },
        {
         "name": "pcm_fftMag_spectralRollOff50.0_sma_de_amean",
         "rawType": "float64",
         "type": "float"
        },
        {
         "name": "pcm_fftMag_spectralRollOff75.0_sma_de_stddev",
         "rawType": "float64",
         "type": "float"
        },
        {
         "name": "pcm_fftMag_spectralRollOff75.0_sma_de_amean",
         "rawType": "float64",
         "type": "float"
        },
        {
         "name": "pcm_fftMag_spectralRollOff90.0_sma_de_stddev",
         "rawType": "float64",
         "type": "float"
        },
        {
         "name": "pcm_fftMag_spectralRollOff90.0_sma_de_amean",
         "rawType": "float64",
         "type": "float"
        },
        {
         "name": "pcm_fftMag_spectralFlux_sma_de_stddev",
         "rawType": "float64",
         "type": "float"
        },
        {
         "name": "pcm_fftMag_spectralFlux_sma_de_amean",
         "rawType": "float64",
         "type": "float"
        },
        {
         "name": "pcm_fftMag_spectralCentroid_sma_de_stddev",
         "rawType": "float64",
         "type": "float"
        },
        {
         "name": "pcm_fftMag_spectralCentroid_sma_de_amean",
         "rawType": "float64",
         "type": "float"
        },
        {
         "name": "pcm_fftMag_spectralEntropy_sma_de_stddev",
         "rawType": "float64",
         "type": "float"
        },
        {
         "name": "pcm_fftMag_spectralEntropy_sma_de_amean",
         "rawType": "float64",
         "type": "float"
        },
        {
         "name": "pcm_fftMag_spectralVariance_sma_de_stddev",
         "rawType": "float64",
         "type": "float"
        },
        {
         "name": "pcm_fftMag_spectralVariance_sma_de_amean",
         "rawType": "float64",
         "type": "float"
        },
        {
         "name": "pcm_fftMag_spectralSkewness_sma_de_stddev",
         "rawType": "float64",
         "type": "float"
        },
        {
         "name": "pcm_fftMag_spectralSkewness_sma_de_amean",
         "rawType": "float64",
         "type": "float"
        },
        {
         "name": "pcm_fftMag_spectralKurtosis_sma_de_stddev",
         "rawType": "float64",
         "type": "float"
        },
        {
         "name": "pcm_fftMag_spectralKurtosis_sma_de_amean",
         "rawType": "float64",
         "type": "float"
        },
        {
         "name": "pcm_fftMag_spectralSlope_sma_de_stddev",
         "rawType": "float64",
         "type": "float"
        },
        {
         "name": "pcm_fftMag_spectralSlope_sma_de_amean",
         "rawType": "float64",
         "type": "float"
        },
        {
         "name": "pcm_fftMag_psySharpness_sma_de_stddev",
         "rawType": "float64",
         "type": "float"
        },
        {
         "name": "pcm_fftMag_psySharpness_sma_de_amean",
         "rawType": "float64",
         "type": "float"
        },
        {
         "name": "pcm_fftMag_spectralHarmonicity_sma_de_stddev",
         "rawType": "float64",
         "type": "float"
        },
        {
         "name": "pcm_fftMag_spectralHarmonicity_sma_de_amean",
         "rawType": "float64",
         "type": "float"
        },
        {
         "name": "pcm_fftMag_mfcc_sma_de[1]_stddev",
         "rawType": "float64",
         "type": "float"
        },
        {
         "name": "pcm_fftMag_mfcc_sma_de[1]_amean",
         "rawType": "float64",
         "type": "float"
        },
        {
         "name": "pcm_fftMag_mfcc_sma_de[2]_stddev",
         "rawType": "float64",
         "type": "float"
        },
        {
         "name": "pcm_fftMag_mfcc_sma_de[2]_amean",
         "rawType": "float64",
         "type": "float"
        },
        {
         "name": "pcm_fftMag_mfcc_sma_de[3]_stddev",
         "rawType": "float64",
         "type": "float"
        },
        {
         "name": "pcm_fftMag_mfcc_sma_de[3]_amean",
         "rawType": "float64",
         "type": "float"
        },
        {
         "name": "pcm_fftMag_mfcc_sma_de[4]_stddev",
         "rawType": "float64",
         "type": "float"
        },
        {
         "name": "pcm_fftMag_mfcc_sma_de[4]_amean",
         "rawType": "float64",
         "type": "float"
        },
        {
         "name": "pcm_fftMag_mfcc_sma_de[5]_stddev",
         "rawType": "float64",
         "type": "float"
        },
        {
         "name": "pcm_fftMag_mfcc_sma_de[5]_amean",
         "rawType": "float64",
         "type": "float"
        },
        {
         "name": "pcm_fftMag_mfcc_sma_de[6]_stddev",
         "rawType": "float64",
         "type": "float"
        },
        {
         "name": "pcm_fftMag_mfcc_sma_de[6]_amean",
         "rawType": "float64",
         "type": "float"
        },
        {
         "name": "pcm_fftMag_mfcc_sma_de[7]_stddev",
         "rawType": "float64",
         "type": "float"
        },
        {
         "name": "pcm_fftMag_mfcc_sma_de[7]_amean",
         "rawType": "float64",
         "type": "float"
        },
        {
         "name": "pcm_fftMag_mfcc_sma_de[8]_stddev",
         "rawType": "float64",
         "type": "float"
        },
        {
         "name": "pcm_fftMag_mfcc_sma_de[8]_amean",
         "rawType": "float64",
         "type": "float"
        },
        {
         "name": "pcm_fftMag_mfcc_sma_de[9]_stddev",
         "rawType": "float64",
         "type": "float"
        },
        {
         "name": "pcm_fftMag_mfcc_sma_de[9]_amean",
         "rawType": "float64",
         "type": "float"
        },
        {
         "name": "pcm_fftMag_mfcc_sma_de[10]_stddev",
         "rawType": "float64",
         "type": "float"
        },
        {
         "name": "pcm_fftMag_mfcc_sma_de[10]_amean",
         "rawType": "float64",
         "type": "float"
        },
        {
         "name": "pcm_fftMag_mfcc_sma_de[11]_stddev",
         "rawType": "float64",
         "type": "float"
        },
        {
         "name": "pcm_fftMag_mfcc_sma_de[11]_amean",
         "rawType": "float64",
         "type": "float"
        },
        {
         "name": "pcm_fftMag_mfcc_sma_de[12]_stddev",
         "rawType": "float64",
         "type": "float"
        },
        {
         "name": "pcm_fftMag_mfcc_sma_de[12]_amean",
         "rawType": "float64",
         "type": "float"
        },
        {
         "name": "pcm_fftMag_mfcc_sma_de[13]_stddev",
         "rawType": "float64",
         "type": "float"
        },
        {
         "name": "pcm_fftMag_mfcc_sma_de[13]_amean",
         "rawType": "float64",
         "type": "float"
        },
        {
         "name": "pcm_fftMag_mfcc_sma_de[14]_stddev",
         "rawType": "float64",
         "type": "float"
        },
        {
         "name": "pcm_fftMag_mfcc_sma_de[14]_amean",
         "rawType": "float64",
         "type": "float"
        }
       ],
       "ref": "d5252dbd-44d9-43c5-8897-048ca15f04c9",
       "rows": [
        [
         "0",
         "2",
         "3.1",
         "0.94",
         "3.0",
         "0.63",
         "112.0",
         "19.86041385879733",
         "93.88405559020045",
         "0.0277062679287305",
         "0.7428516414253897",
         "0.1172392816035634",
         "0.0996085393763919",
         "0.1129360790645879",
         "0.095735797884187",
         "0.1180502514476614",
         "0.1800066909576837",
         "6.02752874610245",
         "3.615380479064588",
         "0.3265901148307349",
         "1.8698872354432072",
         "0.1935863437416481",
         "1.0346962265033408",
         "0.0219954939032516",
         "0.097267694581069",
         "0.0120474872383073",
         "0.0342700836481069",
         "0.0235170190801781",
         "0.1330506415812917",
         "0.0558180434966592",
         "0.2808262819599109",
         "0.1409948541870824",
         "0.4426705458797327",
         "0.1830659811135857",
         "0.5859853316258351",
         "0.1780287816481069",
         "0.6993310334075724",
         "0.1974773081959911",
         "0.7972628387527839",
         "0.2806759521603563",
         "0.894935822271715",
         "0.2807135475055679",
         "0.9637578229398664",
         "0.2729659747438753",
         "1.024822165701559",
         "0.2922426883741648",
         "1.0881165590200446",
         "0.3001706508463252",
         "1.147501776614699",
         "0.3278675093095768",
         "1.2108656986636972",
         "0.3607806150334076",
         "1.2735363169265037",
         "0.3526429940979955",
         "1.3272222115812915",
         "0.347519385233853",
         "1.3786595679287306",
         "0.3785610189532294",
         "1.4337961514476614",
         "0.3729073392204899",
         "1.473407683741648",
         "0.4055743467260579",
         "1.5091514654788418",
         "0.4429575024498886",
         "1.5300695857461026",
         "0.434078085233853",
         "1.505677688195991",
         "0.3774320422271715",
         "1.4166221870824054",
         "0.4201876402227171",
         "1.3013511781737197",
         "0.3616885575723831",
         "1.1277377993318485",
         "0.2936306062360801",
         "0.9419032140311804",
         "0.2710246684632517",
         "0.7803687681514476",
         "0.2245987803340757",
         "0.6334720556792872",
         "0.7340469240244736",
         "0.9019059447109689",
         "0.2231324582310352",
         "0.3314818714484079",
         "61.33014680623609",
         "190.30172048997773",
         "133.56779015367482",
         "301.56012262806235",
         "267.61147735634745",
         "523.8237035634744",
         "519.2339017817371",
         "988.8766080178174",
         "0.3036970471733184",
         "0.8469472998220491",
         "179.33956256124722",
         "483.42175144766145",
         "0.451934946325167",
         "3.299075017817372",
         "573957.6139910914",
         "737043.526258352",
         "3.789018134075724",
         "10.698536631848553",
         "259.25991468596885",
         "419.1131395389755",
         "0.2966305007942024",
         "-0.5326398183631726",
         "0.1279792189532294",
         "0.4264895679287305",
         "0.5315576826346082",
         "0.8780462886754464",
         "4.366754733184855",
         "25.369628182628063",
         "5.4878291469933185",
         "5.3866139848552335",
         "6.354793124721604",
         "10.57699959532294",
         "6.160524091314031",
         "-0.7457984085300667",
         "6.863800561247216",
         "4.929025820668152",
         "7.38635086636971",
         "0.2311095423162583",
         "8.41915192427617",
         "-2.058505670209354",
         "9.04953658129176",
         "8.352327077282851",
         "8.381573071269488",
         "4.310986678997772",
         "8.062922086859688",
         "5.404053004654789",
         "8.029958458797328",
         "5.725710978728285",
         "7.216310859688196",
         "-4.227365083518931",
         "6.717540287305122",
         "3.4367201526280624",
         "5.605902374164811",
         "2.5326272804988865",
         "0.0004450864936169",
         "1.1822231511913808e-05",
         "7.868179562138084e-07",
         "3.0476594784300667e-08",
         "3.748471568530067e-06",
         "-7.766740274966593e-08",
         "3.949083163229399e-06",
         "-2.4623751398440986e-08",
         "5.681765306458798e-06",
         "-2.9634603967282856e-07",
         "0.0006328805953697",
         "8.89570375947706e-05",
         "0.0718632954191536",
         "2.287011403120172e-08",
         "0.048237963311804",
         "-1.8608718864142609e-06",
         "0.0061813057700109",
         "4.754253897330587e-11",
         "0.0019926658345211",
         "1.4000824877505758e-07",
         "0.0062597073452115",
         "-1.3075656867483286e-06",
         "0.016515889182628",
         "-3.0382327318485515e-06",
         "0.0395403853006681",
         "-2.3544585155901927e-06",
         "0.0509189574832962",
         "-3.882377067706013e-06",
         "0.0511798682628062",
         "-7.87548298440981e-06",
         "0.05685494311804",
         "-9.75100302895323e-06",
         "0.0771194508463251",
         "-4.149293202672611e-06",
         "0.0758476234075723",
         "-4.848971135857469e-06",
         "0.0765554251893095",
         "-5.699298131403122e-06",
         "0.0786036414476614",
         "2.8399735946547942e-06",
         "0.0798810141202672",
         "-6.214843287305125e-06",
         "0.083654039844098",
         "-7.36007396659243e-06",
         "0.0915348301113585",
         "-1.745791220489969e-06",
         "0.0946161930957683",
         "3.2454342984398256e-08",
         "0.0948595738307349",
         "2.132943144766145e-06",
         "0.0964601983964365",
         "2.134644587973294e-06",
         "0.1016728344988864",
         "-1.3176299347438737e-06",
         "0.1051020843207126",
         "-1.1231275456570343e-06",
         "0.1074292727616926",
         "-9.58118682182629e-06",
         "0.10199486155902",
         "4.890243207126974e-07",
         "0.0944712155233853",
         "-3.2110871759465473e-06",
         "0.1076376466815144",
         "1.4575116859688458e-06",
         "0.0879526482182628",
         "3.1174660378618956e-06",
         "0.0765903477951002",
         "1.0787722271714895e-06",
         "0.0672782402672605",
         "-1.5550306102449742e-06",
         "0.0535263040801781",
         "-2.1052785367483367e-06",
         "0.2150805010127918",
         "-2.0770922048834928e-10",
         "0.0521798035201998",
         "-6.888153207338148e-13",
         "13.734573323162584",
         "-0.1244993346547884",
         "29.601075200445436",
         "-0.0957884298218263",
         "63.49140338530067",
         "-0.0138441827616927",
         "126.1662917817372",
         "-0.0081528489309576",
         "0.0971074114979955",
         "2.97967928729006e-09",
         "38.72857739643652",
         "-0.0604242509908686",
         "0.1121007496436525",
         "0.0004164101190886",
         "125455.81844988864",
         "372.21631317817383",
         "0.91743111077951",
         "1.1027870824053986e-05",
         "64.83468485077951",
         "-1.1828897995543964e-05",
         "0.0934351502251962",
         "6.32572393383643e-13",
         "0.0275658381091314",
         "-4.0792921937639226e-05",
         "0.15737282237008",
         "-1.963432001857846e-12",
         "0.952709502895323",
         "0.0002325876345879",
         "1.145826525167038",
         "0.0002458110219821",
         "1.4006038289532292",
         "0.0003062325436525",
         "1.5693471567928732",
         "0.0001514306971046",
         "1.767018547884187",
         "-0.0002430723202672",
         "1.955279579064588",
         "-0.0004123650632516",
         "2.2464864788418706",
         "8.432802449888579e-05",
         "2.4000574988864143",
         "-1.3934836191536376e-05",
         "2.257673510022272",
         "0.0003864089483296",
         "2.180024267260579",
         "0.0005369898253897",
         "2.230240732739421",
         "0.0002795767501113",
         "1.9822347349665923",
         "0.0002542185714922",
         "1.9185303095768376",
         "0.0001726518990423",
         "1.6947857494432073",
         "-3.0514937639198404e-05"
        ],
        [
         "1",
         "3",
         "3.5",
         "1.75",
         "3.3",
         "1.62",
         "110.0",
         "19.0003124138322",
         "62.68258866213152",
         "0.0317275298276644",
         "0.7544295832199546",
         "0.0833260654580498",
         "0.0562406628306122",
         "0.0768775915079365",
         "0.0547841353886621",
         "0.1337594149433106",
         "0.1470275431746031",
         "21.28837471995465",
         "-2.600121879795918",
         "0.238505785600907",
         "1.159926972825397",
         "0.5840673066666666",
         "1.137828221315193",
         "0.0349732040226757",
         "0.1268094460884353",
         "0.0091573770777777",
         "0.0178925305306122",
         "0.2698393140725623",
         "0.2064716818594104",
         "0.5282320304512472",
         "0.4186783965986394",
         "0.585563597664399",
         "0.5716874770975057",
         "0.476210483106576",
         "0.6777351741496599",
         "0.3736990933333333",
         "0.7605666",
         "0.4503380562585033",
         "0.8754355092970522",
         "0.6136827246031746",
         "0.9995652818594104",
         "0.5220207263038549",
         "1.0418912507936509",
         "0.5824850087981859",
         "1.1147402222222222",
         "0.6209639948072563",
         "1.1863774344671203",
         "0.5920452548752835",
         "1.2330549934240365",
         "0.6877041799773242",
         "1.3207420893424036",
         "0.6285832069160997",
         "1.3628420839002269",
         "0.6132457850566894",
         "1.4073904308390022",
         "0.6574606212698413",
         "1.4665963242630384",
         "0.7419168088435374",
         "1.5400572040816325",
         "0.7815030736961451",
         "1.5906958231292516",
         "0.9367674567573696",
         "1.659831970521542",
         "0.9285819697278912",
         "1.6653462063492064",
         "0.8724871130385488",
         "1.620640446712018",
         "0.9107610419501134",
         "1.5592753424036283",
         "0.9833451948072562",
         "1.456448945351474",
         "0.7163239930385488",
         "1.2229125197278912",
         "0.6683412713605442",
         "1.044594104081633",
         "0.5868359914965987",
         "0.8687657904761904",
         "0.4953286231746031",
         "0.7111903630385488",
         "0.2705270366789569",
         "0.3734304154040249",
         "0.0328120921819274",
         "0.0414357459909115",
         "24.744853535147392",
         "67.64355473922902",
         "39.83106089115646",
         "114.70540226757367",
         "77.73664640816327",
         "173.75781249433106",
         "187.9100248117914",
         "295.800455170068",
         "0.40340270223356",
         "0.9594599512244898",
         "77.78733970294785",
         "173.21961578231293",
         "0.4069242055782313",
         "2.294970996898075",
         "328767.6692244898",
         "192853.8743537415",
         "9.772531897959183",
         "23.056342346938777",
         "1621.0524716780044",
         "1815.0058230158731",
         "0.5619650174082993",
         "-1.002087497353084",
         "0.0623740873174603",
         "0.1655833637188208",
         "0.3759467748212471",
         "0.3453415095989342",
         "5.250251591836735",
         "28.487800038548755",
         "4.8000726122448985",
         "10.780209477097504",
         "4.896488278911565",
         "18.78846122675737",
         "5.929378512471655",
         "8.431872778639455",
         "6.457556827664399",
         "18.611493021088435",
         "6.728108179138322",
         "10.31764336031746",
         "7.632011158730159",
         "4.854290788390022",
         "7.418607038548753",
         "6.648478038804989",
         "8.19652529478458",
         "2.9356972853038545",
         "7.1481221179138315",
         "0.9389404746938776",
         "8.318205160997733",
         "1.2682496739702946",
         "7.117343054421768",
         "0.9931174892743764",
         "6.36255058276644",
         "2.4599621217641725",
         "5.709105698412698",
         "1.902902602154195",
         "0.0002992537561405",
         "3.1855600206784576e-06",
         "6.554350102040816e-07",
         "2.7688209541995465e-08",
         "1.9723804491609977e-06",
         "4.181569852705215e-09",
         "2.034881635292517e-06",
         "3.559099620276644e-08",
         "4.207765229931972e-06",
         "-2.039241076891157e-07",
         "0.0008578837588367",
         "8.27674217799365e-05",
         "0.0519381200022675",
         "1.5113489365079255e-06",
         "0.1578405381224489",
         "-1.2437752199546482e-05",
         "0.0059483516922902",
         "4.994548299319751e-08",
         "0.001599953390907",
         "-4.478443964314708e-05",
         "0.076939923356009",
         "3.3556439002267445e-07",
         "0.1533971798208616",
         "1.55550420634921e-06",
         "0.176174328909297",
         "1.6907055555555508e-06",
         "0.135891564893424",
         "-3.4364268027210934e-06",
         "0.1056070543696145",
         "-4.3703239138321965e-06",
         "0.1221191582199546",
         "-7.108575560090709e-06",
         "0.1657758794104308",
         "-1.30083031809524e-05",
         "0.1359383123582766",
         "-1.1574645501133791e-05",
         "0.16129066169161",
         "-9.85358548752834e-06",
         "0.1707970832834467",
         "-1.1085652834467136e-05",
         "0.1585679002040816",
         "-1.2840555192743766e-05",
         "0.1884227412244898",
         "-1.6103025827664417e-05",
         "0.1611391111564626",
         "-1.8820537551020416e-05",
         "0.1615704781632653",
         "-2.0933060192743745e-05",
         "0.1736490724263038",
         "-2.0162376997732444e-05",
         "0.1916817066439909",
         "-2.104014342494329e-05",
         "0.1983317252607709",
         "-2.2533674249433113e-05",
         "0.2525742360090703",
         "-1.9282475487528355e-05",
         "0.2570069551473923",
         "-1.6339902621315192e-05",
         "0.2346835516780045",
         "-1.7223806893424036e-05",
         "0.2474544542403628",
         "-1.9886820537414943e-05",
         "0.2584449001587302",
         "-1.954887741043083e-05",
         "0.1886477241723356",
         "-1.3926053178458012e-05",
         "0.1734313892290249",
         "-1.2518416848072576e-05",
         "0.1524894626349206",
         "-8.924569938775519e-06",
         "0.1284736755736961",
         "-6.451583185941051e-06",
         "0.0723445093311791",
         "1.1617755105258136e-10",
         "0.0078827501421972",
         "3.399614512427403e-11",
         "7.014736218367347",
         "0.0010742139229024",
         "11.59727559478458",
         "0.0020182314512471",
         "21.63320974126984",
         "0.0029947775056689",
         "52.657724455782315",
         "0.0043619861451247",
         "0.1109631663151927",
         "4.34798208616811e-07",
         "20.56578514671202",
         "0.0046712626829931",
         "0.0977830598072562",
         "7.778684057142859e-05",
         "102203.53190702948",
         "3.0568184875283513",
         "1.7536619099773243",
         "0.0024074464281179",
         "294.1784300589569",
         "0.1885926964852608",
         "0.0983021434200453",
         "-2.889088435358843e-09",
         "0.0158443500630385",
         "4.677209086167797e-06",
         "0.1017611621912358",
         "3.458052154182073e-10",
         "1.1104173562358275",
         "0.0009382607494331",
         "1.018017263038549",
         "0.0009530973301814",
         "1.081592699319728",
         "0.0012778901721088",
         "1.3365546240362811",
         "0.000955661082653",
         "1.5317476319727892",
         "0.0011084925114512",
         "1.56282735170068",
         "0.0010026587077097",
         "1.7290545936507935",
         "0.0005491960451247",
         "1.7336845782312924",
         "0.0004696328746031",
         "1.8422090544217689",
         "0.0002484568142857",
         "1.6841895439909298",
         "0.0002858169408163",
         "1.7929559625850342",
         "0.0002030163959183",
         "1.7092159460317462",
         "5.744590136054415e-05",
         "1.519361401360544",
         "-5.567165147392339e-05",
         "1.3911226891156463",
         "-8.47342743764235e-06"
        ],
        [
         "2",
         "4",
         "5.7",
         "1.42",
         "5.5",
         "1.63",
         "113.75",
         "48.17578069057018",
         "92.8503163377193",
         "0.0428525146052631",
         "0.7530947081140351",
         "0.136936102877193",
         "0.0815266349561403",
         "0.1538325578092105",
         "0.0959504232785087",
         "0.1364008066447368",
         "0.1611304208552631",
         "17.96162422587719",
         "-0.5791302216447368",
         "0.6317802778201754",
         "2.3144764268377194",
         "0.424605244579364",
         "1.0959003980263158",
         "0.060598707076557",
         "0.1566991498718381",
         "0.0181124878114035",
         "0.0429358097039473",
         "0.0657310098980811",
         "0.1445684189692982",
         "0.1162264106046052",
         "0.2972113807017544",
         "0.1507262349989473",
         "0.4490570289473684",
         "0.1858781284044736",
         "0.5901427842105263",
         "0.2590859538365351",
         "0.7240248699561403",
         "0.2929960160675657",
         "0.8256104532894737",
         "0.3373159807408552",
         "0.9138109984649124",
         "0.3613584652404386",
         "0.98784328377193",
         "0.4337338121741228",
         "1.0700344903508772",
         "0.5144210089730702",
         "1.1568491291666667",
         "0.5196027158673684",
         "1.2186956782894738",
         "0.5592749556875877",
         "1.287182316008772",
         "0.6297456027019956",
         "1.3611294300438597",
         "0.6622818224676754",
         "1.4219843043859648",
         "0.7763696909867983",
         "1.5003762067982458",
         "0.7870325793111842",
         "1.5481730157894735",
         "0.7468734328557017",
         "1.5813327175438596",
         "0.6635003251921053",
         "1.580470977631579",
         "0.7685046979164474",
         "1.62267440372807",
         "0.7947342724701755",
         "1.6107182603070176",
         "0.7062162819015351",
         "1.515940515131579",
         "0.6651014036860746",
         "1.3802369703947368",
         "0.5645082226887939",
         "1.19597220372807",
         "0.504396043311272",
         "1.0102896682017544",
         "0.4216995424355044",
         "0.8329565754385966",
         "0.3154032373006579",
         "0.6661243888157895",
         "1.2864072612794692",
         "1.880207584353194",
         "0.6016164636153133",
         "0.8062811056936231",
         "96.83508462280702",
         "150.3958873245614",
         "208.6239375789474",
         "258.1462708114035",
         "423.5811341885965",
         "502.11463208333333",
         "768.0735302412281",
         "1033.169702258772",
         "0.6419084188919957",
         "1.333943594305658",
         "291.00875432017546",
         "466.4347971491228",
         "0.795392114254386",
         "3.2581377212634934",
         "1051314.6662938597",
         "851861.7058991228",
         "6.10563570497807",
         "9.354297966030702",
         "583.0708270835527",
         "433.7343354774123",
         "0.9695624895178137",
         "-1.4498887827165214",
         "0.2125055263157894",
         "0.3954097429824561",
         "1.358457568992122",
         "2.0577295626638503",
         "6.1892661184210525",
         "26.050121557017544",
         "7.296312848684211",
         "-0.0693560401096491",
         "6.487906563596491",
         "20.343588337938595",
         "7.432436091447368",
         "14.679410513151316",
         "8.003849333333333",
         "-1.0705634004385964",
         "8.973719348684211",
         "-2.1896947519736845",
         "8.816350407894737",
         "-0.0105062725219298",
         "7.991341881578948",
         "0.2081796047280701",
         "7.441440171052632",
         "2.260515075285088",
         "7.512341269736842",
         "8.94670241754386",
         "7.118523129385965",
         "1.384286908754386",
         "7.031930596491228",
         "-2.4412252468421056",
         "6.859626570175439",
         "2.3264975302960527",
         "5.565077282894737",
         "0.4762793911622807",
         "0.0009641999390394",
         "-5.7082439160085745e-05",
         "1.2248409880263158e-06",
         "1.6126983670888162e-08",
         "4.001537434057017e-06",
         "-2.0144362604758777e-07",
         "4.62002916122807e-06",
         "-8.526662851951755e-08",
         "1.486549267763158e-05",
         "-2.387858395112565e-06",
         "0.0005960637238377",
         "9.198734949355264e-06",
         "0.1386637293622807",
         "-3.456436767543855e-05",
         "0.1022556824397149",
         "2.2388295383772137e-06",
         "0.0134101383541703",
         "-1.924223980219294e-06",
         "0.0030452037100877",
         "4.0819643184210525e-05",
         "0.015171450324378",
         "-2.047738459868418e-06",
         "0.0261685047154276",
         "-4.484473677192988e-06",
         "0.0364692396262872",
         "-1.487038401315794e-06",
         "0.0428427006465811",
         "4.831669758772053e-07",
         "0.0625953071328837",
         "-2.749063285087692e-06",
         "0.0710428485936578",
         "3.3647671293859858e-06",
         "0.0822460592593179",
         "-9.772374320175694e-07",
         "0.090338927848807",
         "3.892259019736827e-06",
         "0.1089854279003004",
         "3.165270517543899e-06",
         "0.121016843965603",
         "6.988514657894708e-06",
         "0.1276035258623355",
         "1.3066953486842798e-06",
         "0.1355324570870745",
         "-4.589007372807038e-06",
         "0.1558826719893618",
         "-1.6939046551315485e-06",
         "0.1686946762681908",
         "9.566498680701694e-06",
         "0.1935646248438662",
         "1.3307414359649136e-05",
         "0.1889086046852127",
         "1.1500611168859689e-05",
         "0.1822872073534802",
         "1.0961090236842088e-05",
         "0.1648631874756557",
         "8.138097195175433e-06",
         "0.1933750427815307",
         "9.31429456578948e-06",
         "0.1988072023194824",
         "5.65035316228071e-06",
         "0.1780344095150789",
         "4.933023618421218e-07",
         "0.1664557356181359",
         "2.780793289473939e-07",
         "0.1441476015095986",
         "-3.2809223618421323e-06",
         "0.1293670801314846",
         "-4.226170144736867e-06",
         "0.1079612280793201",
         "-2.337243467105301e-06",
         "0.079331009261046",
         "-2.3243802866227886e-06",
         "0.3252907861335281",
         "-1.2207816654803474e-05",
         "0.1461476788889028",
         "-2.9975274496948593e-06",
         "22.95689531578947",
         "-0.007712918618421",
         "49.636363081140345",
         "-0.0117740151754386",
         "100.42828753508772",
         "-0.0170628351096491",
         "178.54179596491227",
         "-0.0479775058114034",
         "0.1833933997883728",
         "-1.601266760087719e-05",
         "63.02091551973684",
         "-0.0195829684890351",
         "0.1749075449342105",
         "-0.000140862661864",
         "278109.26632456144",
         "-10.78764849122825",
         "1.308263465855263",
         "-0.0005052783554824",
         "125.67257498666666",
         "-0.038506691804386",
         "0.2408948003424254",
         "4.37462636578073e-06",
         "0.0455037820241228",
         "-1.7913083778508778e-05",
         "0.3304060283152306",
         "-1.1642287223250808e-05",
         "1.2164538438596493",
         "-0.0018113665692543",
         "1.5845899769736842",
         "0.0002427559546052",
         "1.5343492807017545",
         "-0.0008668816513157",
         "1.840399057236842",
         "-0.0005163510035087",
         "2.0189126782894737",
         "0.0003455790763157",
         "2.1617549098684212",
         "0.0009936069429824",
         "2.2541710210526316",
         "-3.0087423903508837e-05",
         "2.201578565131579",
         "-0.0003706541326754",
         "2.160213706140351",
         "-4.710133668859638e-05",
         "2.1331946596491225",
         "1.6506590570175988e-05",
         "2.0835265326754384",
         "0.0004228549688596",
         "2.0224550519736844",
         "0.0002467477980263",
         "1.8527969416666663",
         "3.383194276315768e-05",
         "1.590440183991228",
         "2.433487017543828e-05"
        ],
        [
         "3",
         "5",
         "4.4",
         "2.01",
         "5.3",
         "1.85",
         "82.75",
         "61.04367650924699",
         "158.6738533614458",
         "0.0327207082439759",
         "0.7573275993072289",
         "0.1178229027891566",
         "0.1016591484096385",
         "0.1356853820090361",
         "0.1087175165481927",
         "0.1010543088253012",
         "0.1891156349879518",
         "5.978895454819277",
         "1.7511476138554218",
         "0.5435472514406626",
         "2.289708536168675",
         "0.3021475986445783",
         "1.0672744912650602",
         "0.0312564097140512",
         "0.1264546984205165",
         "0.0187010850445783",
         "0.0437808151445783",
         "0.0427093952557228",
         "0.1369418090060241",
         "0.060516448253012",
         "0.2811234503012048",
         "0.0919228926204819",
         "0.4325880885542169",
         "0.1226635602710843",
         "0.5717460331325301",
         "0.1678633123192771",
         "0.6940702484939759",
         "0.1995549870180722",
         "0.7961445759036144",
         "0.2713115105120481",
         "0.8932871843373494",
         "0.3239735435240963",
         "0.976858440060241",
         "0.4108085717771084",
         "1.0632465888554217",
         "0.425842627379518",
         "1.1248843858433737",
         "0.4593530219277108",
         "1.1893689286144578",
         "0.4527162659939759",
         "1.2444662120481929",
         "0.4765805129819278",
         "1.3075103033132531",
         "0.5184380934036145",
         "1.3722321024096384",
         "0.4825604604216867",
         "1.4133027740963855",
         "0.5067878345783132",
         "1.465940921686747",
         "0.5191641959337349",
         "1.5123614307228916",
         "0.6021486937650602",
         "1.565775081325301",
         "0.7112792343373494",
         "1.6030201837349398",
         "0.6501253033433735",
         "1.5664544457831324",
         "0.6241397422289157",
         "1.489693530120482",
         "0.5607060986746988",
         "1.3483750228915663",
         "0.6351068459036144",
         "1.209094339759036",
         "0.531660385933735",
         "1.0132382867469878",
         "0.4043340963253012",
         "0.8219351719879519",
         "0.2938040927710843",
         "0.6554770231927711",
         "1.6618351938256832",
         "3.008976775373295",
         "0.5896702066968024",
         "0.5953935847709476",
         "86.09834993072289",
         "235.3371563253012",
         "201.82778420481927",
         "365.69865",
         "398.7577584036145",
         "606.5955253012048",
         "732.3221602379518",
         "1044.1242527108434",
         "0.3211080258400602",
         "1.009926857415428",
         "271.1800479186747",
         "546.1525063253011",
         "0.712529411566265",
         "3.514585343373494",
         "1059787.9359608437",
         "948279.6769789156",
         "4.131498282650603",
         "11.074806971228917",
         "269.3208586379518",
         "502.2813055692771",
         "0.4289373423110018",
         "-0.8910826677845591",
         "0.192630678813253",
         "0.4943666036144578",
         "1.2195089472506837",
         "2.1826010028687297",
         "6.273022903313253",
         "27.99146908795181",
         "6.910037969879518",
         "6.1109750559939755",
         "7.367201350301205",
         "9.268302005120482",
         "7.426555732530121",
         "-9.185172889048191",
         "8.852997337650603",
         "-1.834242764759036",
         "8.483264930421687",
         "-2.9838260693674696",
         "9.292647678313251",
         "-1.8028960586746987",
         "10.280151608433735",
         "-9.0331859698494",
         "9.31691445180723",
         "-2.7833903490421688",
         "9.442960039156626",
         "-6.542114849909638",
         "9.97491015361446",
         "-5.804825493674699",
         "7.492004409638554",
         "-7.0801000926807225",
         "7.324429415662651",
         "-6.752510197921687",
         "6.426416353915663",
         "-5.1046489351204825",
         "0.0014295210170078",
         "1.2496703429671688e-05",
         "1.020915711506024e-06",
         "7.461858559337348e-09",
         "4.521571584337349e-06",
         "-1.4836797049436746e-07",
         "5.42852267810241e-06",
         "-6.960911474367469e-08",
         "4.673375267620482e-06",
         "-6.390282647415663e-08",
         "0.000461378690015",
         "5.1282009652861445e-05",
         "0.0971216458879518",
         "-2.1719879519138599e-10",
         "0.0645577731144578",
         "-3.464591762048217e-06",
         "0.0067405029605891",
         "-7.014759097503765e-13",
         "0.0029787359969879",
         "2.4132530166436273e-12",
         "0.0094202193939759",
         "-5.449931566265075e-07",
         "0.014863318654518",
         "-1.1006297903614435e-06",
         "0.0224167510822289",
         "-1.6106744602409597e-06",
         "0.0292151985518072",
         "-1.9098953042168684e-06",
         "0.0372170672831325",
         "-2.1835420783132483e-06",
         "0.0453912116415662",
         "-2.50688945201809e-06",
         "0.0604846186746988",
         "-2.891799331325305e-06",
         "0.0679800046385542",
         "-3.038669608433741e-06",
         "0.0862719996385542",
         "-3.14429325301204e-06",
         "0.0897839346385542",
         "-3.3572922198794894e-06",
         "0.1042622036445783",
         "-3.6825082147590112e-06",
         "0.0938995995481927",
         "-3.815366415662673e-06",
         "0.0983667038855421",
         "-3.994396503012083e-06",
         "0.1109059883433734",
         "-4.149668108433722e-06",
         "0.1069492512951807",
         "-4.415982891566284e-06",
         "0.1133442484036144",
         "-4.773676295180731e-06",
         "0.1130555840963855",
         "-4.899348042168689e-06",
         "0.1272574614759036",
         "-5.0291278313253035e-06",
         "0.1598399364759036",
         "-5.149533825301161e-06",
         "0.1400434523192771",
         "-5.367793885542153e-06",
         "0.1363665546686747",
         "-5.1365931927710515e-06",
         "0.1298884589156626",
         "-4.4645818373493906e-06",
         "0.1519501177108433",
         "-4.0862175783132116e-06",
         "0.1249490543072289",
         "-3.49798045180721e-06",
         "0.0926170907710843",
         "-2.8489883132530532e-06",
         "0.0668766629819277",
         "-2.321621987951804e-06",
         "0.3984607634071087",
         "9.751434200978735e-11",
         "0.1117136349905557",
         "-8.65287482787116e-12",
         "22.6826521686747",
         "-1.5632530108408002e-08",
         "48.53531833433735",
         "-2.6536144569529068e-08",
         "91.62952319277107",
         "-4.9939759016212186e-08",
         "166.2915249057229",
         "1.378012047281852e-07",
         "0.0905278371205722",
         "-3.6521987961691415e-11",
         "58.11256431174698",
         "-4.6033132561485424e-08",
         "0.1739306637349397",
         "3.731927718660384e-11",
         "216164.0777728916",
         "-0.0001005512046493",
         "0.8962607328614458",
         "6.048192765204697e-10",
         "59.86795312457831",
         "-3.276204821649114e-08",
         "0.0987514996262087",
         "1.4615186795174778e-11",
         "0.0408688022737951",
         "-2.2108433724974877e-12",
         "0.2686303482154052",
         "1.004247247920664e-10",
         "1.255214465963855",
         "2.8614457853884417e-10",
         "1.2402307771084338",
         "1.4837349400063572e-09",
         "1.406507076506024",
         "4.2861445717935583e-10",
         "1.555920525",
         "-4.2650602403804885e-10",
         "1.8613302689759037",
         "-7.400602408543842e-10",
         "1.9199736325301204",
         "-2.052108433785505e-09",
         "2.035590698192771",
         "4.084337349703559e-09",
         "2.1984623825301206",
         "-5.442771085161413e-10",
         "2.1648375906626507",
         "5.45783132293005e-10",
         "2.171685245481928",
         "-2.482530120333109e-09",
         "2.1257053054216866",
         "-1.2036445782716038e-09",
         "1.899872959939759",
         "-7.90361446387055e-10",
         "1.7588628030120483",
         "2.250000000189893e-09",
         "1.553451388253012",
         "-7.647590363021705e-10"
        ],
        [
         "4",
         "7",
         "5.8",
         "1.47",
         "6.4",
         "1.69",
         "59.75",
         "14.3172948",
         "83.82348400000001",
         "0.0363371648333333",
         "0.7875118925",
         "0.0983019255833333",
         "0.0597565949583333",
         "0.09644933375",
         "0.0605570325833333",
         "0.1699265234583333",
         "0.1632000534583333",
         "8.897436675",
         "12.006769645833334",
         "0.4663732719166666",
         "1.798444086375",
         "0.3483663432083333",
         "1.0566412020833331",
         "0.0576059307889166",
         "0.2681797707707083",
         "0.0109083600333333",
         "0.0147826383999999",
         "0.030354997125",
         "0.134096968",
         "0.0526731618333333",
         "0.27768404375",
         "0.0799587578333333",
         "0.4254172958333333",
         "0.1685574970416666",
         "0.5765045733333333",
         "0.2184145854583333",
         "0.7034387866666666",
         "0.2745239125416666",
         "0.8099245466666667",
         "0.28448497375",
         "0.88731325875",
         "0.2711563066666667",
         "0.95273586375",
         "0.2953429427916667",
         "1.01918055375",
         "0.3251190308333333",
         "1.0854784875",
         "0.3678811241666667",
         "1.1541961241666667",
         "0.3633290575",
         "1.2079739258333333",
         "0.44927367125",
         "1.2862241087500002",
         "0.45661275125",
         "1.34162033375",
         "0.4824878941666666",
         "1.4003947520833333",
         "0.4938216725",
         "1.4515095379166667",
         "0.57703606625",
         "1.5140827804166668",
         "0.6185414837500001",
         "1.5545246716666663",
         "0.6437632283333333",
         "1.5698569220833332",
         "0.6526897666666667",
         "1.549798080416667",
         "0.7084956837499999",
         "1.4979573279166667",
         "0.6714214982916666",
         "1.3698123308333334",
         "0.6052506814166667",
         "1.197245653333333",
         "0.5368063580833333",
         "1.0139725483333333",
         "0.4239568585",
         "0.8262388729166666",
         "0.3354059924583333",
         "0.6654888270833333",
         "1.0372052133414875",
         "1.297440777481953",
         "0.1050025886166766",
         "0.1033451921749",
         "29.111017241666666",
         "97.64829116666668",
         "50.79377179583333",
         "124.96914404166668",
         "97.52799391666667",
         "173.15327208333335",
         "266.85038925",
         "270.21298541666664",
         "0.7583833678708333",
         "1.5891909660441668",
         "109.61399233333331",
         "175.36916208333332",
         "0.4838778770833333",
         "2.1778615208333334",
         "515934.4165000001",
         "234156.41066666663",
         "15.659931454166667",
         "30.38364579583333",
         "2881.7437254583333",
         "2613.474879875",
         "1.3721802092124102",
         "-3.725232238629947",
         "0.0871853859583333",
         "0.1700580854166666",
         "2.5516744705085417",
         "2.9584291872938686",
         "6.8109903124999995",
         "26.664626129166667",
         "5.282137920833334",
         "20.600483474999997",
         "5.0647579",
         "21.066160263333337",
         "5.867871208333333",
         "17.422587604166665",
         "7.1811809250000005",
         "13.505365245833334",
         "7.746392704166667",
         "4.533994827875",
         "6.9570121875",
         "4.925539509916666",
         "7.196082812499999",
         "1.91185171875",
         "6.273869362499999",
         "7.669267213333333",
         "7.222918695833333",
         "6.696190865041667",
         "6.195534525",
         "6.2452278375",
         "5.739904666666666",
         "-0.107185656875",
         "5.010807891666667",
         "-0.9334306258333334",
         "4.936053904166667",
         "-2.0229149128333335",
         "0.0005520988275416",
         "7.703629948774999e-06",
         "1.9638994341666667e-06",
         "5.348716509416666e-08",
         "5.426407872916666e-06",
         "-1.4199976852720832e-07",
         "5.439852839583334e-06",
         "7.696517851791665e-08",
         "2.3743071810416665e-05",
         "-1.8091612417804169e-06",
         "0.0008120872057083",
         "6.625818657364583e-05",
         "0.13414766011",
         "-0.0001011827433333",
         "0.0982142438041666",
         "-2.5923653712500004e-05",
         "0.019018563106825",
         "-1.1795849941666664e-05",
         "0.0023511304058333",
         "7.978919732541667e-05",
         "0.0097024387",
         "-4.621691762500001e-06",
         "0.0167357216708333",
         "-1.0691171416666665e-05",
         "0.0227526474166666",
         "-1.5522229524999997e-05",
         "0.043019232375",
         "-2.0284220583333345e-05",
         "0.055857698625",
         "-2.501570720375e-05",
         "0.0730978633749999",
         "-3.052892029166665e-05",
         "0.0789882241666666",
         "-2.8204416875000004e-05",
         "0.0711102698749999",
         "-3.457575896666666e-05",
         "0.0865597322458333",
         "-3.4593681291666656e-05",
         "0.093647203",
         "-3.204192789583333e-05",
         "0.1023182986666666",
         "-3.759084423416667e-05",
         "0.1057656706666666",
         "-3.342117933333332e-05",
         "0.1269587998333333",
         "-4.00501351666667e-05",
         "0.1285576480416666",
         "-4.1219968966666635e-05",
         "0.1390804229999999",
         "-3.6301153125e-05",
         "0.1434119027083333",
         "-3.052014841666668e-05",
         "0.162234173875",
         "-3.715306679166666e-05",
         "0.1774168137499999",
         "-3.4084488833333344e-05",
         "0.184338898",
         "-2.968085064166667e-05",
         "0.18568317225",
         "-2.427142963749998e-05",
         "0.1979459963333333",
         "-2.1828837941666654e-05",
         "0.1897632536666666",
         "-2.3758464016666665e-05",
         "0.1699701079583333",
         "-1.483170537916666e-05",
         "0.1484647045833333",
         "-1.0749584674999982e-05",
         "0.1176077884166666",
         "-9.036335604583331e-06",
         "0.0922150552291666",
         "-8.03163363333333e-06",
         "0.2909669594312446",
         "-7.478326690195828e-05",
         "0.0338141164097618",
         "-3.40407187220834e-06",
         "10.373881975",
         "0.1193298387083333",
         "17.025521858333335",
         "0.2954834156249999",
         "32.444152233333334",
         "0.5534033937083334",
         "91.82057343333332",
         "0.7295570151249999",
         "0.2238902941773333",
         "-0.0001116584362916",
         "37.10048085416667",
         "0.338048729025",
         "0.1505312061666666",
         "0.00136528261975",
         "172475.222125",
         "1736.7108581541663",
         "4.207586245",
         "-0.0014035646541666",
         "754.2923305416666",
         "-0.0747639781041666",
         "0.4490683492908454",
         "0.0001111611833956",
         "0.0294562479583333",
         "0.0002192032165833",
         "0.5766569879656046",
         "-0.0001471917068037",
         "1.7425017041666666",
         "-0.0024710936866666",
         "1.5634289525",
         "-0.0010752503683333",
         "1.4370048091666667",
         "-0.0012784632229166",
         "1.7471022920833332",
         "-0.00157133985",
         "2.0114518579166667",
         "-0.0009036996491666",
         "2.137944275",
         "-0.0008545501",
         "2.0043142125",
         "-0.0002245618941666",
         "2.000882397083333",
         "0.0008594563137499",
         "1.8468697",
         "0.0001115653116666",
         "1.89912607375",
         "-0.0007397941374999",
         "1.6529306741666665",
         "-0.00051461666125",
         "1.61611528625",
         "-0.00030127529125",
         "1.4552745179166666",
         "0.0005290876195833",
         "1.382200532916667",
         "0.0002044569641666"
        ]
       ],
       "shape": {
        "columns": 266,
        "rows": 5
       }
      },
      "text/html": [
       "<div>\n",
       "<style scoped>\n",
       "    .dataframe tbody tr th:only-of-type {\n",
       "        vertical-align: middle;\n",
       "    }\n",
       "\n",
       "    .dataframe tbody tr th {\n",
       "        vertical-align: top;\n",
       "    }\n",
       "\n",
       "    .dataframe thead th {\n",
       "        text-align: right;\n",
       "    }\n",
       "</style>\n",
       "<table border=\"1\" class=\"dataframe\">\n",
       "  <thead>\n",
       "    <tr style=\"text-align: right;\">\n",
       "      <th></th>\n",
       "      <th>song_id</th>\n",
       "      <th>valence_mean</th>\n",
       "      <th>valence_std</th>\n",
       "      <th>arousal_mean</th>\n",
       "      <th>arousal_std</th>\n",
       "      <th>frameTime</th>\n",
       "      <th>F0final_sma_stddev</th>\n",
       "      <th>F0final_sma_amean</th>\n",
       "      <th>voicingFinalUnclipped_sma_stddev</th>\n",
       "      <th>voicingFinalUnclipped_sma_amean</th>\n",
       "      <th>...</th>\n",
       "      <th>pcm_fftMag_mfcc_sma_de[10]_stddev</th>\n",
       "      <th>pcm_fftMag_mfcc_sma_de[10]_amean</th>\n",
       "      <th>pcm_fftMag_mfcc_sma_de[11]_stddev</th>\n",
       "      <th>pcm_fftMag_mfcc_sma_de[11]_amean</th>\n",
       "      <th>pcm_fftMag_mfcc_sma_de[12]_stddev</th>\n",
       "      <th>pcm_fftMag_mfcc_sma_de[12]_amean</th>\n",
       "      <th>pcm_fftMag_mfcc_sma_de[13]_stddev</th>\n",
       "      <th>pcm_fftMag_mfcc_sma_de[13]_amean</th>\n",
       "      <th>pcm_fftMag_mfcc_sma_de[14]_stddev</th>\n",
       "      <th>pcm_fftMag_mfcc_sma_de[14]_amean</th>\n",
       "    </tr>\n",
       "  </thead>\n",
       "  <tbody>\n",
       "    <tr>\n",
       "      <th>0</th>\n",
       "      <td>2</td>\n",
       "      <td>3.1</td>\n",
       "      <td>0.94</td>\n",
       "      <td>3.0</td>\n",
       "      <td>0.63</td>\n",
       "      <td>112.00</td>\n",
       "      <td>19.860414</td>\n",
       "      <td>93.884056</td>\n",
       "      <td>0.027706</td>\n",
       "      <td>0.742852</td>\n",
       "      <td>...</td>\n",
       "      <td>2.180024</td>\n",
       "      <td>5.369898e-04</td>\n",
       "      <td>2.230241</td>\n",
       "      <td>2.795768e-04</td>\n",
       "      <td>1.982235</td>\n",
       "      <td>2.542186e-04</td>\n",
       "      <td>1.918530</td>\n",
       "      <td>1.726519e-04</td>\n",
       "      <td>1.694786</td>\n",
       "      <td>-3.051494e-05</td>\n",
       "    </tr>\n",
       "    <tr>\n",
       "      <th>1</th>\n",
       "      <td>3</td>\n",
       "      <td>3.5</td>\n",
       "      <td>1.75</td>\n",
       "      <td>3.3</td>\n",
       "      <td>1.62</td>\n",
       "      <td>110.00</td>\n",
       "      <td>19.000312</td>\n",
       "      <td>62.682589</td>\n",
       "      <td>0.031728</td>\n",
       "      <td>0.754430</td>\n",
       "      <td>...</td>\n",
       "      <td>1.684190</td>\n",
       "      <td>2.858169e-04</td>\n",
       "      <td>1.792956</td>\n",
       "      <td>2.030164e-04</td>\n",
       "      <td>1.709216</td>\n",
       "      <td>5.744590e-05</td>\n",
       "      <td>1.519361</td>\n",
       "      <td>-5.567165e-05</td>\n",
       "      <td>1.391123</td>\n",
       "      <td>-8.473427e-06</td>\n",
       "    </tr>\n",
       "    <tr>\n",
       "      <th>2</th>\n",
       "      <td>4</td>\n",
       "      <td>5.7</td>\n",
       "      <td>1.42</td>\n",
       "      <td>5.5</td>\n",
       "      <td>1.63</td>\n",
       "      <td>113.75</td>\n",
       "      <td>48.175781</td>\n",
       "      <td>92.850316</td>\n",
       "      <td>0.042853</td>\n",
       "      <td>0.753095</td>\n",
       "      <td>...</td>\n",
       "      <td>2.133195</td>\n",
       "      <td>1.650659e-05</td>\n",
       "      <td>2.083527</td>\n",
       "      <td>4.228550e-04</td>\n",
       "      <td>2.022455</td>\n",
       "      <td>2.467478e-04</td>\n",
       "      <td>1.852797</td>\n",
       "      <td>3.383194e-05</td>\n",
       "      <td>1.590440</td>\n",
       "      <td>2.433487e-05</td>\n",
       "    </tr>\n",
       "    <tr>\n",
       "      <th>3</th>\n",
       "      <td>5</td>\n",
       "      <td>4.4</td>\n",
       "      <td>2.01</td>\n",
       "      <td>5.3</td>\n",
       "      <td>1.85</td>\n",
       "      <td>82.75</td>\n",
       "      <td>61.043677</td>\n",
       "      <td>158.673853</td>\n",
       "      <td>0.032721</td>\n",
       "      <td>0.757328</td>\n",
       "      <td>...</td>\n",
       "      <td>2.171685</td>\n",
       "      <td>-2.482530e-09</td>\n",
       "      <td>2.125705</td>\n",
       "      <td>-1.203645e-09</td>\n",
       "      <td>1.899873</td>\n",
       "      <td>-7.903614e-10</td>\n",
       "      <td>1.758863</td>\n",
       "      <td>2.250000e-09</td>\n",
       "      <td>1.553451</td>\n",
       "      <td>-7.647590e-10</td>\n",
       "    </tr>\n",
       "    <tr>\n",
       "      <th>4</th>\n",
       "      <td>7</td>\n",
       "      <td>5.8</td>\n",
       "      <td>1.47</td>\n",
       "      <td>6.4</td>\n",
       "      <td>1.69</td>\n",
       "      <td>59.75</td>\n",
       "      <td>14.317295</td>\n",
       "      <td>83.823484</td>\n",
       "      <td>0.036337</td>\n",
       "      <td>0.787512</td>\n",
       "      <td>...</td>\n",
       "      <td>1.899126</td>\n",
       "      <td>-7.397941e-04</td>\n",
       "      <td>1.652931</td>\n",
       "      <td>-5.146167e-04</td>\n",
       "      <td>1.616115</td>\n",
       "      <td>-3.012753e-04</td>\n",
       "      <td>1.455275</td>\n",
       "      <td>5.290876e-04</td>\n",
       "      <td>1.382201</td>\n",
       "      <td>2.044570e-04</td>\n",
       "    </tr>\n",
       "  </tbody>\n",
       "</table>\n",
       "<p>5 rows × 266 columns</p>\n",
       "</div>"
      ],
      "text/plain": [
       "   song_id   valence_mean   valence_std   arousal_mean   arousal_std  \\\n",
       "0        2            3.1          0.94            3.0          0.63   \n",
       "1        3            3.5          1.75            3.3          1.62   \n",
       "2        4            5.7          1.42            5.5          1.63   \n",
       "3        5            4.4          2.01            5.3          1.85   \n",
       "4        7            5.8          1.47            6.4          1.69   \n",
       "\n",
       "   frameTime  F0final_sma_stddev  F0final_sma_amean  \\\n",
       "0     112.00           19.860414          93.884056   \n",
       "1     110.00           19.000312          62.682589   \n",
       "2     113.75           48.175781          92.850316   \n",
       "3      82.75           61.043677         158.673853   \n",
       "4      59.75           14.317295          83.823484   \n",
       "\n",
       "   voicingFinalUnclipped_sma_stddev  voicingFinalUnclipped_sma_amean  ...  \\\n",
       "0                          0.027706                         0.742852  ...   \n",
       "1                          0.031728                         0.754430  ...   \n",
       "2                          0.042853                         0.753095  ...   \n",
       "3                          0.032721                         0.757328  ...   \n",
       "4                          0.036337                         0.787512  ...   \n",
       "\n",
       "   pcm_fftMag_mfcc_sma_de[10]_stddev  pcm_fftMag_mfcc_sma_de[10]_amean  \\\n",
       "0                           2.180024                      5.369898e-04   \n",
       "1                           1.684190                      2.858169e-04   \n",
       "2                           2.133195                      1.650659e-05   \n",
       "3                           2.171685                     -2.482530e-09   \n",
       "4                           1.899126                     -7.397941e-04   \n",
       "\n",
       "   pcm_fftMag_mfcc_sma_de[11]_stddev  pcm_fftMag_mfcc_sma_de[11]_amean  \\\n",
       "0                           2.230241                      2.795768e-04   \n",
       "1                           1.792956                      2.030164e-04   \n",
       "2                           2.083527                      4.228550e-04   \n",
       "3                           2.125705                     -1.203645e-09   \n",
       "4                           1.652931                     -5.146167e-04   \n",
       "\n",
       "   pcm_fftMag_mfcc_sma_de[12]_stddev  pcm_fftMag_mfcc_sma_de[12]_amean  \\\n",
       "0                           1.982235                      2.542186e-04   \n",
       "1                           1.709216                      5.744590e-05   \n",
       "2                           2.022455                      2.467478e-04   \n",
       "3                           1.899873                     -7.903614e-10   \n",
       "4                           1.616115                     -3.012753e-04   \n",
       "\n",
       "   pcm_fftMag_mfcc_sma_de[13]_stddev  pcm_fftMag_mfcc_sma_de[13]_amean  \\\n",
       "0                           1.918530                      1.726519e-04   \n",
       "1                           1.519361                     -5.567165e-05   \n",
       "2                           1.852797                      3.383194e-05   \n",
       "3                           1.758863                      2.250000e-09   \n",
       "4                           1.455275                      5.290876e-04   \n",
       "\n",
       "   pcm_fftMag_mfcc_sma_de[14]_stddev  pcm_fftMag_mfcc_sma_de[14]_amean  \n",
       "0                           1.694786                     -3.051494e-05  \n",
       "1                           1.391123                     -8.473427e-06  \n",
       "2                           1.590440                      2.433487e-05  \n",
       "3                           1.553451                     -7.647590e-10  \n",
       "4                           1.382201                      2.044570e-04  \n",
       "\n",
       "[5 rows x 266 columns]"
      ]
     },
     "execution_count": 2,
     "metadata": {},
     "output_type": "execute_result"
    }
   ],
   "source": [
    "df.head()"
   ]
  },
  {
   "cell_type": "code",
   "execution_count": 3,
   "id": "682a4124",
   "metadata": {},
   "outputs": [
    {
     "name": "stdout",
     "output_type": "stream",
     "text": [
      "Cluster Centroids:\n",
      "        song_id   valence_mean   valence_std   arousal_mean   arousal_std  \\\n",
      "0  1224.480000       5.435233      1.508867       5.493433      1.491567   \n",
      "1  1241.428571       5.688571      1.514286       5.591429      1.498857   \n",
      "2  1012.234153       4.368939      1.519366       4.153169      1.441824   \n",
      "3  1084.147287       5.723256      1.545814       5.798450      1.456822   \n",
      "4  1127.201770       5.118779      1.464991       5.084513      1.475097   \n",
      "\n",
      "   frameTime  F0final_sma_stddev  F0final_sma_amean  \\\n",
      "0  57.973333           63.401435         107.935819   \n",
      "1  49.550000           76.129608         105.703153   \n",
      "2  65.389715           53.699659         148.281349   \n",
      "3  70.426357           66.513911          99.854049   \n",
      "4  62.296722           61.057160         118.855703   \n",
      "\n",
      "   voicingFinalUnclipped_sma_stddev  voicingFinalUnclipped_sma_amean  ...  \\\n",
      "0                          0.060173                         0.739389  ...   \n",
      "1                          0.079426                         0.710887  ...   \n",
      "2                          0.037690                         0.778418  ...   \n",
      "3                          0.075097                         0.726307  ...   \n",
      "4                          0.047291                         0.752159  ...   \n",
      "\n",
      "   pcm_fftMag_mfcc_sma_de[10]_stddev  pcm_fftMag_mfcc_sma_de[10]_amean  \\\n",
      "0                           2.330974                         -0.000080   \n",
      "1                           2.582248                          0.000661   \n",
      "2                           2.087838                          0.000023   \n",
      "3                           2.436866                          0.000251   \n",
      "4                           2.239787                          0.000086   \n",
      "\n",
      "   pcm_fftMag_mfcc_sma_de[11]_stddev  pcm_fftMag_mfcc_sma_de[11]_amean  \\\n",
      "0                           2.259605                          0.000113   \n",
      "1                           2.540651                          0.000287   \n",
      "2                           2.026222                         -0.000048   \n",
      "3                           2.371740                          0.000154   \n",
      "4                           2.166150                         -0.000050   \n",
      "\n",
      "   pcm_fftMag_mfcc_sma_de[12]_stddev  pcm_fftMag_mfcc_sma_de[12]_amean  \\\n",
      "0                           2.132318                          0.000087   \n",
      "1                           2.349380                         -0.000443   \n",
      "2                           1.919530                          0.000033   \n",
      "3                           2.224465                          0.000307   \n",
      "4                           2.057203                         -0.000052   \n",
      "\n",
      "   pcm_fftMag_mfcc_sma_de[13]_stddev  pcm_fftMag_mfcc_sma_de[13]_amean  \\\n",
      "0                           1.971011                          0.000095   \n",
      "1                           2.191381                         -0.000375   \n",
      "2                           1.792192                         -0.000041   \n",
      "3                           2.073285                         -0.000094   \n",
      "4                           1.909360                         -0.000085   \n",
      "\n",
      "   pcm_fftMag_mfcc_sma_de[14]_stddev  pcm_fftMag_mfcc_sma_de[14]_amean  \n",
      "0                           1.773060                         -0.000027  \n",
      "1                           1.948366                         -0.000051  \n",
      "2                           1.614249                         -0.000053  \n",
      "3                           1.850992                          0.000042  \n",
      "4                           1.724650                         -0.000020  \n",
      "\n",
      "[5 rows x 266 columns]\n"
     ]
    }
   ],
   "source": [
    "from sklearn.cluster import KMeans\n",
    "\n",
    "# Apply K-Means clustering\n",
    "kmeans = KMeans(n_clusters=5, random_state=42, n_init='auto')\n",
    "df['cluster'] = kmeans.fit_predict(df)\n",
    "\n",
    "# Get cluster centroids\n",
    "centroids = pd.DataFrame(kmeans.cluster_centers_, columns=df.drop('cluster', axis=1).columns)\n",
    "print(\"Cluster Centroids:\\n\", centroids)\n",
    "\n",
    "# Identify top features based on centroid values (e.g., highest values)\n",
    "# This requires domain knowledge to interpret what \"top\" means for your data"
   ]
  },
  {
   "cell_type": "code",
   "execution_count": 4,
   "id": "363d3cab",
   "metadata": {},
   "outputs": [
    {
     "name": "stdout",
     "output_type": "stream",
     "text": [
      "Hierarchical Clustering Assignments:\n",
      " hierarchical_cluster\n",
      "2    928\n",
      "1    652\n",
      "3    157\n",
      "0     65\n",
      "Name: count, dtype: int64\n",
      "\n",
      "Cluster 0 Features:\n",
      " frameTime                             58.676923\n",
      "F0final_sma_stddev                    72.523639\n",
      "F0final_sma_amean                    104.809940\n",
      "voicingFinalUnclipped_sma_stddev       0.081704\n",
      "voicingFinalUnclipped_sma_amean        0.719207\n",
      "                                        ...    \n",
      "pcm_fftMag_mfcc_sma_de[12]_amean      -0.000186\n",
      "pcm_fftMag_mfcc_sma_de[13]_stddev      2.183076\n",
      "pcm_fftMag_mfcc_sma_de[13]_amean      -0.000253\n",
      "pcm_fftMag_mfcc_sma_de[14]_stddev      1.928071\n",
      "pcm_fftMag_mfcc_sma_de[14]_amean       0.000092\n",
      "Length: 261, dtype: float64\n",
      "\n",
      "Cluster 1 Features:\n",
      " frameTime                             60.587650\n",
      "F0final_sma_stddev                    61.875307\n",
      "F0final_sma_amean                    113.964522\n",
      "voicingFinalUnclipped_sma_stddev       0.052798\n",
      "voicingFinalUnclipped_sma_amean        0.748111\n",
      "                                        ...    \n",
      "pcm_fftMag_mfcc_sma_de[12]_amean      -0.000069\n",
      "pcm_fftMag_mfcc_sma_de[13]_stddev      1.933703\n",
      "pcm_fftMag_mfcc_sma_de[13]_amean      -0.000081\n",
      "pcm_fftMag_mfcc_sma_de[14]_stddev      1.746358\n",
      "pcm_fftMag_mfcc_sma_de[14]_amean       0.000011\n",
      "Length: 261, dtype: float64\n",
      "\n",
      "Cluster 2 Features:\n",
      " frameTime                             64.894935\n",
      "F0final_sma_stddev                    55.176052\n",
      "F0final_sma_amean                    144.348292\n",
      "voicingFinalUnclipped_sma_stddev       0.038634\n",
      "voicingFinalUnclipped_sma_amean        0.773507\n",
      "                                        ...    \n",
      "pcm_fftMag_mfcc_sma_de[12]_amean       0.000070\n",
      "pcm_fftMag_mfcc_sma_de[13]_stddev      1.805755\n",
      "pcm_fftMag_mfcc_sma_de[13]_amean      -0.000013\n",
      "pcm_fftMag_mfcc_sma_de[14]_stddev      1.626380\n",
      "pcm_fftMag_mfcc_sma_de[14]_amean      -0.000049\n",
      "Length: 261, dtype: float64\n",
      "\n",
      "Cluster 3 Features:\n",
      " frameTime                            66.340764\n",
      "F0final_sma_stddev                   63.772486\n",
      "F0final_sma_amean                    99.769135\n",
      "voicingFinalUnclipped_sma_stddev      0.068701\n",
      "voicingFinalUnclipped_sma_amean       0.730874\n",
      "                                       ...    \n",
      "pcm_fftMag_mfcc_sma_de[12]_amean      0.000242\n",
      "pcm_fftMag_mfcc_sma_de[13]_stddev     2.045815\n",
      "pcm_fftMag_mfcc_sma_de[13]_amean      0.000033\n",
      "pcm_fftMag_mfcc_sma_de[14]_stddev     1.833753\n",
      "pcm_fftMag_mfcc_sma_de[14]_amean     -0.000154\n",
      "Length: 261, dtype: float64\n"
     ]
    }
   ],
   "source": [
    "from sklearn.cluster import AgglomerativeClustering\n",
    "\n",
    "# Perform hierarchical clustering\n",
    "hierarchical_clustering = AgglomerativeClustering(n_clusters=4, linkage='ward')\n",
    "df['hierarchical_cluster'] = hierarchical_clustering.fit_predict(selected_features)\n",
    "\n",
    "# Display the cluster assignments\n",
    "print(\"Hierarchical Clustering Assignments:\\n\", df['hierarchical_cluster'].value_counts())\n",
    "\n",
    "# Show features in each hierarchical cluster\n",
    "for cluster_id in range(4):\n",
    "    cluster_data = df[df['hierarchical_cluster'] == cluster_id]\n",
    "    print(f\"\\nCluster {cluster_id} Features:\\n\", cluster_data[feature_cols].mean())"
   ]
  },
  {
   "cell_type": "code",
   "execution_count": 5,
   "id": "ba43eb07",
   "metadata": {},
   "outputs": [
    {
     "name": "stdout",
     "output_type": "stream",
     "text": [
      "Selected features: [[ 2.00000000e+00  3.10000000e+00  3.00000000e+00 ...  3.72216313e+02\n",
      "   9.17431111e-01  6.48346849e+01]\n",
      " [ 3.00000000e+00  3.50000000e+00  3.30000000e+00 ...  3.05681849e+00\n",
      "   1.75366191e+00  2.94178430e+02]\n",
      " [ 4.00000000e+00  5.70000000e+00  5.50000000e+00 ... -1.07876485e+01\n",
      "   1.30826347e+00  1.25672575e+02]\n",
      " ...\n",
      " [ 2.05600000e+03  5.00000000e+00  4.60000000e+00 ... -3.66535079e+02\n",
      "   1.46453157e+00  1.24792207e+02]\n",
      " [ 2.05700000e+03  3.17000000e+00  6.83000000e+00 ... -3.89367638e+02\n",
      "   5.38959342e-01  1.72610595e+01]\n",
      " [ 2.05800000e+03  3.80000000e+00  5.80000000e+00 ... -2.91841517e+02\n",
      "   7.13035567e-01  6.31668917e+01]]\n"
     ]
    },
    {
     "data": {
      "image/png": "[encoded data removed]",
      "text/plain": [
       "<Figure size 1000x700 with 1 Axes>"
      ]
     },
     "metadata": {},
     "output_type": "display_data"
    }
   ],
   "source": [
    "# Display dendrogram\n",
    "import matplotlib.pyplot as plt\n",
    "from scipy.cluster.hierarchy import dendrogram, linkage\n",
    "print(f\"Selected features: {selected_features}\")\n",
    "linked = linkage(selected_features, method='ward')\n",
    "plt.figure(figsize=(10, 7))\n",
    "dendrogram(linked, orientation='top', labels=df['song_id'].values, distance_sort='descending', show_leaf_counts=True)\n",
    "plt.title('Hierarchical Clustering Dendrogram')\n",
    "plt.xlabel('Song ID')\n",
    "plt.ylabel('Distance')\n",
    "plt.show()"
   ]
  },
  {
   "cell_type": "markdown",
   "id": "2904f8e4",
   "metadata": {},
   "source": [
    "# Clustering using Important Features (from SHAP)"
   ]
  },
  {
   "cell_type": "markdown",
   "id": "0e3fc9cf",
   "metadata": {},
   "source": []
  },
  {
   "cell_type": "code",
   "execution_count": 6,
   "id": "141945f0",
   "metadata": {},
   "outputs": [],
   "source": [
    "top_features = ['audspec_lengthL1norm_sma_de_stddev', 'pcm_fftMag_mfcc_sma[1]_amean', 'audspec_lengthL1norm_sma_amean', 'pcm_fftMag_spectralEntropy_sma_de_stddev', 'pcm_fftMag_spectralFlux_sma_amean', 'pcm_fftMag_spectralFlux_sma_de_stddev', 'frameTime', 'pcm_fftMag_spectralVariance_sma_amean', 'F0final_sma_de_stddev', 'pcm_fftMag_psySharpness_sma_de_stddev']\n",
    "\n",
    "# Reload datafarme\n",
    "df = pd.read_csv(features_file)\n",
    "X = df[top_features]"
   ]
  },
  {
   "cell_type": "code",
   "execution_count": 7,
   "id": "05b71fb6",
   "metadata": {},
   "outputs": [],
   "source": [
    "from sklearn.preprocessing import StandardScaler\n",
    "\n",
    "scaler = StandardScaler()\n",
    "X_scaled = scaler.fit_transform(X)"
   ]
  },
  {
   "cell_type": "code",
   "execution_count": 8,
   "id": "fdc12433",
   "metadata": {},
   "outputs": [],
   "source": [
    "from sklearn.cluster import KMeans\n",
    "\n",
    "kmeans = KMeans(n_clusters=4, random_state=42)  # try different k\n",
    "labels = kmeans.fit_predict(X_scaled)\n",
    "\n",
    "df[\"cluster\"] = labels"
   ]
  },
  {
   "cell_type": "code",
   "execution_count": 9,
   "id": "26b91ff5",
   "metadata": {},
   "outputs": [
    {
     "name": "stdout",
     "output_type": "stream",
     "text": [
      "Silhouette Score: 0.2097476070559234\n"
     ]
    }
   ],
   "source": [
    "from sklearn.metrics import silhouette_score\n",
    "\n",
    "score = silhouette_score(X_scaled, labels)\n",
    "print(\"Silhouette Score:\", score)"
   ]
  },
  {
   "cell_type": "code",
   "execution_count": 10,
   "id": "be0465bf",
   "metadata": {},
   "outputs": [
    {
     "data": {
      "image/png": "[encoded data removed]",
      "text/plain": [
       "<Figure size 800x600 with 1 Axes>"
      ]
     },
     "metadata": {},
     "output_type": "display_data"
    }
   ],
   "source": [
    "from sklearn.decomposition import PCA\n",
    "import matplotlib.pyplot as plt\n",
    "\n",
    "pca = PCA(n_components=2)\n",
    "X_pca = pca.fit_transform(X_scaled)\n",
    "\n",
    "plt.figure(figsize=(8,6))\n",
    "plt.scatter(X_pca[:,0], X_pca[:,1], c=labels, cmap=\"tab10\", alpha=0.7)\n",
    "plt.title(\"Clustering on Top Features\")\n",
    "plt.xlabel(\"PC1\")\n",
    "plt.ylabel(\"PC2\")\n",
    "plt.show()\n"
   ]
  },
  {
   "cell_type": "code",
   "execution_count": 11,
   "id": "76309550",
   "metadata": {},
   "outputs": [
    {
     "name": "stdout",
     "output_type": "stream",
     "text": [
      "         valence_mean  arousal_mean\n",
      "cluster                            \n",
      "0            5.834959      5.565950\n",
      "1            4.433112      4.058340\n",
      "2            4.430163      4.791362\n",
      "3            5.519574      5.607043\n"
     ]
    }
   ],
   "source": [
    "cluster_means = df.groupby(\"cluster\")[[\" valence_mean\", \" arousal_mean\"]].mean()\n",
    "print(cluster_means)"
   ]
  }
 ],
 "metadata": {
  "kernelspec": {
   "display_name": "Python 3",
   "language": "python",
   "name": "python3"
  },
  "language_info": {
   "codemirror_mode": {
    "name": "ipython",
    "version": 3
   },
   "file_extension": ".py",
   "mimetype": "text/x-python",
   "name": "python",
   "nbconvert_exporter": "python",
   "pygments_lexer": "ipython3",
   "version": "3.12.8"
  }
 },
 "nbformat": 4,
 "nbformat_minor": 5
}
