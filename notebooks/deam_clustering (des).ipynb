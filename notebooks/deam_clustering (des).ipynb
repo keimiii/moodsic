{
 "cells": [
  {
   "cell_type": "markdown",
   "id": "90f63bc7",
   "metadata": {},
   "source": [
    "# Import Libs"
   ]
  },
  {
   "cell_type": "code",
   "execution_count": 1,
   "id": "17e2a6bd",
   "metadata": {},
   "outputs": [],
   "source": [
    "import polars as pl"
   ]
  },
  {
   "cell_type": "code",
   "execution_count": 14,
   "id": "d866bf2d",
   "metadata": {},
   "outputs": [
    {
     "data": {
      "text/plain": [
       "((1744, 5), (58, 13))"
      ]
     },
     "execution_count": 14,
     "metadata": {},
     "output_type": "execute_result"
    }
   ],
   "source": [
    "anno_1 = pl.read_csv(\n",
    "    \"../data/DEAM/static_annotations_averaged_songs_1_2000.csv\"\n",
    ").rename({col: col.strip() for col in anno_1.columns})\n",
    "anno_2 = pl.read_csv(\n",
    "    \"../data/DEAM/static_annotations_averaged_songs_2000_2058.csv\"\n",
    ").rename({col: col.strip() for col in anno_2.columns})\n",
    "\n",
    "anno_1.shape, anno_2.shape"
   ]
  },
  {
   "cell_type": "code",
   "execution_count": 17,
   "id": "c45155b1",
   "metadata": {},
   "outputs": [
    {
     "data": {
      "text/html": [
       "<div><style>\n",
       ".dataframe > thead > tr,\n",
       ".dataframe > tbody > tr {\n",
       "  text-align: right;\n",
       "  white-space: pre-wrap;\n",
       "}\n",
       "</style>\n",
       "<small>shape: (1_744, 5)</small><table border=\"1\" class=\"dataframe\"><thead><tr><th>song_id</th><th>valence_mean</th><th>valence_std</th><th>arousal_mean</th><th>arousal_std</th></tr><tr><td>i64</td><td>f64</td><td>f64</td><td>f64</td><td>f64</td></tr></thead><tbody><tr><td>2</td><td>3.1</td><td>0.94</td><td>3.0</td><td>0.63</td></tr><tr><td>3</td><td>3.5</td><td>1.75</td><td>3.3</td><td>1.62</td></tr><tr><td>4</td><td>5.7</td><td>1.42</td><td>5.5</td><td>1.63</td></tr><tr><td>5</td><td>4.4</td><td>2.01</td><td>5.3</td><td>1.85</td></tr><tr><td>7</td><td>5.8</td><td>1.47</td><td>6.4</td><td>1.69</td></tr><tr><td>&hellip;</td><td>&hellip;</td><td>&hellip;</td><td>&hellip;</td><td>&hellip;</td></tr><tr><td>1996</td><td>3.9</td><td>1.87</td><td>5.9</td><td>2.21</td></tr><tr><td>1997</td><td>5.3</td><td>1.42</td><td>3.9</td><td>1.14</td></tr><tr><td>1998</td><td>6.4</td><td>1.5</td><td>6.2</td><td>1.6</td></tr><tr><td>1999</td><td>4.6</td><td>2.11</td><td>5.4</td><td>1.8</td></tr><tr><td>2000</td><td>5.8</td><td>1.78</td><td>6.0</td><td>1.67</td></tr></tbody></table></div>"
      ],
      "text/plain": [
       "shape: (1_744, 5)\n",
       "┌─────────┬──────────────┬─────────────┬──────────────┬─────────────┐\n",
       "│ song_id ┆ valence_mean ┆ valence_std ┆ arousal_mean ┆ arousal_std │\n",
       "│ ---     ┆ ---          ┆ ---         ┆ ---          ┆ ---         │\n",
       "│ i64     ┆ f64          ┆ f64         ┆ f64          ┆ f64         │\n",
       "╞═════════╪══════════════╪═════════════╪══════════════╪═════════════╡\n",
       "│ 2       ┆ 3.1          ┆ 0.94        ┆ 3.0          ┆ 0.63        │\n",
       "│ 3       ┆ 3.5          ┆ 1.75        ┆ 3.3          ┆ 1.62        │\n",
       "│ 4       ┆ 5.7          ┆ 1.42        ┆ 5.5          ┆ 1.63        │\n",
       "│ 5       ┆ 4.4          ┆ 2.01        ┆ 5.3          ┆ 1.85        │\n",
       "│ 7       ┆ 5.8          ┆ 1.47        ┆ 6.4          ┆ 1.69        │\n",
       "│ …       ┆ …            ┆ …           ┆ …            ┆ …           │\n",
       "│ 1996    ┆ 3.9          ┆ 1.87        ┆ 5.9          ┆ 2.21        │\n",
       "│ 1997    ┆ 5.3          ┆ 1.42        ┆ 3.9          ┆ 1.14        │\n",
       "│ 1998    ┆ 6.4          ┆ 1.5         ┆ 6.2          ┆ 1.6         │\n",
       "│ 1999    ┆ 4.6          ┆ 2.11        ┆ 5.4          ┆ 1.8         │\n",
       "│ 2000    ┆ 5.8          ┆ 1.78        ┆ 6.0          ┆ 1.67        │\n",
       "└─────────┴──────────────┴─────────────┴──────────────┴─────────────┘"
      ]
     },
     "metadata": {},
     "output_type": "display_data"
    },
    {
     "data": {
      "text/html": [
       "<div><style>\n",
       ".dataframe > thead > tr,\n",
       ".dataframe > tbody > tr {\n",
       "  text-align: right;\n",
       "  white-space: pre-wrap;\n",
       "}\n",
       "</style>\n",
       "<small>shape: (58, 13)</small><table border=\"1\" class=\"dataframe\"><thead><tr><th>song_id</th><th>valence_mean</th><th>valence_std</th><th>valence_ max_mean</th><th>valence_max_std</th><th>valence_min_mean</th><th>valence_min_std</th><th>arousal_mean</th><th>arousal_std</th><th>arousal_max_mean</th><th>arousal_max_std</th><th>arousal_min_mean</th><th>arousal_min_std</th></tr><tr><td>i64</td><td>f64</td><td>f64</td><td>f64</td><td>f64</td><td>f64</td><td>f64</td><td>f64</td><td>f64</td><td>f64</td><td>f64</td><td>f64</td><td>f64</td></tr></thead><tbody><tr><td>2001</td><td>3.2</td><td>0.98</td><td>5.0</td><td>1.41</td><td>2.2</td><td>0.98</td><td>6.6</td><td>0.8</td><td>8.6</td><td>0.49</td><td>3.4</td><td>1.02</td></tr><tr><td>2002</td><td>6.4</td><td>0.49</td><td>8.2</td><td>0.98</td><td>5.0</td><td>1.1</td><td>5.2</td><td>1.17</td><td>7.4</td><td>1.36</td><td>2.2</td><td>1.17</td></tr><tr><td>2003</td><td>5.4</td><td>1.5</td><td>7.2</td><td>1.17</td><td>3.4</td><td>1.02</td><td>4.6</td><td>1.85</td><td>6.2</td><td>2.04</td><td>1.4</td><td>0.49</td></tr><tr><td>2004</td><td>5.0</td><td>1.1</td><td>6.4</td><td>1.02</td><td>3.2</td><td>1.17</td><td>4.8</td><td>1.6</td><td>6.0</td><td>2.28</td><td>2.8</td><td>0.98</td></tr><tr><td>2005</td><td>3.8</td><td>1.17</td><td>5.0</td><td>1.1</td><td>1.6</td><td>0.8</td><td>5.2</td><td>0.75</td><td>8.4</td><td>0.8</td><td>2.0</td><td>1.1</td></tr><tr><td>&hellip;</td><td>&hellip;</td><td>&hellip;</td><td>&hellip;</td><td>&hellip;</td><td>&hellip;</td><td>&hellip;</td><td>&hellip;</td><td>&hellip;</td><td>&hellip;</td><td>&hellip;</td><td>&hellip;</td><td>&hellip;</td></tr><tr><td>2054</td><td>5.4</td><td>1.2</td><td>6.0</td><td>1.1</td><td>4.4</td><td>1.36</td><td>3.6</td><td>1.36</td><td>4.2</td><td>1.33</td><td>2.4</td><td>0.8</td></tr><tr><td>2055</td><td>5.0</td><td>1.41</td><td>6.0</td><td>1.41</td><td>4.2</td><td>1.33</td><td>5.2</td><td>1.47</td><td>6.4</td><td>1.62</td><td>4.0</td><td>1.41</td></tr><tr><td>2056</td><td>5.0</td><td>1.41</td><td>5.6</td><td>1.62</td><td>4.4</td><td>1.36</td><td>4.6</td><td>1.74</td><td>5.0</td><td>1.79</td><td>4.0</td><td>1.67</td></tr><tr><td>2057</td><td>3.17</td><td>1.07</td><td>4.5</td><td>0.76</td><td>2.17</td><td>0.9</td><td>6.83</td><td>0.37</td><td>8.17</td><td>0.9</td><td>4.83</td><td>1.46</td></tr><tr><td>2058</td><td>3.8</td><td>0.75</td><td>4.6</td><td>0.8</td><td>2.8</td><td>0.75</td><td>5.8</td><td>1.17</td><td>7.4</td><td>0.8</td><td>3.8</td><td>1.17</td></tr></tbody></table></div>"
      ],
      "text/plain": [
       "shape: (58, 13)\n",
       "┌─────────┬────────────┬───────────┬───────────┬───┬───────────┬───────────┬───────────┬───────────┐\n",
       "│ song_id ┆ valence_me ┆ valence_s ┆ valence_  ┆ … ┆ arousal_m ┆ arousal_m ┆ arousal_m ┆ arousal_m │\n",
       "│ ---     ┆ an         ┆ td        ┆ max_mean  ┆   ┆ ax_mean   ┆ ax_std    ┆ in_mean   ┆ in_std    │\n",
       "│ i64     ┆ ---        ┆ ---       ┆ ---       ┆   ┆ ---       ┆ ---       ┆ ---       ┆ ---       │\n",
       "│         ┆ f64        ┆ f64       ┆ f64       ┆   ┆ f64       ┆ f64       ┆ f64       ┆ f64       │\n",
       "╞═════════╪════════════╪═══════════╪═══════════╪═══╪═══════════╪═══════════╪═══════════╪═══════════╡\n",
       "│ 2001    ┆ 3.2        ┆ 0.98      ┆ 5.0       ┆ … ┆ 8.6       ┆ 0.49      ┆ 3.4       ┆ 1.02      │\n",
       "│ 2002    ┆ 6.4        ┆ 0.49      ┆ 8.2       ┆ … ┆ 7.4       ┆ 1.36      ┆ 2.2       ┆ 1.17      │\n",
       "│ 2003    ┆ 5.4        ┆ 1.5       ┆ 7.2       ┆ … ┆ 6.2       ┆ 2.04      ┆ 1.4       ┆ 0.49      │\n",
       "│ 2004    ┆ 5.0        ┆ 1.1       ┆ 6.4       ┆ … ┆ 6.0       ┆ 2.28      ┆ 2.8       ┆ 0.98      │\n",
       "│ 2005    ┆ 3.8        ┆ 1.17      ┆ 5.0       ┆ … ┆ 8.4       ┆ 0.8       ┆ 2.0       ┆ 1.1       │\n",
       "│ …       ┆ …          ┆ …         ┆ …         ┆ … ┆ …         ┆ …         ┆ …         ┆ …         │\n",
       "│ 2054    ┆ 5.4        ┆ 1.2       ┆ 6.0       ┆ … ┆ 4.2       ┆ 1.33      ┆ 2.4       ┆ 0.8       │\n",
       "│ 2055    ┆ 5.0        ┆ 1.41      ┆ 6.0       ┆ … ┆ 6.4       ┆ 1.62      ┆ 4.0       ┆ 1.41      │\n",
       "│ 2056    ┆ 5.0        ┆ 1.41      ┆ 5.6       ┆ … ┆ 5.0       ┆ 1.79      ┆ 4.0       ┆ 1.67      │\n",
       "│ 2057    ┆ 3.17       ┆ 1.07      ┆ 4.5       ┆ … ┆ 8.17      ┆ 0.9       ┆ 4.83      ┆ 1.46      │\n",
       "│ 2058    ┆ 3.8        ┆ 0.75      ┆ 4.6       ┆ … ┆ 7.4       ┆ 0.8       ┆ 3.8       ┆ 1.17      │\n",
       "└─────────┴────────────┴───────────┴───────────┴───┴───────────┴───────────┴───────────┴───────────┘"
      ]
     },
     "metadata": {},
     "output_type": "display_data"
    }
   ],
   "source": [
    "display(anno_1, anno_2)"
   ]
  },
  {
   "cell_type": "code",
   "execution_count": null,
   "id": "49a3fabd",
   "metadata": {},
   "outputs": [
    {
     "data": {
      "text/html": [
       "<div><style>\n",
       ".dataframe > thead > tr,\n",
       ".dataframe > tbody > tr {\n",
       "  text-align: right;\n",
       "  white-space: pre-wrap;\n",
       "}\n",
       "</style>\n",
       "<small>shape: (1_802, 5)</small><table border=\"1\" class=\"dataframe\"><thead><tr><th>song_id</th><th>valence_mean</th><th>valence_std</th><th>arousal_mean</th><th>arousal_std</th></tr><tr><td>i64</td><td>f64</td><td>f64</td><td>f64</td><td>f64</td></tr></thead><tbody><tr><td>2</td><td>3.1</td><td>0.94</td><td>3.0</td><td>0.63</td></tr><tr><td>3</td><td>3.5</td><td>1.75</td><td>3.3</td><td>1.62</td></tr><tr><td>4</td><td>5.7</td><td>1.42</td><td>5.5</td><td>1.63</td></tr><tr><td>5</td><td>4.4</td><td>2.01</td><td>5.3</td><td>1.85</td></tr><tr><td>7</td><td>5.8</td><td>1.47</td><td>6.4</td><td>1.69</td></tr><tr><td>&hellip;</td><td>&hellip;</td><td>&hellip;</td><td>&hellip;</td><td>&hellip;</td></tr><tr><td>2054</td><td>5.4</td><td>1.2</td><td>3.6</td><td>1.36</td></tr><tr><td>2055</td><td>5.0</td><td>1.41</td><td>5.2</td><td>1.47</td></tr><tr><td>2056</td><td>5.0</td><td>1.41</td><td>4.6</td><td>1.74</td></tr><tr><td>2057</td><td>3.17</td><td>1.07</td><td>6.83</td><td>0.37</td></tr><tr><td>2058</td><td>3.8</td><td>0.75</td><td>5.8</td><td>1.17</td></tr></tbody></table></div>"
      ],
      "text/plain": [
       "shape: (1_802, 5)\n",
       "┌─────────┬──────────────┬─────────────┬──────────────┬─────────────┐\n",
       "│ song_id ┆ valence_mean ┆ valence_std ┆ arousal_mean ┆ arousal_std │\n",
       "│ ---     ┆ ---          ┆ ---         ┆ ---          ┆ ---         │\n",
       "│ i64     ┆ f64          ┆ f64         ┆ f64          ┆ f64         │\n",
       "╞═════════╪══════════════╪═════════════╪══════════════╪═════════════╡\n",
       "│ 2       ┆ 3.1          ┆ 0.94        ┆ 3.0          ┆ 0.63        │\n",
       "│ 3       ┆ 3.5          ┆ 1.75        ┆ 3.3          ┆ 1.62        │\n",
       "│ 4       ┆ 5.7          ┆ 1.42        ┆ 5.5          ┆ 1.63        │\n",
       "│ 5       ┆ 4.4          ┆ 2.01        ┆ 5.3          ┆ 1.85        │\n",
       "│ 7       ┆ 5.8          ┆ 1.47        ┆ 6.4          ┆ 1.69        │\n",
       "│ …       ┆ …            ┆ …           ┆ …            ┆ …           │\n",
       "│ 2054    ┆ 5.4          ┆ 1.2         ┆ 3.6          ┆ 1.36        │\n",
       "│ 2055    ┆ 5.0          ┆ 1.41        ┆ 5.2          ┆ 1.47        │\n",
       "│ 2056    ┆ 5.0          ┆ 1.41        ┆ 4.6          ┆ 1.74        │\n",
       "│ 2057    ┆ 3.17         ┆ 1.07        ┆ 6.83         ┆ 0.37        │\n",
       "│ 2058    ┆ 3.8          ┆ 0.75        ┆ 5.8          ┆ 1.17        │\n",
       "└─────────┴──────────────┴─────────────┴──────────────┴─────────────┘"
      ]
     },
     "execution_count": 19,
     "metadata": {},
     "output_type": "execute_result"
    }
   ],
   "source": [
    "pl.concat(\n",
    "    [\n",
    "        anno_1,\n",
    "        anno_2.select(\n",
    "            \"song_id\", \"valence_mean\", \"valence_std\", \"arousal_mean\", \"arousal_std\"\n",
    "        ),\n",
    "    ],\n",
    "    how=\"vertical\",\n",
    ")\n"
   ]
  }
 ],
 "metadata": {
  "kernelspec": {
   "display_name": ".venv",
   "language": "python",
   "name": "python3"
  },
  "language_info": {
   "codemirror_mode": {
    "name": "ipython",
    "version": 3
   },
   "file_extension": ".py",
   "mimetype": "text/x-python",
   "name": "python",
   "nbconvert_exporter": "python",
   "pygments_lexer": "ipython3",
   "version": "3.12.11"
  }
 },
 "nbformat": 4,
 "nbformat_minor": 5
}
